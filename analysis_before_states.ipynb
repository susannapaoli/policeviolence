{
 "cells": [
  {
   "cell_type": "code",
   "execution_count": 1,
   "id": "1de8e350",
   "metadata": {},
   "outputs": [
    {
     "name": "stderr",
     "output_type": "stream",
     "text": [
      "[nltk_data] Downloading package wordnet to\n",
      "[nltk_data]     /Users/gigimancinelli./nltk_data...\n",
      "[nltk_data]   Package wordnet is already up-to-date!\n"
     ]
    }
   ],
   "source": [
    "import pandas as pd\n",
    "from gensim.models import Word2Vec\n",
    "import re\n",
    "from nltk.stem import SnowballStemmer, WordNetLemmatizer\n",
    "stemmer = SnowballStemmer('english')\n",
    "import nltk\n",
    "nltk.download('wordnet')\n",
    "import numpy as np\n",
    "lemmatizer = WordNetLemmatizer()\n"
   ]
  },
  {
   "cell_type": "code",
   "execution_count": 2,
   "id": "08654ca6",
   "metadata": {},
   "outputs": [],
   "source": [
    "criminality = ['theft', 'deviance', 'indictment', 'criminalization', 'guilt', 'government', 'tort', \n",
    "               'criminalness', 'criminalism', 'imprisonment', 'punishment', 'law', 'banditry', 'lawlessness', \n",
    "               'statutory', 'illegality', 'murder', 'immorality', 'sectarianism', 'dishonesty', \n",
    "               'impunity', 'criminalisation', 'brutality', 'thuggery', 'trial', 'recklessness', 'militancy', \n",
    "               'decriminalization', 'sentence', 'bigotry', 'extremism', 'viciousness', 'duplicity', \n",
    "               'xenophobia', 'mysonygy', 'stupidity', 'hypocrisy', 'irresponsibility', 'racism',\n",
    "               'illegalities', 'coercion', 'vigilantism', 'imprisonment', 'plaintiff', 'criminology', \n",
    "               'felony', 'desertion', 'charge', 'power', 'wrong']\n",
    "mental = ['schizophrenia', 'depression', 'bipolar', 'disorder', 'antisocial', 'personality', 'psychosis', \n",
    "          'psychotherapy', 'dementia', 'psychopathy', 'disability', 'anxiety', 'illness', 'alcoholism', 'brain', \n",
    "          'diagnosis', 'mind', 'symptoms', 'delusions', 'hallucinations', 'chronic', 'attention', 'deficit', \n",
    "          'hyperactivity', 'psychiatrists', 'disease', 'stress', 'epilepsy', 'agoraphobia', 'suffering', \n",
    "          'dysthymia', 'hypomania', 'sclerosis', 'psychiatric', 'psychological', 'disabilities', 'paraphilia', \n",
    "          'ocd', 'psychotic', 'syndrome', 'delusional', 'community', 'eating', 'disorder', 'anorexia', 'bulimia', \n",
    "          'nervosa', 'sickness', 'substance', 'abuse']"
   ]
  },
  {
   "cell_type": "code",
   "execution_count": 3,
   "id": "dfa8877f",
   "metadata": {},
   "outputs": [
    {
     "data": {
      "text/plain": [
       "50"
      ]
     },
     "execution_count": 3,
     "metadata": {},
     "output_type": "execute_result"
    }
   ],
   "source": [
    "len(criminality)"
   ]
  },
  {
   "cell_type": "code",
   "execution_count": 4,
   "id": "bd3e641f",
   "metadata": {},
   "outputs": [
    {
     "data": {
      "text/plain": [
       "50"
      ]
     },
     "execution_count": 4,
     "metadata": {},
     "output_type": "execute_result"
    }
   ],
   "source": [
    "len(mental)"
   ]
  },
  {
   "cell_type": "code",
   "execution_count": 5,
   "id": "37e7773b",
   "metadata": {},
   "outputs": [],
   "source": [
    "model = Word2Vec.load(\"./model/word2vec_before_floyd.model\")"
   ]
  },
  {
   "cell_type": "code",
   "execution_count": 6,
   "id": "13e5dc84",
   "metadata": {},
   "outputs": [],
   "source": [
    "df = pd.read_csv(\"./data/mpv_clean_pattern_stop.csv\")"
   ]
  },
  {
   "cell_type": "code",
   "execution_count": 7,
   "id": "18886ab7",
   "metadata": {},
   "outputs": [
    {
     "data": {
      "text/html": [
       "<div>\n",
       "<style scoped>\n",
       "    .dataframe tbody tr th:only-of-type {\n",
       "        vertical-align: middle;\n",
       "    }\n",
       "\n",
       "    .dataframe tbody tr th {\n",
       "        vertical-align: top;\n",
       "    }\n",
       "\n",
       "    .dataframe thead th {\n",
       "        text-align: right;\n",
       "    }\n",
       "</style>\n",
       "<table border=\"1\" class=\"dataframe\">\n",
       "  <thead>\n",
       "    <tr style=\"text-align: right;\">\n",
       "      <th></th>\n",
       "      <th>Unnamed: 0</th>\n",
       "      <th>name</th>\n",
       "      <th>gender</th>\n",
       "      <th>race</th>\n",
       "      <th>age</th>\n",
       "      <th>date</th>\n",
       "      <th>after_Floyd</th>\n",
       "      <th>city</th>\n",
       "      <th>state</th>\n",
       "      <th>cause_of_death</th>\n",
       "      <th>...</th>\n",
       "      <th>wapo_armed</th>\n",
       "      <th>wapo_threat_level</th>\n",
       "      <th>wapo_flee</th>\n",
       "      <th>wapo_body_camera</th>\n",
       "      <th>initial_reason</th>\n",
       "      <th>text</th>\n",
       "      <th>authors</th>\n",
       "      <th>TextColumn</th>\n",
       "      <th>cleaned</th>\n",
       "      <th>sentences</th>\n",
       "    </tr>\n",
       "  </thead>\n",
       "  <tbody>\n",
       "    <tr>\n",
       "      <th>0</th>\n",
       "      <td>0</td>\n",
       "      <td>Clyde E. Young</td>\n",
       "      <td>Male</td>\n",
       "      <td>White</td>\n",
       "      <td>28.0</td>\n",
       "      <td>2024-02-22</td>\n",
       "      <td>True</td>\n",
       "      <td>West Alton</td>\n",
       "      <td>MO</td>\n",
       "      <td>Gunshot</td>\n",
       "      <td>...</td>\n",
       "      <td>NaN</td>\n",
       "      <td>Used Weapon</td>\n",
       "      <td>Not Fleeing</td>\n",
       "      <td>NaN</td>\n",
       "      <td>Murder (suspect)</td>\n",
       "      <td>['A Godfrey man who had been charged with murd...</td>\n",
       "      <td>[['Mike Koziatek'], []]</td>\n",
       "      <td>a godfrey man who had been charged with murd...</td>\n",
       "      <td>godfrey man who had been charged with murder i...</td>\n",
       "      <td>[['godfrey', 'man', 'charg', 'murder', 'shoot'...</td>\n",
       "    </tr>\n",
       "    <tr>\n",
       "      <th>1</th>\n",
       "      <td>1</td>\n",
       "      <td>Clyde E. Young</td>\n",
       "      <td>Male</td>\n",
       "      <td>White</td>\n",
       "      <td>28.0</td>\n",
       "      <td>2024-02-22</td>\n",
       "      <td>True</td>\n",
       "      <td>West Alton</td>\n",
       "      <td>MO</td>\n",
       "      <td>Gunshot</td>\n",
       "      <td>...</td>\n",
       "      <td>NaN</td>\n",
       "      <td>Used Weapon</td>\n",
       "      <td>Not Fleeing</td>\n",
       "      <td>NaN</td>\n",
       "      <td>Murder (suspect)</td>\n",
       "      <td>['The man, identified as Clyde Young, was char...</td>\n",
       "      <td>[['Mike Koziatek'], []]</td>\n",
       "      <td>the man  identified as clyde young  was char...</td>\n",
       "      <td>the man identified as clyde young was charged ...</td>\n",
       "      <td>[['man', 'identifi', 'clyde', 'young', 'charg'...</td>\n",
       "    </tr>\n",
       "    <tr>\n",
       "      <th>2</th>\n",
       "      <td>2</td>\n",
       "      <td>Jamarcus Brown</td>\n",
       "      <td>Male</td>\n",
       "      <td>Black</td>\n",
       "      <td>35.0</td>\n",
       "      <td>2024-02-21</td>\n",
       "      <td>True</td>\n",
       "      <td>Lake Cormorant</td>\n",
       "      <td>MS</td>\n",
       "      <td>Gunshot</td>\n",
       "      <td>...</td>\n",
       "      <td>NaN</td>\n",
       "      <td>Attack</td>\n",
       "      <td>Car</td>\n",
       "      <td>Victim Facebook Live Video</td>\n",
       "      <td>Traffic Stop</td>\n",
       "      <td>['DESOTO COUNTY, Miss. (WMC) - Mississippi Bur...</td>\n",
       "      <td>[[], ['Lakiya Scott'], []]</td>\n",
       "      <td>desoto county  miss   wmc    mississippi bur...</td>\n",
       "      <td>desoto county miss wmc mississippi bureau of i...</td>\n",
       "      <td>[['desoto', 'counti', 'miss', 'wmc', 'mississi...</td>\n",
       "    </tr>\n",
       "    <tr>\n",
       "      <th>3</th>\n",
       "      <td>3</td>\n",
       "      <td>Jamarcus Brown</td>\n",
       "      <td>Male</td>\n",
       "      <td>Black</td>\n",
       "      <td>35.0</td>\n",
       "      <td>2024-02-21</td>\n",
       "      <td>True</td>\n",
       "      <td>Lake Cormorant</td>\n",
       "      <td>MS</td>\n",
       "      <td>Gunshot</td>\n",
       "      <td>...</td>\n",
       "      <td>NaN</td>\n",
       "      <td>Attack</td>\n",
       "      <td>Car</td>\n",
       "      <td>Victim Facebook Live Video</td>\n",
       "      <td>Traffic Stop</td>\n",
       "      <td>['Close Get email notifications on {{subject}}...</td>\n",
       "      <td>[[], ['Lakiya Scott'], []]</td>\n",
       "      <td>close get email notifications on   subject  ...</td>\n",
       "      <td>close get on subject are only sent and only if...</td>\n",
       "      <td>[['close', 'get', 'subject', 'sent', 'new']]</td>\n",
       "    </tr>\n",
       "    <tr>\n",
       "      <th>4</th>\n",
       "      <td>4</td>\n",
       "      <td>Jamarcus Brown</td>\n",
       "      <td>Male</td>\n",
       "      <td>Black</td>\n",
       "      <td>35.0</td>\n",
       "      <td>2024-02-21</td>\n",
       "      <td>True</td>\n",
       "      <td>Lake Cormorant</td>\n",
       "      <td>MS</td>\n",
       "      <td>Gunshot</td>\n",
       "      <td>...</td>\n",
       "      <td>NaN</td>\n",
       "      <td>Attack</td>\n",
       "      <td>Car</td>\n",
       "      <td>Victim Facebook Live Video</td>\n",
       "      <td>Traffic Stop</td>\n",
       "      <td>['The Carlos Moore Law Group said it has been ...</td>\n",
       "      <td>[[], ['Lakiya Scott'], []]</td>\n",
       "      <td>the carlos moore law group said it has been ...</td>\n",
       "      <td>the carlos moore law group said it has been re...</td>\n",
       "      <td>[['carlo', 'moor', 'law', 'group', 'said', 're...</td>\n",
       "    </tr>\n",
       "  </tbody>\n",
       "</table>\n",
       "<p>5 rows × 25 columns</p>\n",
       "</div>"
      ],
      "text/plain": [
       "   Unnamed: 0            name gender   race   age        date  after_Floyd  \\\n",
       "0           0  Clyde E. Young   Male  White  28.0  2024-02-22         True   \n",
       "1           1  Clyde E. Young   Male  White  28.0  2024-02-22         True   \n",
       "2           2  Jamarcus Brown   Male  Black  35.0  2024-02-21         True   \n",
       "3           3  Jamarcus Brown   Male  Black  35.0  2024-02-21         True   \n",
       "4           4  Jamarcus Brown   Male  Black  35.0  2024-02-21         True   \n",
       "\n",
       "             city state cause_of_death  ... wapo_armed wapo_threat_level  \\\n",
       "0      West Alton    MO        Gunshot  ...        NaN       Used Weapon   \n",
       "1      West Alton    MO        Gunshot  ...        NaN       Used Weapon   \n",
       "2  Lake Cormorant    MS        Gunshot  ...        NaN            Attack   \n",
       "3  Lake Cormorant    MS        Gunshot  ...        NaN            Attack   \n",
       "4  Lake Cormorant    MS        Gunshot  ...        NaN            Attack   \n",
       "\n",
       "     wapo_flee            wapo_body_camera    initial_reason  \\\n",
       "0  Not Fleeing                         NaN  Murder (suspect)   \n",
       "1  Not Fleeing                         NaN  Murder (suspect)   \n",
       "2          Car  Victim Facebook Live Video      Traffic Stop   \n",
       "3          Car  Victim Facebook Live Video      Traffic Stop   \n",
       "4          Car  Victim Facebook Live Video      Traffic Stop   \n",
       "\n",
       "                                                text  \\\n",
       "0  ['A Godfrey man who had been charged with murd...   \n",
       "1  ['The man, identified as Clyde Young, was char...   \n",
       "2  ['DESOTO COUNTY, Miss. (WMC) - Mississippi Bur...   \n",
       "3  ['Close Get email notifications on {{subject}}...   \n",
       "4  ['The Carlos Moore Law Group said it has been ...   \n",
       "\n",
       "                      authors  \\\n",
       "0     [['Mike Koziatek'], []]   \n",
       "1     [['Mike Koziatek'], []]   \n",
       "2  [[], ['Lakiya Scott'], []]   \n",
       "3  [[], ['Lakiya Scott'], []]   \n",
       "4  [[], ['Lakiya Scott'], []]   \n",
       "\n",
       "                                          TextColumn  \\\n",
       "0    a godfrey man who had been charged with murd...   \n",
       "1    the man  identified as clyde young  was char...   \n",
       "2    desoto county  miss   wmc    mississippi bur...   \n",
       "3    close get email notifications on   subject  ...   \n",
       "4    the carlos moore law group said it has been ...   \n",
       "\n",
       "                                             cleaned  \\\n",
       "0  godfrey man who had been charged with murder i...   \n",
       "1  the man identified as clyde young was charged ...   \n",
       "2  desoto county miss wmc mississippi bureau of i...   \n",
       "3  close get on subject are only sent and only if...   \n",
       "4  the carlos moore law group said it has been re...   \n",
       "\n",
       "                                           sentences  \n",
       "0  [['godfrey', 'man', 'charg', 'murder', 'shoot'...  \n",
       "1  [['man', 'identifi', 'clyde', 'young', 'charg'...  \n",
       "2  [['desoto', 'counti', 'miss', 'wmc', 'mississi...  \n",
       "3       [['close', 'get', 'subject', 'sent', 'new']]  \n",
       "4  [['carlo', 'moor', 'law', 'group', 'said', 're...  \n",
       "\n",
       "[5 rows x 25 columns]"
      ]
     },
     "execution_count": 7,
     "metadata": {},
     "output_type": "execute_result"
    }
   ],
   "source": [
    "df.head()"
   ]
  },
  {
   "cell_type": "code",
   "execution_count": 8,
   "id": "adac1034",
   "metadata": {},
   "outputs": [],
   "source": [
    "states = pd.read_csv(\"./data/full_dataset_mpv.csv\",low_memory=False)\n",
    "most_violent_states = states.groupby('state').count().sort_values('name', ascending=False).index[:3]\n",
    "most_violent_states = most_violent_states.tolist()"
   ]
  },
  {
   "cell_type": "code",
   "execution_count": 9,
   "id": "90cfb2e3",
   "metadata": {},
   "outputs": [
    {
     "data": {
      "text/html": [
       "<div>\n",
       "<style scoped>\n",
       "    .dataframe tbody tr th:only-of-type {\n",
       "        vertical-align: middle;\n",
       "    }\n",
       "\n",
       "    .dataframe tbody tr th {\n",
       "        vertical-align: top;\n",
       "    }\n",
       "\n",
       "    .dataframe thead th {\n",
       "        text-align: right;\n",
       "    }\n",
       "</style>\n",
       "<table border=\"1\" class=\"dataframe\">\n",
       "  <thead>\n",
       "    <tr style=\"text-align: right;\">\n",
       "      <th></th>\n",
       "      <th>Unnamed: 0</th>\n",
       "      <th>name</th>\n",
       "      <th>gender</th>\n",
       "      <th>race</th>\n",
       "      <th>age</th>\n",
       "      <th>date</th>\n",
       "      <th>after_Floyd</th>\n",
       "      <th>city</th>\n",
       "      <th>state</th>\n",
       "      <th>cause_of_death</th>\n",
       "      <th>...</th>\n",
       "      <th>wapo_armed</th>\n",
       "      <th>wapo_threat_level</th>\n",
       "      <th>wapo_flee</th>\n",
       "      <th>wapo_body_camera</th>\n",
       "      <th>initial_reason</th>\n",
       "      <th>text</th>\n",
       "      <th>authors</th>\n",
       "      <th>TextColumn</th>\n",
       "      <th>cleaned</th>\n",
       "      <th>sentences</th>\n",
       "    </tr>\n",
       "  </thead>\n",
       "  <tbody>\n",
       "    <tr>\n",
       "      <th>9541</th>\n",
       "      <td>9541</td>\n",
       "      <td>Reymar Gagarin</td>\n",
       "      <td>Male</td>\n",
       "      <td>Native Hawaiian and Pacific Islander</td>\n",
       "      <td>35.0</td>\n",
       "      <td>2020-05-25</td>\n",
       "      <td>False</td>\n",
       "      <td>Modesto</td>\n",
       "      <td>CA</td>\n",
       "      <td>Gunshot</td>\n",
       "      <td>...</td>\n",
       "      <td>Toy Weapon</td>\n",
       "      <td>Attack</td>\n",
       "      <td>Not Fleeing</td>\n",
       "      <td>Yes</td>\n",
       "      <td>Suspicious Person</td>\n",
       "      <td>['One man was killed after an officer-involved...</td>\n",
       "      <td>[['Kcra Staff', 'Https', 'Www.Facebook.Com']]</td>\n",
       "      <td>one man was killed after an officer involved...</td>\n",
       "      <td>one man was killed after an officer involved s...</td>\n",
       "      <td>[['one', 'man', 'kill', 'offic', 'involv', 'sh...</td>\n",
       "    </tr>\n",
       "    <tr>\n",
       "      <th>9542</th>\n",
       "      <td>9542</td>\n",
       "      <td>George Floyd</td>\n",
       "      <td>Male</td>\n",
       "      <td>Black</td>\n",
       "      <td>46.0</td>\n",
       "      <td>2020-05-25</td>\n",
       "      <td>False</td>\n",
       "      <td>Minneapolis</td>\n",
       "      <td>MN</td>\n",
       "      <td>Physical Restraint</td>\n",
       "      <td>...</td>\n",
       "      <td>No Object</td>\n",
       "      <td>Other</td>\n",
       "      <td>Not Fleeing</td>\n",
       "      <td>Yes</td>\n",
       "      <td>Forged check</td>\n",
       "      <td>['The FBI and authorities in Minnesota have la...</td>\n",
       "      <td>[['Kenya Evelyn'], []]</td>\n",
       "      <td>the fbi and authorities in minnesota have la...</td>\n",
       "      <td>the fbi and authorities in minnesota have laun...</td>\n",
       "      <td>[['fbi', 'author', 'minnesota', 'launch', 'inv...</td>\n",
       "    </tr>\n",
       "    <tr>\n",
       "      <th>9543</th>\n",
       "      <td>9543</td>\n",
       "      <td>George Floyd</td>\n",
       "      <td>Male</td>\n",
       "      <td>Black</td>\n",
       "      <td>46.0</td>\n",
       "      <td>2020-05-25</td>\n",
       "      <td>False</td>\n",
       "      <td>Minneapolis</td>\n",
       "      <td>MN</td>\n",
       "      <td>Physical Restraint</td>\n",
       "      <td>...</td>\n",
       "      <td>No Object</td>\n",
       "      <td>Other</td>\n",
       "      <td>Not Fleeing</td>\n",
       "      <td>Yes</td>\n",
       "      <td>Forged check</td>\n",
       "      <td>['']</td>\n",
       "      <td>[['Kenya Evelyn'], []]</td>\n",
       "      <td></td>\n",
       "      <td>NaN</td>\n",
       "      <td>[]</td>\n",
       "    </tr>\n",
       "    <tr>\n",
       "      <th>9557</th>\n",
       "      <td>9557</td>\n",
       "      <td>Stoney Ramirez</td>\n",
       "      <td>Male</td>\n",
       "      <td>Hispanic</td>\n",
       "      <td>NaN</td>\n",
       "      <td>2020-05-20</td>\n",
       "      <td>False</td>\n",
       "      <td>Hayward</td>\n",
       "      <td>CA</td>\n",
       "      <td>Gunshot</td>\n",
       "      <td>...</td>\n",
       "      <td>Vehicle</td>\n",
       "      <td>Attack</td>\n",
       "      <td>NaN</td>\n",
       "      <td>Yes</td>\n",
       "      <td>Traffic Violation</td>\n",
       "      <td>['A man in his 20s died in an officer-involved...</td>\n",
       "      <td>[[]]</td>\n",
       "      <td>a man in his XXXXXXs died in an officer invo...</td>\n",
       "      <td>man in his died in an officer involved shootin...</td>\n",
       "      <td>[['man', 'die', 'offic', 'involv', 'shoot', 'h...</td>\n",
       "    </tr>\n",
       "    <tr>\n",
       "      <th>9558</th>\n",
       "      <td>9558</td>\n",
       "      <td>Name Withheld</td>\n",
       "      <td>Male</td>\n",
       "      <td>Unknown race</td>\n",
       "      <td>NaN</td>\n",
       "      <td>2020-05-20</td>\n",
       "      <td>False</td>\n",
       "      <td>Viera</td>\n",
       "      <td>FL</td>\n",
       "      <td>Gunshot</td>\n",
       "      <td>...</td>\n",
       "      <td>Gun</td>\n",
       "      <td>Attack</td>\n",
       "      <td>Not Fleeing</td>\n",
       "      <td>No</td>\n",
       "      <td>erratic behavior (suicidal)</td>\n",
       "      <td>['BREVARD COUNTY, Fla. – The Brevard County Sh...</td>\n",
       "      <td>[['Erin Dobrzyn', 'Jerry Askin']]</td>\n",
       "      <td>brevard county  fla    the brevard county sh...</td>\n",
       "      <td>brevard county fla the brevard county sheriff ...</td>\n",
       "      <td>[['brevard', 'counti', 'fla', 'brevard', 'coun...</td>\n",
       "    </tr>\n",
       "  </tbody>\n",
       "</table>\n",
       "<p>5 rows × 25 columns</p>\n",
       "</div>"
      ],
      "text/plain": [
       "      Unnamed: 0            name gender                                  race  \\\n",
       "9541        9541  Reymar Gagarin   Male  Native Hawaiian and Pacific Islander   \n",
       "9542        9542    George Floyd   Male                                 Black   \n",
       "9543        9543    George Floyd   Male                                 Black   \n",
       "9557        9557  Stoney Ramirez   Male                              Hispanic   \n",
       "9558        9558   Name Withheld   Male                          Unknown race   \n",
       "\n",
       "       age        date  after_Floyd         city state      cause_of_death  \\\n",
       "9541  35.0  2020-05-25        False      Modesto    CA             Gunshot   \n",
       "9542  46.0  2020-05-25        False  Minneapolis    MN  Physical Restraint   \n",
       "9543  46.0  2020-05-25        False  Minneapolis    MN  Physical Restraint   \n",
       "9557   NaN  2020-05-20        False      Hayward    CA             Gunshot   \n",
       "9558   NaN  2020-05-20        False        Viera    FL             Gunshot   \n",
       "\n",
       "      ...  wapo_armed wapo_threat_level    wapo_flee wapo_body_camera  \\\n",
       "9541  ...  Toy Weapon            Attack  Not Fleeing              Yes   \n",
       "9542  ...   No Object             Other  Not Fleeing              Yes   \n",
       "9543  ...   No Object             Other  Not Fleeing              Yes   \n",
       "9557  ...     Vehicle            Attack          NaN              Yes   \n",
       "9558  ...         Gun            Attack  Not Fleeing               No   \n",
       "\n",
       "                   initial_reason  \\\n",
       "9541            Suspicious Person   \n",
       "9542                 Forged check   \n",
       "9543                 Forged check   \n",
       "9557            Traffic Violation   \n",
       "9558  erratic behavior (suicidal)   \n",
       "\n",
       "                                                   text  \\\n",
       "9541  ['One man was killed after an officer-involved...   \n",
       "9542  ['The FBI and authorities in Minnesota have la...   \n",
       "9543                                               ['']   \n",
       "9557  ['A man in his 20s died in an officer-involved...   \n",
       "9558  ['BREVARD COUNTY, Fla. – The Brevard County Sh...   \n",
       "\n",
       "                                            authors  \\\n",
       "9541  [['Kcra Staff', 'Https', 'Www.Facebook.Com']]   \n",
       "9542                         [['Kenya Evelyn'], []]   \n",
       "9543                         [['Kenya Evelyn'], []]   \n",
       "9557                                           [[]]   \n",
       "9558              [['Erin Dobrzyn', 'Jerry Askin']]   \n",
       "\n",
       "                                             TextColumn  \\\n",
       "9541    one man was killed after an officer involved...   \n",
       "9542    the fbi and authorities in minnesota have la...   \n",
       "9543                                                      \n",
       "9557    a man in his XXXXXXs died in an officer invo...   \n",
       "9558    brevard county  fla    the brevard county sh...   \n",
       "\n",
       "                                                cleaned  \\\n",
       "9541  one man was killed after an officer involved s...   \n",
       "9542  the fbi and authorities in minnesota have laun...   \n",
       "9543                                                NaN   \n",
       "9557  man in his died in an officer involved shootin...   \n",
       "9558  brevard county fla the brevard county sheriff ...   \n",
       "\n",
       "                                              sentences  \n",
       "9541  [['one', 'man', 'kill', 'offic', 'involv', 'sh...  \n",
       "9542  [['fbi', 'author', 'minnesota', 'launch', 'inv...  \n",
       "9543                                                 []  \n",
       "9557  [['man', 'die', 'offic', 'involv', 'shoot', 'h...  \n",
       "9558  [['brevard', 'counti', 'fla', 'brevard', 'coun...  \n",
       "\n",
       "[5 rows x 25 columns]"
      ]
     },
     "execution_count": 9,
     "metadata": {},
     "output_type": "execute_result"
    }
   ],
   "source": [
    "most_violent_states.append('MN')\n",
    "df = df[(df.after_Floyd == 0) & (df.state.isin(most_violent_states))]\n",
    "df.head()"
   ]
  },
  {
   "cell_type": "code",
   "execution_count": 10,
   "id": "0d75e377",
   "metadata": {},
   "outputs": [],
   "source": [
    "def create_embedding(text):\n",
    "    text = re.sub(r'[^a-zA-Z0-9]', ' ', text)\n",
    "    text = text.strip()\n",
    "    embeddings = [model.wv[word] for word in text.split()]\n",
    "    if len(embeddings) == 0:\n",
    "        return 0\n",
    "    emb = sum(embeddings) / len(embeddings)\n",
    "    return emb"
   ]
  },
  {
   "cell_type": "code",
   "execution_count": 11,
   "id": "269a679d",
   "metadata": {},
   "outputs": [],
   "source": [
    "for state in most_violent_states:\n",
    "    df_state = df[df.state == state]\n",
    "    df.loc[:,f'emb_{state}'] = df_state.sentences.apply(create_embedding)"
   ]
  },
  {
   "cell_type": "code",
   "execution_count": 12,
   "id": "30cecc4e",
   "metadata": {},
   "outputs": [
    {
     "data": {
      "text/plain": [
       "array(['Unarmed/Did Not Have Actual Weapon', 'Vehicle', 'Allegedly Armed',\n",
       "       'Unclear'], dtype=object)"
      ]
     },
     "execution_count": 12,
     "metadata": {},
     "output_type": "execute_result"
    }
   ],
   "source": [
    "df.allegedly_armed.unique()"
   ]
  },
  {
   "cell_type": "code",
   "execution_count": 13,
   "id": "815279bd",
   "metadata": {},
   "outputs": [
    {
     "data": {
      "text/plain": [
       "array([-0.3679473 ,  0.32287943,  0.1252787 ,  0.13544944, -0.16987342,\n",
       "       -0.07848951, -0.33032185,  0.35187235, -0.81223065, -0.54547834,\n",
       "       -0.35864922,  0.42512488, -0.01866508,  0.7889193 ,  0.42515412,\n",
       "       -0.4334894 ,  0.6381969 , -0.4539734 , -0.26614377, -0.01775541,\n",
       "       -0.4638831 ,  0.27686396, -0.5346955 ,  0.7581445 ,  0.97852176,\n",
       "       -0.36869565, -0.39785084,  0.03029194, -0.01708296, -0.24162965,\n",
       "       -0.8712927 ,  0.17923881, -0.79671216,  0.67996675,  0.42138928,\n",
       "        0.00903549,  0.2927024 , -0.8051558 ,  0.1718284 ,  0.66886914,\n",
       "        0.56173027, -0.62983423,  1.065963  , -0.49870175,  0.08697744,\n",
       "        0.27949527,  0.89651686,  0.8642262 ,  0.23378254, -0.19091521,\n",
       "        0.02444307, -0.350121  , -0.40412512, -0.25478232,  0.5579426 ,\n",
       "       -0.06154435, -0.7685    ,  0.33099902, -0.4993217 ,  0.73295516,\n",
       "       -0.16260976, -0.312042  , -0.21779776, -0.03287746,  0.0189744 ,\n",
       "       -0.21582994,  0.2826874 , -0.5876288 , -0.28638208,  0.1276679 ,\n",
       "        0.05701742, -0.26034975, -0.10845193, -0.63839537,  0.3740756 ,\n",
       "        0.11584357,  0.51958567,  0.11260878,  0.28753594, -0.02681343,\n",
       "       -0.4456177 ,  0.54861087, -0.54156905,  0.74590063, -0.48632646,\n",
       "       -0.28748035, -0.52420926, -0.32810628,  0.60700536,  0.5796247 ,\n",
       "       -0.13520108,  0.06675506, -0.05008909,  0.30392382,  0.6806061 ,\n",
       "       -0.01178561, -0.41604277, -0.56933475, -0.24869393, -0.00386209],\n",
       "      dtype=float32)"
      ]
     },
     "execution_count": 13,
     "metadata": {},
     "output_type": "execute_result"
    }
   ],
   "source": [
    "df.iloc[0].emb_CA"
   ]
  },
  {
   "cell_type": "code",
   "execution_count": 14,
   "id": "769171a6",
   "metadata": {},
   "outputs": [],
   "source": [
    "def create_embedding_dimension_lem(l):\n",
    "    lemmatized = [lemmatizer.lemmatize(w) for w in l] \n",
    "    embeddings = [model.wv[word] for word in lemmatized if word in model.wv]\n",
    "    if len(embeddings) == 0:\n",
    "        return 0\n",
    "    emb = sum(embeddings) / len(embeddings)\n",
    "    return emb"
   ]
  },
  {
   "cell_type": "code",
   "execution_count": 15,
   "id": "91353800",
   "metadata": {},
   "outputs": [],
   "source": [
    "def create_embedding_dimension(l):\n",
    "    stemmed = [stemmer.stem(w) for w in l] \n",
    "    embeddings = [model.wv[word] for word in stemmed if word in model.wv]\n",
    "    if len(embeddings) == 0:\n",
    "        return 0\n",
    "    emb = sum(embeddings) / len(embeddings)\n",
    "    return emb"
   ]
  },
  {
   "cell_type": "code",
   "execution_count": 16,
   "id": "5ce64815",
   "metadata": {},
   "outputs": [],
   "source": [
    "criminal_dimension = create_embedding_dimension(criminality)\n",
    "mental_dimension = create_embedding_dimension(mental)"
   ]
  },
  {
   "cell_type": "code",
   "execution_count": 17,
   "id": "fcde5383",
   "metadata": {},
   "outputs": [],
   "source": [
    "criminal_dimension_lem = create_embedding_dimension_lem(criminality)\n",
    "mental_dimension_lem = create_embedding_dimension_lem(mental)"
   ]
  },
  {
   "cell_type": "code",
   "execution_count": 18,
   "id": "963d1216",
   "metadata": {},
   "outputs": [
    {
     "data": {
      "text/plain": [
       "array([ 0.16450872, -0.5754865 , -0.23153691, -0.01478629, -0.35141757,\n",
       "        0.60716   ,  0.03755226, -0.02729095,  0.06187922,  0.20751795,\n",
       "        0.06461097,  0.65000856,  0.02833593,  0.43889856, -0.06187674,\n",
       "       -0.10422292,  0.2400769 ,  0.1459391 , -0.31555203, -0.26375467,\n",
       "        0.38144684,  0.02127731, -0.3139545 ,  0.7098815 ,  0.21419723,\n",
       "       -0.1659213 , -0.27394807, -0.2232126 , -0.45663685,  0.04503582,\n",
       "        0.20316668, -0.2708475 ,  0.08834095, -0.04616502, -0.10659347,\n",
       "        0.21436906,  0.24270985, -0.27659386,  0.11043117,  0.16319868,\n",
       "        0.28631097, -0.18019697,  0.5817863 , -0.01376015, -0.42161602,\n",
       "        0.07092178,  0.2667014 , -0.03237163, -0.03101639, -0.10037074,\n",
       "       -0.09763314, -0.54776347,  0.01986785,  0.21024032, -0.01625049,\n",
       "        0.05152525, -0.1717684 ,  0.10497241, -0.18291683,  0.03406792,\n",
       "       -0.20309687,  0.19475761, -0.26603618, -0.05790906, -0.33787602,\n",
       "       -0.0632514 , -0.1514766 , -0.08661533, -0.36230874, -0.1512579 ,\n",
       "        0.11130538, -0.08169744, -0.5347212 , -0.15843053, -0.19378375,\n",
       "        0.3039016 ,  0.18520813,  0.22102773,  0.24858733, -0.07392175,\n",
       "        0.15465851, -0.16497698, -0.30135632,  0.11882865, -0.39866614,\n",
       "       -0.08149526, -0.21176486,  0.0731058 , -0.05444111,  0.20827703,\n",
       "       -0.6605332 ,  0.31422627, -0.19593045,  0.09743956,  0.36933908,\n",
       "       -0.29388258,  0.29814512,  0.21915908,  0.09865464,  0.2333368 ],\n",
       "      dtype=float32)"
      ]
     },
     "execution_count": 18,
     "metadata": {},
     "output_type": "execute_result"
    }
   ],
   "source": [
    "criminal_dimension"
   ]
  },
  {
   "cell_type": "code",
   "execution_count": 19,
   "id": "ab59908d",
   "metadata": {},
   "outputs": [
    {
     "data": {
      "text/plain": [
       "array([-0.02536458, -0.13179745, -0.23405544,  0.10342605, -0.26183134,\n",
       "        0.4039547 ,  0.39049435,  0.25825715, -0.01933487, -0.08694631,\n",
       "        0.093891  ,  0.37841862,  0.06689981,  0.09644082,  0.07104122,\n",
       "       -0.15498051,  0.3004254 , -0.04578625,  0.02012766, -0.2388821 ,\n",
       "        0.5850873 , -0.02011888,  0.07660916,  0.37409458, -0.24882817,\n",
       "        0.30912018, -0.37777427, -0.06455736, -0.22267419, -0.14666554,\n",
       "        0.05574656, -0.17977662, -0.08084849, -0.2684792 ,  0.10461606,\n",
       "        0.24892792, -0.08421971, -0.20174411,  0.08974564,  0.23545484,\n",
       "        0.23178698, -0.2748743 ,  0.3894324 , -0.09778746, -0.17312132,\n",
       "        0.31738997,  0.17797728,  0.05830799,  0.07919475,  0.08225547,\n",
       "       -0.31325617, -0.46771994, -0.10921598, -0.01445774,  0.1482184 ,\n",
       "       -0.09530978, -0.13221039, -0.06766609, -0.16415673,  0.35737067,\n",
       "       -0.26081952, -0.01121674, -0.1699271 , -0.03266311, -0.21063502,\n",
       "        0.09975211,  0.06435907,  0.00562243, -0.4401948 ,  0.15835883,\n",
       "        0.15535179,  0.08655847, -0.09035342, -0.07075828, -0.31613836,\n",
       "       -0.33971912, -0.1862029 ,  0.1441179 ,  0.17943372, -0.11050691,\n",
       "        0.24871133, -0.07752577, -0.24489494, -0.09435689, -0.16454549,\n",
       "        0.08200273,  0.00563637, -0.0507348 , -0.04119096,  0.11377202,\n",
       "       -0.5563452 , -0.01388048, -0.21268737, -0.2374578 ,  0.15366444,\n",
       "       -0.34835616,  0.08454992,  0.42873338, -0.06814028,  0.26548892],\n",
       "      dtype=float32)"
      ]
     },
     "execution_count": 19,
     "metadata": {},
     "output_type": "execute_result"
    }
   ],
   "source": [
    "mental_dimension"
   ]
  },
  {
   "cell_type": "code",
   "execution_count": 20,
   "id": "a3043065",
   "metadata": {},
   "outputs": [],
   "source": [
    "def cosine_similarity(v1, v2):\n",
    "    dot_ = np.dot(v1, v2)\n",
    "    norm1 = np.linalg.norm(v1)\n",
    "    norm2 = np.linalg.norm(v2)\n",
    "    if norm1 > 0 and norm2 > 0:\n",
    "        return dot_ / (norm1 * norm2)\n",
    "    else:\n",
    "        return 0.0"
   ]
  },
  {
   "cell_type": "code",
   "execution_count": 21,
   "id": "6eaec8d7",
   "metadata": {},
   "outputs": [
    {
     "data": {
      "text/plain": [
       "0.6429258"
      ]
     },
     "execution_count": 21,
     "metadata": {},
     "output_type": "execute_result"
    }
   ],
   "source": [
    "cosine_similarity(criminal_dimension, mental_dimension)"
   ]
  },
  {
   "cell_type": "code",
   "execution_count": 22,
   "id": "387f3cf2",
   "metadata": {},
   "outputs": [
    {
     "data": {
      "text/plain": [
       "0.56635743"
      ]
     },
     "execution_count": 22,
     "metadata": {},
     "output_type": "execute_result"
    }
   ],
   "source": [
    "cosine_similarity(criminal_dimension_lem, mental_dimension_lem)"
   ]
  },
  {
   "cell_type": "code",
   "execution_count": 23,
   "id": "d03521f5",
   "metadata": {},
   "outputs": [],
   "source": [
    "for state in most_violent_states:\n",
    "    df.loc[:,f'cosine_{state}_criminal'] = df[f'emb_{state}'].apply(lambda x: cosine_similarity(criminal_dimension, x))\n",
    "    df.loc[:,f'cosine_{state}_mental'] = df[f'emb_{state}'].apply(lambda x: cosine_similarity(mental_dimension, x))"
   ]
  },
  {
   "cell_type": "code",
   "execution_count": 24,
   "id": "95e9b7b7",
   "metadata": {},
   "outputs": [],
   "source": [
    "for state in most_violent_states: \n",
    "    df.loc[:,f'cosine_{state}_criminal_lem'] = df[f'emb_{state}'].apply(lambda x: cosine_similarity(criminal_dimension_lem, x))\n",
    "    df.loc[:,f'cosine_{state}_mental_lem'] = df[f'emb_{state}'].apply(lambda x: cosine_similarity(mental_dimension_lem, x))"
   ]
  },
  {
   "cell_type": "code",
   "execution_count": 25,
   "id": "e45273f6",
   "metadata": {},
   "outputs": [],
   "source": [
    "from collections import defaultdict\n",
    "\n",
    "\n",
    "def extract_sign_mental(col):\n",
    "    if col == 'Yes' or col == 'Drug or Alcohol Use' or col == 'History of Drug or Alcohol Use':\n",
    "        return 1\n",
    "    else:\n",
    "        return 0\n",
    "    \n",
    "def extract_sign_armed(col):\n",
    "    if col == 'Allegedly Armed' or col == 'Vehicle':\n",
    "        return 1\n",
    "    else:\n",
    "        return 0\n",
    "\n",
    "def code_to_name(state_code):\n",
    "    state_names = { 'MN': 'Minnesota',  'CA': 'California', 'TX': 'Texas', 'FL': 'Florida'}\n",
    "    return state_names[state_code]  \n",
    "\n",
    "def compare_proxy(method): \n",
    "    \n",
    "    ''' method: 'stemmer' or 'lemmatizer' \n",
    "    Returns the proxy and the average bias for each of the most violent states'''\n",
    "    \n",
    "    distances = defaultdict(dict)   \n",
    "    for state in most_violent_states: \n",
    "        if method == 'stemmer': \n",
    "            #create average criminal and mental dimension\n",
    "            average_criminal_white = df[(df.race == 'White') & (df.state == state)][f'cosine_{state}_criminal'].sum() / len(df[(df.race == 'White') & (df.state == state)])\n",
    "            average_criminal_black = df[(df.race == 'Black') & (df.state == state)][f'cosine_{state}_criminal'].sum() / len(df[(df.race == 'Black') & (df.state == state)])\n",
    "            average_mental_white = df[(df.race == 'White') & (df.state == state)][f'cosine_{state}_mental'].sum() / len(df[(df.race == 'White') & (df.state == state)])\n",
    "            average_mental_black = df[(df.race == 'Black') & (df.state == state)][f'cosine_{state}_mental'].sum() / len(df[(df.race == 'Black') & (df.state == state)])\n",
    "            \n",
    "            df[f'mental_{state}'] = df['signs_of_mental_illness'].apply(extract_sign_mental)\n",
    "            df[f'criminal_{state}'] = df['allegedly_armed'].apply(extract_sign_armed)\n",
    "            \n",
    "            proxy_criminal_white = df[(df.race == 'White') & (df.state == state)][f'criminal_{state}'].sum() / len(df[(df.race == 'White') & (df.state == state)])\n",
    "            proxy_criminal_black = df[(df.race == 'Black') & (df.state == state)][f'criminal_{state}'].sum() / len(df[(df.race == 'Black') & (df.state == state)])\n",
    "            proxy_mental_white = df[(df.race == 'White') & (df.state == state)][f'mental_{state}'].sum() / len(df[(df.race == 'White') & (df.state == state)])\n",
    "            \n",
    "            proxy_mental_black = df[(df.race == 'Black') & (df.state == state)][f'mental_{state}'].sum() / len(df[(df.race == 'Black') & (df.state == state)])\n",
    "            #calculate the distance between the proxies\n",
    "            distances[state] = {'criminal_bias_white': average_criminal_white*proxy_criminal_white, 'criminal_bias_black': average_criminal_black*proxy_criminal_black,\n",
    "                    'mental_bias_white': average_mental_white*proxy_mental_white, 'mental_bias_black':  average_mental_black*proxy_mental_black}\n",
    "            \n",
    "            print(f\"State: {code_to_name(state)}, method: {method}\")\n",
    "            print(f\"Proportion of white victims armed: {proxy_criminal_white}. Criminal bias in articles for white victims: {average_criminal_white}\")\n",
    "            print(f\"Proportion of black victims armed: {proxy_criminal_black}. Criminal bias in articles for black victims: {average_criminal_black}\")\n",
    "            print(f\"Proportion of white victims with signs of mental illness: {proxy_mental_white}. Mental bias in articles for white victims: {average_mental_white}\")\n",
    "            print(f\"Proportion of black victims with signs of mental illness: {proxy_mental_black}. Mental bias in articles for black victims: {average_mental_black}\")\n",
    "            df.drop(columns=[f'mental_{state}', f'criminal_{state}'], inplace=True)\n",
    "        else: \n",
    "            #create average criminal and mental dimension\n",
    "            average_criminal_white = df[(df.race == 'White') & (df.state == state)][f'cosine_{state}_criminal_lem'].sum() / len(df[(df.race == 'White') & (df.state == state)])\n",
    "            average_criminal_black = df[(df.race == 'Black') & (df.state == state)][f'cosine_{state}_criminal_lem'].sum() / len(df[(df.race == 'Black') & (df.state == state)])\n",
    "            average_mental_white = df[(df.race == 'White') & (df.state == state)][f'cosine_{state}_criminal_lem'].sum() / len(df[(df.race == 'White') & (df.state == state)])\n",
    "            average_mental_black = df[(df.race == 'Black') & (df.state == state)][f'cosine_{state}_criminal_lem'].sum() / len(df[(df.race == 'Black') & (df.state == state)])\n",
    "            \n",
    "            df[f'mental_{state}_lem'] = df['signs_of_mental_illness'].apply(extract_sign_mental)\n",
    "            df[f'criminal_{state}_lem'] = df['allegedly_armed'].apply(extract_sign_armed)\n",
    "            \n",
    "            proxy_criminal_white = df[(df.race == 'White') & (df.state == state)][f'criminal_{state}_lem'].sum() / len(df[(df.race == 'White') & (df.state == state)])\n",
    "            proxy_criminal_black = df[(df.race == 'Black') & (df.state == state)][f'criminal_{state}_lem'].sum() / len(df[(df.race == 'Black') & (df.state == state)])\n",
    "            proxy_mental_white = df[(df.race == 'White') & (df.state == state)][f'mental_{state}_lem'].sum() / len(df[(df.race == 'White') & (df.state == state)])\n",
    "            proxy_mental_black = df[(df.race == 'Black') & (df.state == state)][f'mental_{state}_lem'].sum() / len(df[(df.race == 'Black') & (df.state == state)])\n",
    "            \n",
    "            #calculate the distance between the proxies\n",
    "            distances[state] = {'criminal_bias_white': average_criminal_white*proxy_criminal_white, 'criminal_bias_black': average_criminal_black*proxy_criminal_black,\n",
    "                                'mental_bias_white': average_mental_white*proxy_mental_white, 'mental_bias_black':  average_mental_black*proxy_mental_black}\n",
    "            \n",
    "            print(f\"State: {code_to_name(state)}, method: {method}\")\n",
    "            print(f\"Proportion of white victims armed: {proxy_criminal_white}. Criminal bias in articles for white victims: {average_criminal_white}\")\n",
    "            print(f\"Proportion of black victims armed: {proxy_criminal_black}. Criminal bias in articles for black victims: {average_criminal_black}\")\n",
    "            print(f\"Proportion of white victims with signs of mental illness: {proxy_mental_white}. Mental bias in articles for white victims: {average_mental_white}\")\n",
    "            print(f\"Proportion of black victims with signs of mental illness: {proxy_mental_black}. Mental bias in articles for black victims: {average_mental_black}\")\n",
    "            df.drop(columns=[f'mental_{state}_lem', f'criminal_{state}_lem'], inplace=True)\n",
    "    return distances"
   ]
  },
  {
   "cell_type": "code",
   "execution_count": 26,
   "id": "83f056de",
   "metadata": {},
   "outputs": [
    {
     "name": "stdout",
     "output_type": "stream",
     "text": [
      "State: California, method: stemmer\n",
      "Proportion of white victims armed: 0.6678321678321678. Criminal bias in articles for white victims: 0.47282463291308263\n",
      "Proportion of black victims armed: 0.536723163841808. Criminal bias in articles for black victims: 0.49148121232030084\n",
      "Proportion of white victims with signs of mental illness: 0.35664335664335667. Mental bias in articles for white victims: 0.36673865337055045\n",
      "Proportion of black victims with signs of mental illness: 0.20903954802259886. Mental bias in articles for black victims: 0.37379489813820793\n",
      "State: Texas, method: stemmer\n",
      "Proportion of white victims armed: 0.7341772151898734. Criminal bias in articles for white victims: 0.46956891849448407\n",
      "Proportion of black victims armed: 0.6554621848739496. Criminal bias in articles for black victims: 0.5043169154840357\n",
      "Proportion of white victims with signs of mental illness: 0.31645569620253167. Mental bias in articles for white victims: 0.38528241103963007\n",
      "Proportion of black victims with signs of mental illness: 0.11764705882352941. Mental bias in articles for black victims: 0.40101259696383434\n",
      "State: Florida, method: stemmer\n",
      "Proportion of white victims armed: 0.7438423645320197. Criminal bias in articles for white victims: 0.46164459430525456\n",
      "Proportion of black victims armed: 0.6933333333333334. Criminal bias in articles for black victims: 0.4697460464636485\n",
      "Proportion of white victims with signs of mental illness: 0.35960591133004927. Mental bias in articles for white victims: 0.4098843427127218\n",
      "Proportion of black victims with signs of mental illness: 0.14. Mental bias in articles for black victims: 0.4106510959068934\n",
      "State: Minnesota, method: stemmer\n",
      "Proportion of white victims armed: 0.775. Criminal bias in articles for white victims: 0.4904346227645874\n",
      "Proportion of black victims armed: 0.7916666666666666. Criminal bias in articles for black victims: 0.5223096857468287\n",
      "Proportion of white victims with signs of mental illness: 0.5. Mental bias in articles for white victims: 0.40726654417812824\n",
      "Proportion of black victims with signs of mental illness: 0.2916666666666667. Mental bias in articles for black victims: 0.4352244424323241\n"
     ]
    },
    {
     "data": {
      "text/plain": [
       "defaultdict(dict,\n",
       "            {'CA': {'criminal_bias_white': 0.31576749960279293,\n",
       "              'criminal_bias_black': 0.26378935124535924,\n",
       "              'mental_bias_white': 0.1307949043489376,\n",
       "              'mental_bias_black': 0.07813791655996437},\n",
       "             'TX': {'criminal_bias_white': 0.344746800920001,\n",
       "              'criminal_bias_black': 0.330560667292057,\n",
       "              'mental_bias_white': 0.1219248136201361,\n",
       "              'mental_bias_black': 0.04717795258398051},\n",
       "             'FL': {'criminal_bias_white': 0.3433908066014455,\n",
       "              'criminal_bias_black': 0.3256905922147963,\n",
       "              'mental_bias_white': 0.14739683260112654,\n",
       "              'mental_bias_black': 0.057491153426965085},\n",
       "             'MN': {'criminal_bias_white': 0.3800868326425552,\n",
       "              'criminal_bias_black': 0.413495167882906,\n",
       "              'mental_bias_white': 0.20363327208906412,\n",
       "              'mental_bias_black': 0.12694046237609455}})"
      ]
     },
     "execution_count": 26,
     "metadata": {},
     "output_type": "execute_result"
    }
   ],
   "source": [
    "stem_biases = compare_proxy('stemmer')\n",
    "stem_biases"
   ]
  },
  {
   "cell_type": "code",
   "execution_count": 31,
   "id": "69e89057",
   "metadata": {},
   "outputs": [],
   "source": [
    "import matplotlib.pyplot as plt\n",
    "\n",
    "def plot_bias(biases, method = 'stemmer'): \n",
    "    # Create a DataFrame from the dictionary\n",
    "    data = pd.DataFrame(biases).T\n",
    "\n",
    "    # Plotting using DataFrame's plot method\n",
    "    fig, ax = plt.subplots(figsize=(10, 6))\n",
    "    data.plot(kind='bar', ax=ax, color=['#FF9999', '#9999FF', '#FFCC99', '#99CCFF'])\n",
    "    ax.set_title('Comparison of Bias Metrics Across States before Floyd')\n",
    "    ax.set_xlabel('State')\n",
    "    ax.set_ylabel(f'Bias Value with {method}')\n",
    "    ax.legend(title='Metric')\n",
    "\n",
    "    plt.show()\n",
    "\n",
    "\n",
    "    \n",
    "    "
   ]
  },
  {
   "cell_type": "code",
   "execution_count": 32,
   "id": "8a0c29f7",
   "metadata": {},
   "outputs": [
    {
     "data": {
      "image/png": "[encoded data removed]",
      "text/plain": [
       "<Figure size 1000x600 with 1 Axes>"
      ]
     },
     "metadata": {},
     "output_type": "display_data"
    }
   ],
   "source": [
    "plot_bias(stem_biases)"
   ]
  },
  {
   "cell_type": "code",
   "execution_count": 29,
   "id": "3e3824f7",
   "metadata": {},
   "outputs": [
    {
     "name": "stdout",
     "output_type": "stream",
     "text": [
      "State: California, method: lemmatizer\n",
      "Proportion of white victims armed: 0.6678321678321678. Criminal bias in articles for white victims: 0.44766170396046207\n",
      "Proportion of black victims armed: 0.536723163841808. Criminal bias in articles for black victims: 0.46583445361778564\n",
      "Proportion of white victims with signs of mental illness: 0.35664335664335667. Mental bias in articles for white victims: 0.44766170396046207\n",
      "Proportion of black victims with signs of mental illness: 0.20903954802259886. Mental bias in articles for black victims: 0.46583445361778564\n",
      "State: Texas, method: lemmatizer\n",
      "Proportion of white victims armed: 0.7341772151898734. Criminal bias in articles for white victims: 0.45199418822421306\n",
      "Proportion of black victims armed: 0.6554621848739496. Criminal bias in articles for black victims: 0.4882529400476888\n",
      "Proportion of white victims with signs of mental illness: 0.31645569620253167. Mental bias in articles for white victims: 0.45199418822421306\n",
      "Proportion of black victims with signs of mental illness: 0.11764705882352941. Mental bias in articles for black victims: 0.4882529400476888\n",
      "State: Florida, method: lemmatizer\n",
      "Proportion of white victims armed: 0.7438423645320197. Criminal bias in articles for white victims: 0.44860635587734543\n",
      "Proportion of black victims armed: 0.6933333333333334. Criminal bias in articles for black victims: 0.4587388038635254\n",
      "Proportion of white victims with signs of mental illness: 0.35960591133004927. Mental bias in articles for white victims: 0.44860635587734543\n",
      "Proportion of black victims with signs of mental illness: 0.14. Mental bias in articles for black victims: 0.4587388038635254\n",
      "State: Minnesota, method: lemmatizer\n",
      "Proportion of white victims armed: 0.775. Criminal bias in articles for white victims: 0.465268611907959\n",
      "Proportion of black victims armed: 0.7916666666666666. Criminal bias in articles for black victims: 0.5086172906061014\n",
      "Proportion of white victims with signs of mental illness: 0.5. Mental bias in articles for white victims: 0.465268611907959\n",
      "Proportion of black victims with signs of mental illness: 0.2916666666666667. Mental bias in articles for black victims: 0.5086172906061014\n"
     ]
    },
    {
     "data": {
      "text/plain": [
       "defaultdict(dict,\n",
       "            {'CA': {'criminal_bias_white': 0.2989628862113575,\n",
       "              'criminal_bias_black': 0.25002414177225785,\n",
       "              'mental_bias_white': 0.15965557274114384,\n",
       "              'mental_bias_black': 0.0973778236376162},\n",
       "             'TX': {'criminal_bias_white': 0.33184383439246024,\n",
       "              'criminal_bias_black': 0.32003133885478763,\n",
       "              'mental_bias_white': 0.14303613551399147,\n",
       "              'mental_bias_black': 0.05744152235855163},\n",
       "             'FL': {'criminal_bias_white': 0.33369241249989734,\n",
       "              'criminal_bias_black': 0.3180589040120443,\n",
       "              'mental_bias_white': 0.1613214974337252,\n",
       "              'mental_bias_black': 0.06422343254089356},\n",
       "             'MN': {'criminal_bias_white': 0.3605831742286682,\n",
       "              'criminal_bias_black': 0.4026553550631636,\n",
       "              'mental_bias_white': 0.2326343059539795,\n",
       "              'mental_bias_black': 0.1483467097601129}})"
      ]
     },
     "execution_count": 29,
     "metadata": {},
     "output_type": "execute_result"
    }
   ],
   "source": [
    "lem_biases = compare_proxy('lemmatizer')\n",
    "lem_biases"
   ]
  },
  {
   "cell_type": "code",
   "execution_count": 33,
   "id": "c8b2970c",
   "metadata": {},
   "outputs": [
    {
     "data": {
      "image/png": "[encoded data removed]",
      "text/plain": [
       "<Figure size 1000x600 with 1 Axes>"
      ]
     },
     "metadata": {},
     "output_type": "display_data"
    }
   ],
   "source": [
    "plot_bias(lem_biases, method = 'lemmatizer')"
   ]
  }
 ],
 "metadata": {
  "kernelspec": {
   "display_name": "Python 3 (ipykernel)",
   "language": "python",
   "name": "python3"
  },
  "language_info": {
   "codemirror_mode": {
    "name": "ipython",
    "version": 3
   },
   "file_extension": ".py",
   "mimetype": "text/x-python",
   "name": "python",
   "nbconvert_exporter": "python",
   "pygments_lexer": "ipython3",
   "version": "3.11.8"
  }
 },
 "nbformat": 4,
 "nbformat_minor": 5
}
