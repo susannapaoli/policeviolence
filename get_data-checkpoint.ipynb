{
 "cells": [
  {
   "cell_type": "code",
   "execution_count": 1,
   "metadata": {},
   "outputs": [],
   "source": [
    "%%capture\n",
    "!pip install newspaper3k"
   ]
  },
  {
   "cell_type": "code",
   "execution_count": 2,
   "metadata": {},
   "outputs": [],
   "source": [
    "import pandas as pd\n",
    "import numpy as np \n",
    "import os\n",
    "from newspaper import Article"
   ]
  },
  {
   "cell_type": "code",
   "execution_count": 37,
   "metadata": {},
   "outputs": [],
   "source": [
    "def create_dataset(dataset, csv_files, folder_path = 'data'):\n",
    "    all_files_exist = all(os.path.exists(os.path.join(folder_path, file)) for file in csv_files)\n",
    "    \n",
    "    if os.path.exists(os.path.join(folder_path, dataset)):\n",
    "        df = pd.read_csv('data/full_dataset_mpv.csv')\n",
    "        print(\"Dataset created and saved.\")\n",
    "        \n",
    "    \n",
    "    elif all_files_exist: \n",
    "        print(\"Concatenating existing files ...\")\n",
    "        dfs = [pd.read_csv(os.path.join(folder_path, file)) for file in csv_files]\n",
    "        for df in dfs:\n",
    "            df.columns = df.columns.str.strip()   \n",
    "            df['date'] = df['date'].str.strip()\n",
    "            df['date'] = pd.to_datetime(df['date'], format='%m/%d/%Y')  \n",
    "        df = pd.concat(dfs, ignore_index=True)\n",
    "        \n",
    "        df.to_csv(\"data/full_dataset_mpv.csv\")\n",
    "        print(\"All files were successfully concatenated and saved.\")\n",
    "        print(\"Dataset created and saved.\")\n",
    "    else: \n",
    "        print(\"Creating dataset ...\")\n",
    "        mpv = pd.read_csv(\"data/Mapping Police Violence.csv\")\n",
    "        mpv.loc[:,'text'] = None\n",
    "        mpv.loc[:,'authors'] = None\n",
    "        mpv.loc[:,'fu'] = None\n",
    "\n",
    "        for i, row in mpv.iterrows():\n",
    "            articles = []\n",
    "            authors = []\n",
    "            fu = []\n",
    "            j = 0\n",
    "            for url in row.news_urls.split('\\n\\n'):\n",
    "                if url is None:\n",
    "                    continue\n",
    "                article = Article(url)\n",
    "                article.download()\n",
    "                article.html\n",
    "                try:\n",
    "                    article.parse()\n",
    "                except Exception:\n",
    "                    continue\n",
    "                articles.append([article.text])\n",
    "                authors.append(article.authors)\n",
    "                fu.append(url)\n",
    "                j += 1\n",
    "            mpv.at[i, \"text\"] = articles\n",
    "            mpv.at[i, \"authors\"] = authors\n",
    "            mpv.at[i, \"fu\"] = fu\n",
    "        df = mpv.copy()\n",
    "        df['date'] = df['date'].str.strip()\n",
    "        df['date'] = pd.to_datetime(df['date'], format='%m/%d/%Y')\n",
    "        df.to_csv(\"data/full_dataset_mpv.csv\")\n",
    "    return df"
   ]
  },
  {
   "cell_type": "code",
   "execution_count": 38,
   "metadata": {},
   "outputs": [
    {
     "name": "stdout",
     "output_type": "stream",
     "text": [
      "Concatenating existing files ...\n",
      "All files were successfully concatenated and saved.\n",
      "Dataset created and saved.\n"
     ]
    }
   ],
   "source": [
    "csv_files = ['text_1.csv', 'text_2.csv', 'text_3.csv', 'text_4.csv']\n",
    "df = create_dataset(dataset = 'full_dataset_mpv', csv_files = csv_files)"
   ]
  }
 ],
 "metadata": {
  "kernelspec": {
   "display_name": "Python 3 (ipykernel)",
   "language": "python",
   "name": "python3"
  },
  "language_info": {
   "codemirror_mode": {
    "name": "ipython",
    "version": 3
   },
   "file_extension": ".py",
   "mimetype": "text/x-python",
   "name": "python",
   "nbconvert_exporter": "python",
   "pygments_lexer": "ipython3",
   "version": "3.11.8"
  }
 },
 "nbformat": 4,
 "nbformat_minor": 2
}
