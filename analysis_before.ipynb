{
 "cells": [
  {
   "cell_type": "code",
   "execution_count": 2,
   "id": "1de8e350",
   "metadata": {},
   "outputs": [
    {
     "name": "stderr",
     "output_type": "stream",
     "text": [
      "[nltk_data] Downloading package wordnet to\n",
      "[nltk_data]     /Users/gigimancinelli./nltk_data...\n",
      "[nltk_data]   Package wordnet is already up-to-date!\n"
     ]
    }
   ],
   "source": [
    "import pandas as pd\n",
    "from gensim.models import Word2Vec\n",
    "import re\n",
    "from nltk.stem import SnowballStemmer, WordNetLemmatizer\n",
    "stemmer = SnowballStemmer('english')\n",
    "import nltk\n",
    "nltk.download('wordnet')\n",
    "import numpy as np\n",
    "lemmatizer = WordNetLemmatizer()\n"
   ]
  },
  {
   "cell_type": "code",
   "execution_count": 3,
   "id": "08654ca6",
   "metadata": {},
   "outputs": [],
   "source": [
    "criminality = ['theft', 'deviance', 'indictment', 'criminalization', 'guilt', 'government', 'tort', \n",
    "               'criminalness', 'criminalism', 'imprisonment', 'punishment', 'law', 'banditry', 'lawlessness', \n",
    "               'statutory', 'illegality', 'murder', 'immorality', 'sectarianism', 'dishonesty', \n",
    "               'impunity', 'criminalisation', 'brutality', 'thuggery', 'trial', 'recklessness', 'militancy', \n",
    "               'decriminalization', 'sentence', 'bigotry', 'extremism', 'viciousness', 'duplicity', \n",
    "               'xenophobia', 'mysonygy', 'stupidity', 'hypocrisy', 'irresponsibility', 'racism',\n",
    "               'illegalities', 'coercion', 'vigilantism', 'imprisonment', 'plaintiff', 'criminology', \n",
    "               'felony', 'desertion', 'charge', 'power', 'wrong']\n",
    "mental = ['schizophrenia', 'depression', 'bipolar', 'disorder', 'antisocial', 'personality', 'psychosis', \n",
    "          'psychotherapy', 'dementia', 'psychopathy', 'disability', 'anxiety', 'illness', 'alcoholism', 'brain', \n",
    "          'diagnosis', 'mind', 'symptoms', 'delusions', 'hallucinations', 'chronic', 'attention', 'deficit', \n",
    "          'hyperactivity', 'psychiatrists', 'disease', 'stress', 'epilepsy', 'agoraphobia', 'suffering', \n",
    "          'dysthymia', 'hypomania', 'sclerosis', 'psychiatric', 'psychological', 'disabilities', 'paraphilia', \n",
    "          'ocd', 'psychotic', 'syndrome', 'delusional', 'community', 'eating', 'disorder', 'anorexia', 'bulimia', \n",
    "          'nervosa', 'sickness', 'substance', 'abuse']"
   ]
  },
  {
   "cell_type": "code",
   "execution_count": 4,
   "id": "dfa8877f",
   "metadata": {},
   "outputs": [
    {
     "data": {
      "text/plain": [
       "50"
      ]
     },
     "execution_count": 4,
     "metadata": {},
     "output_type": "execute_result"
    }
   ],
   "source": [
    "len(criminality)"
   ]
  },
  {
   "cell_type": "code",
   "execution_count": 5,
   "id": "bd3e641f",
   "metadata": {},
   "outputs": [
    {
     "data": {
      "text/plain": [
       "50"
      ]
     },
     "execution_count": 5,
     "metadata": {},
     "output_type": "execute_result"
    }
   ],
   "source": [
    "len(mental)"
   ]
  },
  {
   "cell_type": "code",
   "execution_count": 7,
   "id": "37e7773b",
   "metadata": {},
   "outputs": [],
   "source": [
    "model = Word2Vec.load(\"./model/word2vec_before_floyd.model\")"
   ]
  },
  {
   "cell_type": "code",
   "execution_count": 8,
   "id": "13e5dc84",
   "metadata": {},
   "outputs": [],
   "source": [
    "df = pd.read_csv(\"./data/mpv_clean_pattern_stop.csv\")"
   ]
  },
  {
   "cell_type": "code",
   "execution_count": 9,
   "id": "18886ab7",
   "metadata": {},
   "outputs": [
    {
     "data": {
      "text/html": [
       "<div>\n",
       "<style scoped>\n",
       "    .dataframe tbody tr th:only-of-type {\n",
       "        vertical-align: middle;\n",
       "    }\n",
       "\n",
       "    .dataframe tbody tr th {\n",
       "        vertical-align: top;\n",
       "    }\n",
       "\n",
       "    .dataframe thead th {\n",
       "        text-align: right;\n",
       "    }\n",
       "</style>\n",
       "<table border=\"1\" class=\"dataframe\">\n",
       "  <thead>\n",
       "    <tr style=\"text-align: right;\">\n",
       "      <th></th>\n",
       "      <th>Unnamed: 0</th>\n",
       "      <th>name</th>\n",
       "      <th>gender</th>\n",
       "      <th>race</th>\n",
       "      <th>age</th>\n",
       "      <th>date</th>\n",
       "      <th>after_Floyd</th>\n",
       "      <th>city</th>\n",
       "      <th>state</th>\n",
       "      <th>cause_of_death</th>\n",
       "      <th>...</th>\n",
       "      <th>wapo_armed</th>\n",
       "      <th>wapo_threat_level</th>\n",
       "      <th>wapo_flee</th>\n",
       "      <th>wapo_body_camera</th>\n",
       "      <th>initial_reason</th>\n",
       "      <th>text</th>\n",
       "      <th>authors</th>\n",
       "      <th>TextColumn</th>\n",
       "      <th>cleaned</th>\n",
       "      <th>sentences</th>\n",
       "    </tr>\n",
       "  </thead>\n",
       "  <tbody>\n",
       "    <tr>\n",
       "      <th>0</th>\n",
       "      <td>0</td>\n",
       "      <td>Clyde E. Young</td>\n",
       "      <td>Male</td>\n",
       "      <td>White</td>\n",
       "      <td>28.0</td>\n",
       "      <td>2024-02-22</td>\n",
       "      <td>True</td>\n",
       "      <td>West Alton</td>\n",
       "      <td>MO</td>\n",
       "      <td>Gunshot</td>\n",
       "      <td>...</td>\n",
       "      <td>NaN</td>\n",
       "      <td>Used Weapon</td>\n",
       "      <td>Not Fleeing</td>\n",
       "      <td>NaN</td>\n",
       "      <td>Murder (suspect)</td>\n",
       "      <td>['A Godfrey man who had been charged with murd...</td>\n",
       "      <td>[['Mike Koziatek'], []]</td>\n",
       "      <td>a godfrey man who had been charged with murd...</td>\n",
       "      <td>godfrey man who had been charged with murder i...</td>\n",
       "      <td>[['godfrey', 'man', 'charg', 'murder', 'shoot'...</td>\n",
       "    </tr>\n",
       "    <tr>\n",
       "      <th>1</th>\n",
       "      <td>1</td>\n",
       "      <td>Clyde E. Young</td>\n",
       "      <td>Male</td>\n",
       "      <td>White</td>\n",
       "      <td>28.0</td>\n",
       "      <td>2024-02-22</td>\n",
       "      <td>True</td>\n",
       "      <td>West Alton</td>\n",
       "      <td>MO</td>\n",
       "      <td>Gunshot</td>\n",
       "      <td>...</td>\n",
       "      <td>NaN</td>\n",
       "      <td>Used Weapon</td>\n",
       "      <td>Not Fleeing</td>\n",
       "      <td>NaN</td>\n",
       "      <td>Murder (suspect)</td>\n",
       "      <td>['The man, identified as Clyde Young, was char...</td>\n",
       "      <td>[['Mike Koziatek'], []]</td>\n",
       "      <td>the man  identified as clyde young  was char...</td>\n",
       "      <td>the man identified as clyde young was charged ...</td>\n",
       "      <td>[['man', 'identifi', 'clyde', 'young', 'charg'...</td>\n",
       "    </tr>\n",
       "    <tr>\n",
       "      <th>2</th>\n",
       "      <td>2</td>\n",
       "      <td>Jamarcus Brown</td>\n",
       "      <td>Male</td>\n",
       "      <td>Black</td>\n",
       "      <td>35.0</td>\n",
       "      <td>2024-02-21</td>\n",
       "      <td>True</td>\n",
       "      <td>Lake Cormorant</td>\n",
       "      <td>MS</td>\n",
       "      <td>Gunshot</td>\n",
       "      <td>...</td>\n",
       "      <td>NaN</td>\n",
       "      <td>Attack</td>\n",
       "      <td>Car</td>\n",
       "      <td>Victim Facebook Live Video</td>\n",
       "      <td>Traffic Stop</td>\n",
       "      <td>['DESOTO COUNTY, Miss. (WMC) - Mississippi Bur...</td>\n",
       "      <td>[[], ['Lakiya Scott'], []]</td>\n",
       "      <td>desoto county  miss   wmc    mississippi bur...</td>\n",
       "      <td>desoto county miss wmc mississippi bureau of i...</td>\n",
       "      <td>[['desoto', 'counti', 'miss', 'wmc', 'mississi...</td>\n",
       "    </tr>\n",
       "    <tr>\n",
       "      <th>3</th>\n",
       "      <td>3</td>\n",
       "      <td>Jamarcus Brown</td>\n",
       "      <td>Male</td>\n",
       "      <td>Black</td>\n",
       "      <td>35.0</td>\n",
       "      <td>2024-02-21</td>\n",
       "      <td>True</td>\n",
       "      <td>Lake Cormorant</td>\n",
       "      <td>MS</td>\n",
       "      <td>Gunshot</td>\n",
       "      <td>...</td>\n",
       "      <td>NaN</td>\n",
       "      <td>Attack</td>\n",
       "      <td>Car</td>\n",
       "      <td>Victim Facebook Live Video</td>\n",
       "      <td>Traffic Stop</td>\n",
       "      <td>['Close Get email notifications on {{subject}}...</td>\n",
       "      <td>[[], ['Lakiya Scott'], []]</td>\n",
       "      <td>close get email notifications on   subject  ...</td>\n",
       "      <td>close get on subject are only sent and only if...</td>\n",
       "      <td>[['close', 'get', 'subject', 'sent', 'new']]</td>\n",
       "    </tr>\n",
       "    <tr>\n",
       "      <th>4</th>\n",
       "      <td>4</td>\n",
       "      <td>Jamarcus Brown</td>\n",
       "      <td>Male</td>\n",
       "      <td>Black</td>\n",
       "      <td>35.0</td>\n",
       "      <td>2024-02-21</td>\n",
       "      <td>True</td>\n",
       "      <td>Lake Cormorant</td>\n",
       "      <td>MS</td>\n",
       "      <td>Gunshot</td>\n",
       "      <td>...</td>\n",
       "      <td>NaN</td>\n",
       "      <td>Attack</td>\n",
       "      <td>Car</td>\n",
       "      <td>Victim Facebook Live Video</td>\n",
       "      <td>Traffic Stop</td>\n",
       "      <td>['The Carlos Moore Law Group said it has been ...</td>\n",
       "      <td>[[], ['Lakiya Scott'], []]</td>\n",
       "      <td>the carlos moore law group said it has been ...</td>\n",
       "      <td>the carlos moore law group said it has been re...</td>\n",
       "      <td>[['carlo', 'moor', 'law', 'group', 'said', 're...</td>\n",
       "    </tr>\n",
       "  </tbody>\n",
       "</table>\n",
       "<p>5 rows × 25 columns</p>\n",
       "</div>"
      ],
      "text/plain": [
       "   Unnamed: 0            name gender   race   age        date  after_Floyd  \\\n",
       "0           0  Clyde E. Young   Male  White  28.0  2024-02-22         True   \n",
       "1           1  Clyde E. Young   Male  White  28.0  2024-02-22         True   \n",
       "2           2  Jamarcus Brown   Male  Black  35.0  2024-02-21         True   \n",
       "3           3  Jamarcus Brown   Male  Black  35.0  2024-02-21         True   \n",
       "4           4  Jamarcus Brown   Male  Black  35.0  2024-02-21         True   \n",
       "\n",
       "             city state cause_of_death  ... wapo_armed wapo_threat_level  \\\n",
       "0      West Alton    MO        Gunshot  ...        NaN       Used Weapon   \n",
       "1      West Alton    MO        Gunshot  ...        NaN       Used Weapon   \n",
       "2  Lake Cormorant    MS        Gunshot  ...        NaN            Attack   \n",
       "3  Lake Cormorant    MS        Gunshot  ...        NaN            Attack   \n",
       "4  Lake Cormorant    MS        Gunshot  ...        NaN            Attack   \n",
       "\n",
       "     wapo_flee            wapo_body_camera    initial_reason  \\\n",
       "0  Not Fleeing                         NaN  Murder (suspect)   \n",
       "1  Not Fleeing                         NaN  Murder (suspect)   \n",
       "2          Car  Victim Facebook Live Video      Traffic Stop   \n",
       "3          Car  Victim Facebook Live Video      Traffic Stop   \n",
       "4          Car  Victim Facebook Live Video      Traffic Stop   \n",
       "\n",
       "                                                text  \\\n",
       "0  ['A Godfrey man who had been charged with murd...   \n",
       "1  ['The man, identified as Clyde Young, was char...   \n",
       "2  ['DESOTO COUNTY, Miss. (WMC) - Mississippi Bur...   \n",
       "3  ['Close Get email notifications on {{subject}}...   \n",
       "4  ['The Carlos Moore Law Group said it has been ...   \n",
       "\n",
       "                      authors  \\\n",
       "0     [['Mike Koziatek'], []]   \n",
       "1     [['Mike Koziatek'], []]   \n",
       "2  [[], ['Lakiya Scott'], []]   \n",
       "3  [[], ['Lakiya Scott'], []]   \n",
       "4  [[], ['Lakiya Scott'], []]   \n",
       "\n",
       "                                          TextColumn  \\\n",
       "0    a godfrey man who had been charged with murd...   \n",
       "1    the man  identified as clyde young  was char...   \n",
       "2    desoto county  miss   wmc    mississippi bur...   \n",
       "3    close get email notifications on   subject  ...   \n",
       "4    the carlos moore law group said it has been ...   \n",
       "\n",
       "                                             cleaned  \\\n",
       "0  godfrey man who had been charged with murder i...   \n",
       "1  the man identified as clyde young was charged ...   \n",
       "2  desoto county miss wmc mississippi bureau of i...   \n",
       "3  close get on subject are only sent and only if...   \n",
       "4  the carlos moore law group said it has been re...   \n",
       "\n",
       "                                           sentences  \n",
       "0  [['godfrey', 'man', 'charg', 'murder', 'shoot'...  \n",
       "1  [['man', 'identifi', 'clyde', 'young', 'charg'...  \n",
       "2  [['desoto', 'counti', 'miss', 'wmc', 'mississi...  \n",
       "3       [['close', 'get', 'subject', 'sent', 'new']]  \n",
       "4  [['carlo', 'moor', 'law', 'group', 'said', 're...  \n",
       "\n",
       "[5 rows x 25 columns]"
      ]
     },
     "execution_count": 9,
     "metadata": {},
     "output_type": "execute_result"
    }
   ],
   "source": [
    "df.head()"
   ]
  },
  {
   "cell_type": "code",
   "execution_count": 10,
   "id": "90cfb2e3",
   "metadata": {},
   "outputs": [
    {
     "data": {
      "text/html": [
       "<div>\n",
       "<style scoped>\n",
       "    .dataframe tbody tr th:only-of-type {\n",
       "        vertical-align: middle;\n",
       "    }\n",
       "\n",
       "    .dataframe tbody tr th {\n",
       "        vertical-align: top;\n",
       "    }\n",
       "\n",
       "    .dataframe thead th {\n",
       "        text-align: right;\n",
       "    }\n",
       "</style>\n",
       "<table border=\"1\" class=\"dataframe\">\n",
       "  <thead>\n",
       "    <tr style=\"text-align: right;\">\n",
       "      <th></th>\n",
       "      <th>Unnamed: 0</th>\n",
       "      <th>name</th>\n",
       "      <th>gender</th>\n",
       "      <th>race</th>\n",
       "      <th>age</th>\n",
       "      <th>date</th>\n",
       "      <th>after_Floyd</th>\n",
       "      <th>city</th>\n",
       "      <th>state</th>\n",
       "      <th>cause_of_death</th>\n",
       "      <th>...</th>\n",
       "      <th>wapo_armed</th>\n",
       "      <th>wapo_threat_level</th>\n",
       "      <th>wapo_flee</th>\n",
       "      <th>wapo_body_camera</th>\n",
       "      <th>initial_reason</th>\n",
       "      <th>text</th>\n",
       "      <th>authors</th>\n",
       "      <th>TextColumn</th>\n",
       "      <th>cleaned</th>\n",
       "      <th>sentences</th>\n",
       "    </tr>\n",
       "  </thead>\n",
       "  <tbody>\n",
       "    <tr>\n",
       "      <th>9540</th>\n",
       "      <td>9540</td>\n",
       "      <td>Dion Johnson</td>\n",
       "      <td>Male</td>\n",
       "      <td>Black</td>\n",
       "      <td>28.0</td>\n",
       "      <td>2020-05-25</td>\n",
       "      <td>False</td>\n",
       "      <td>Phoenix</td>\n",
       "      <td>AZ</td>\n",
       "      <td>Gunshot</td>\n",
       "      <td>...</td>\n",
       "      <td>No Object</td>\n",
       "      <td>Other</td>\n",
       "      <td>Not Fleeing</td>\n",
       "      <td>No</td>\n",
       "      <td>Asleep in car (blocking traffic)</td>\n",
       "      <td>['A 28-year-old man died after being shot by a...</td>\n",
       "      <td>[[]]</td>\n",
       "      <td>a XXXXXX year old man died after being shot ...</td>\n",
       "      <td>year old man died after being shot by an arizo...</td>\n",
       "      <td>[['year', 'old', 'man', 'die', 'shot', 'arizon...</td>\n",
       "    </tr>\n",
       "    <tr>\n",
       "      <th>9541</th>\n",
       "      <td>9541</td>\n",
       "      <td>Reymar Gagarin</td>\n",
       "      <td>Male</td>\n",
       "      <td>Native Hawaiian and Pacific Islander</td>\n",
       "      <td>35.0</td>\n",
       "      <td>2020-05-25</td>\n",
       "      <td>False</td>\n",
       "      <td>Modesto</td>\n",
       "      <td>CA</td>\n",
       "      <td>Gunshot</td>\n",
       "      <td>...</td>\n",
       "      <td>Toy Weapon</td>\n",
       "      <td>Attack</td>\n",
       "      <td>Not Fleeing</td>\n",
       "      <td>Yes</td>\n",
       "      <td>Suspicious Person</td>\n",
       "      <td>['One man was killed after an officer-involved...</td>\n",
       "      <td>[['Kcra Staff', 'Https', 'Www.Facebook.Com']]</td>\n",
       "      <td>one man was killed after an officer involved...</td>\n",
       "      <td>one man was killed after an officer involved s...</td>\n",
       "      <td>[['one', 'man', 'kill', 'offic', 'involv', 'sh...</td>\n",
       "    </tr>\n",
       "    <tr>\n",
       "      <th>9542</th>\n",
       "      <td>9542</td>\n",
       "      <td>George Floyd</td>\n",
       "      <td>Male</td>\n",
       "      <td>Black</td>\n",
       "      <td>46.0</td>\n",
       "      <td>2020-05-25</td>\n",
       "      <td>False</td>\n",
       "      <td>Minneapolis</td>\n",
       "      <td>MN</td>\n",
       "      <td>Physical Restraint</td>\n",
       "      <td>...</td>\n",
       "      <td>No Object</td>\n",
       "      <td>Other</td>\n",
       "      <td>Not Fleeing</td>\n",
       "      <td>Yes</td>\n",
       "      <td>Forged check</td>\n",
       "      <td>['The FBI and authorities in Minnesota have la...</td>\n",
       "      <td>[['Kenya Evelyn'], []]</td>\n",
       "      <td>the fbi and authorities in minnesota have la...</td>\n",
       "      <td>the fbi and authorities in minnesota have laun...</td>\n",
       "      <td>[['fbi', 'author', 'minnesota', 'launch', 'inv...</td>\n",
       "    </tr>\n",
       "    <tr>\n",
       "      <th>9543</th>\n",
       "      <td>9543</td>\n",
       "      <td>George Floyd</td>\n",
       "      <td>Male</td>\n",
       "      <td>Black</td>\n",
       "      <td>46.0</td>\n",
       "      <td>2020-05-25</td>\n",
       "      <td>False</td>\n",
       "      <td>Minneapolis</td>\n",
       "      <td>MN</td>\n",
       "      <td>Physical Restraint</td>\n",
       "      <td>...</td>\n",
       "      <td>No Object</td>\n",
       "      <td>Other</td>\n",
       "      <td>Not Fleeing</td>\n",
       "      <td>Yes</td>\n",
       "      <td>Forged check</td>\n",
       "      <td>['']</td>\n",
       "      <td>[['Kenya Evelyn'], []]</td>\n",
       "      <td></td>\n",
       "      <td>NaN</td>\n",
       "      <td>[]</td>\n",
       "    </tr>\n",
       "    <tr>\n",
       "      <th>9544</th>\n",
       "      <td>9544</td>\n",
       "      <td>Anthony Grove</td>\n",
       "      <td>Male</td>\n",
       "      <td>Unknown race</td>\n",
       "      <td>52.0</td>\n",
       "      <td>2020-05-24</td>\n",
       "      <td>False</td>\n",
       "      <td>Kila</td>\n",
       "      <td>MT</td>\n",
       "      <td>Gunshot</td>\n",
       "      <td>...</td>\n",
       "      <td>Gun</td>\n",
       "      <td>Attack</td>\n",
       "      <td>Not Fleeing</td>\n",
       "      <td>No</td>\n",
       "      <td>Disturbance</td>\n",
       "      <td>[\"MISSOULA, Mont. (AP) — Montana authorities s...</td>\n",
       "      <td>[['Associated Press', 'May', 'At P.M.']]</td>\n",
       "      <td>missoula  mont   ap    montana authorities s...</td>\n",
       "      <td>missoula mont ap montana authorities say man w...</td>\n",
       "      <td>[['missoula', 'mont', 'ap', 'montana', 'author...</td>\n",
       "    </tr>\n",
       "  </tbody>\n",
       "</table>\n",
       "<p>5 rows × 25 columns</p>\n",
       "</div>"
      ],
      "text/plain": [
       "      Unnamed: 0            name gender                                  race  \\\n",
       "9540        9540    Dion Johnson   Male                                 Black   \n",
       "9541        9541  Reymar Gagarin   Male  Native Hawaiian and Pacific Islander   \n",
       "9542        9542    George Floyd   Male                                 Black   \n",
       "9543        9543    George Floyd   Male                                 Black   \n",
       "9544        9544   Anthony Grove   Male                          Unknown race   \n",
       "\n",
       "       age        date  after_Floyd         city state      cause_of_death  \\\n",
       "9540  28.0  2020-05-25        False      Phoenix    AZ             Gunshot   \n",
       "9541  35.0  2020-05-25        False      Modesto    CA             Gunshot   \n",
       "9542  46.0  2020-05-25        False  Minneapolis    MN  Physical Restraint   \n",
       "9543  46.0  2020-05-25        False  Minneapolis    MN  Physical Restraint   \n",
       "9544  52.0  2020-05-24        False         Kila    MT             Gunshot   \n",
       "\n",
       "      ...  wapo_armed wapo_threat_level    wapo_flee wapo_body_camera  \\\n",
       "9540  ...   No Object             Other  Not Fleeing               No   \n",
       "9541  ...  Toy Weapon            Attack  Not Fleeing              Yes   \n",
       "9542  ...   No Object             Other  Not Fleeing              Yes   \n",
       "9543  ...   No Object             Other  Not Fleeing              Yes   \n",
       "9544  ...         Gun            Attack  Not Fleeing               No   \n",
       "\n",
       "                        initial_reason  \\\n",
       "9540  Asleep in car (blocking traffic)   \n",
       "9541                 Suspicious Person   \n",
       "9542                      Forged check   \n",
       "9543                      Forged check   \n",
       "9544                       Disturbance   \n",
       "\n",
       "                                                   text  \\\n",
       "9540  ['A 28-year-old man died after being shot by a...   \n",
       "9541  ['One man was killed after an officer-involved...   \n",
       "9542  ['The FBI and authorities in Minnesota have la...   \n",
       "9543                                               ['']   \n",
       "9544  [\"MISSOULA, Mont. (AP) — Montana authorities s...   \n",
       "\n",
       "                                            authors  \\\n",
       "9540                                           [[]]   \n",
       "9541  [['Kcra Staff', 'Https', 'Www.Facebook.Com']]   \n",
       "9542                         [['Kenya Evelyn'], []]   \n",
       "9543                         [['Kenya Evelyn'], []]   \n",
       "9544       [['Associated Press', 'May', 'At P.M.']]   \n",
       "\n",
       "                                             TextColumn  \\\n",
       "9540    a XXXXXX year old man died after being shot ...   \n",
       "9541    one man was killed after an officer involved...   \n",
       "9542    the fbi and authorities in minnesota have la...   \n",
       "9543                                                      \n",
       "9544    missoula  mont   ap    montana authorities s...   \n",
       "\n",
       "                                                cleaned  \\\n",
       "9540  year old man died after being shot by an arizo...   \n",
       "9541  one man was killed after an officer involved s...   \n",
       "9542  the fbi and authorities in minnesota have laun...   \n",
       "9543                                                NaN   \n",
       "9544  missoula mont ap montana authorities say man w...   \n",
       "\n",
       "                                              sentences  \n",
       "9540  [['year', 'old', 'man', 'die', 'shot', 'arizon...  \n",
       "9541  [['one', 'man', 'kill', 'offic', 'involv', 'sh...  \n",
       "9542  [['fbi', 'author', 'minnesota', 'launch', 'inv...  \n",
       "9543                                                 []  \n",
       "9544  [['missoula', 'mont', 'ap', 'montana', 'author...  \n",
       "\n",
       "[5 rows x 25 columns]"
      ]
     },
     "execution_count": 10,
     "metadata": {},
     "output_type": "execute_result"
    }
   ],
   "source": [
    "df = df[df.after_Floyd == 0]\n",
    "df.head()"
   ]
  },
  {
   "cell_type": "code",
   "execution_count": 12,
   "id": "0d75e377",
   "metadata": {},
   "outputs": [],
   "source": [
    "def create_embedding(text):\n",
    "    text = re.sub(r'[^a-zA-Z0-9]', ' ', text)\n",
    "    text = text.strip()\n",
    "    embeddings = [model.wv[word] for word in text.split()]\n",
    "    if len(embeddings) == 0:\n",
    "        return 0\n",
    "    emb = sum(embeddings) / len(embeddings)\n",
    "    return emb"
   ]
  },
  {
   "cell_type": "code",
   "execution_count": 13,
   "id": "269a679d",
   "metadata": {},
   "outputs": [],
   "source": [
    "df['emb'] = df['sentences'].apply(create_embedding)"
   ]
  },
  {
   "cell_type": "code",
   "execution_count": 14,
   "id": "ad9f3a80",
   "metadata": {},
   "outputs": [
    {
     "data": {
      "text/plain": [
       "Index(['Unnamed: 0', 'name', 'gender', 'race', 'age', 'date', 'after_Floyd',\n",
       "       'city', 'state', 'cause_of_death', 'circumstances', 'news_urls',\n",
       "       'signs_of_mental_illness', 'officer_charged', 'allegedly_armed',\n",
       "       'wapo_armed', 'wapo_threat_level', 'wapo_flee', 'wapo_body_camera',\n",
       "       'initial_reason', 'text', 'authors', 'TextColumn', 'cleaned',\n",
       "       'sentences', 'emb'],\n",
       "      dtype='object')"
      ]
     },
     "execution_count": 14,
     "metadata": {},
     "output_type": "execute_result"
    }
   ],
   "source": [
    "df.columns"
   ]
  },
  {
   "cell_type": "code",
   "execution_count": 15,
   "id": "30cecc4e",
   "metadata": {},
   "outputs": [
    {
     "data": {
      "text/plain": [
       "array(['Unarmed/Did Not Have Actual Weapon', 'Allegedly Armed', 'Unclear',\n",
       "       'Vehicle'], dtype=object)"
      ]
     },
     "execution_count": 15,
     "metadata": {},
     "output_type": "execute_result"
    }
   ],
   "source": [
    "df.allegedly_armed.unique()"
   ]
  },
  {
   "cell_type": "code",
   "execution_count": 16,
   "id": "815279bd",
   "metadata": {},
   "outputs": [
    {
     "data": {
      "text/plain": [
       "array([-0.3198648 ,  0.08247469,  0.18260302, -0.2787408 , -0.0804928 ,\n",
       "        0.05568931, -0.4530957 ,  0.29003087, -0.53236145, -0.36274666,\n",
       "       -0.40975833,  0.3240186 , -0.0286827 ,  0.88560385,  0.32822067,\n",
       "       -0.17601909,  0.2727202 , -0.5614346 , -0.24288826,  0.06777334,\n",
       "       -0.34952256,  0.41065133, -0.37001294,  0.73117584,  0.9430155 ,\n",
       "       -0.34203944, -0.28407827,  0.49517295,  0.0787483 , -0.10519397,\n",
       "       -0.73428106,  0.24089716, -0.67473745,  0.15421695,  0.47148043,\n",
       "       -0.2889184 ,  0.34201157, -0.6465494 ,  0.1518729 ,  0.36646792,\n",
       "        0.41242552, -0.37393782,  0.9084713 , -0.21653017, -0.0474827 ,\n",
       "        0.3630811 ,  0.49496642,  0.9139698 ,  0.27827856, -0.14859009,\n",
       "       -0.03470332, -0.54532486, -0.21267942, -0.23289508,  0.47497144,\n",
       "       -0.0194388 , -0.6311741 ,  0.29847297, -0.17055185,  0.5632564 ,\n",
       "        0.07129121,  0.03380478, -0.07430896,  0.00979098,  0.11119524,\n",
       "       -0.2086293 ,  0.1146762 , -0.47177115, -0.26992035, -0.23643465,\n",
       "        0.04623944, -0.27989554, -0.28928348, -0.6643732 ,  0.2685593 ,\n",
       "        0.09850051,  0.09937675,  0.02505999,  0.05197342,  0.09735979,\n",
       "       -0.1137796 ,  0.46657816, -0.48898473,  0.5545426 , -0.5490541 ,\n",
       "       -0.34521872, -0.3155744 , -0.39790407,  0.21307917,  0.6174183 ,\n",
       "       -0.3715949 ,  0.19054829,  0.17210002,  0.24632475,  0.41278163,\n",
       "       -0.13822213, -0.1189595 , -0.31508046, -0.22894038,  0.0049622 ],\n",
       "      dtype=float32)"
      ]
     },
     "execution_count": 16,
     "metadata": {},
     "output_type": "execute_result"
    }
   ],
   "source": [
    "df.iloc[0].emb"
   ]
  },
  {
   "cell_type": "code",
   "execution_count": 17,
   "id": "769171a6",
   "metadata": {},
   "outputs": [],
   "source": [
    "def create_embedding_dimension_lem(l):\n",
    "    lemmatized = [lemmatizer.lemmatize(w) for w in l] \n",
    "    embeddings = [model.wv[word] for word in lemmatized if word in model.wv]\n",
    "    if len(embeddings) == 0:\n",
    "        return 0\n",
    "    emb = sum(embeddings) / len(embeddings)\n",
    "    return emb"
   ]
  },
  {
   "cell_type": "code",
   "execution_count": 18,
   "id": "91353800",
   "metadata": {},
   "outputs": [],
   "source": [
    "def create_embedding_dimension(l):\n",
    "    stemmed = [stemmer.stem(w) for w in l] \n",
    "    embeddings = [model.wv[word] for word in stemmed if word in model.wv]\n",
    "    if len(embeddings) == 0:\n",
    "        return 0\n",
    "    emb = sum(embeddings) / len(embeddings)\n",
    "    return emb"
   ]
  },
  {
   "cell_type": "code",
   "execution_count": 19,
   "id": "5ce64815",
   "metadata": {},
   "outputs": [],
   "source": [
    "criminal_dimension = create_embedding_dimension(criminality)\n",
    "mental_dimension = create_embedding_dimension(mental)"
   ]
  },
  {
   "cell_type": "code",
   "execution_count": 20,
   "id": "fcde5383",
   "metadata": {},
   "outputs": [],
   "source": [
    "criminal_dimension_lem = create_embedding_dimension_lem(criminality)\n",
    "mental_dimension_lem = create_embedding_dimension_lem(mental)"
   ]
  },
  {
   "cell_type": "code",
   "execution_count": 21,
   "id": "963d1216",
   "metadata": {},
   "outputs": [
    {
     "data": {
      "text/plain": [
       "array([ 0.16450872, -0.5754865 , -0.23153691, -0.01478629, -0.35141757,\n",
       "        0.60716   ,  0.03755226, -0.02729095,  0.06187922,  0.20751795,\n",
       "        0.06461097,  0.65000856,  0.02833593,  0.43889856, -0.06187674,\n",
       "       -0.10422292,  0.2400769 ,  0.1459391 , -0.31555203, -0.26375467,\n",
       "        0.38144684,  0.02127731, -0.3139545 ,  0.7098815 ,  0.21419723,\n",
       "       -0.1659213 , -0.27394807, -0.2232126 , -0.45663685,  0.04503582,\n",
       "        0.20316668, -0.2708475 ,  0.08834095, -0.04616502, -0.10659347,\n",
       "        0.21436906,  0.24270985, -0.27659386,  0.11043117,  0.16319868,\n",
       "        0.28631097, -0.18019697,  0.5817863 , -0.01376015, -0.42161602,\n",
       "        0.07092178,  0.2667014 , -0.03237163, -0.03101639, -0.10037074,\n",
       "       -0.09763314, -0.54776347,  0.01986785,  0.21024032, -0.01625049,\n",
       "        0.05152525, -0.1717684 ,  0.10497241, -0.18291683,  0.03406792,\n",
       "       -0.20309687,  0.19475761, -0.26603618, -0.05790906, -0.33787602,\n",
       "       -0.0632514 , -0.1514766 , -0.08661533, -0.36230874, -0.1512579 ,\n",
       "        0.11130538, -0.08169744, -0.5347212 , -0.15843053, -0.19378375,\n",
       "        0.3039016 ,  0.18520813,  0.22102773,  0.24858733, -0.07392175,\n",
       "        0.15465851, -0.16497698, -0.30135632,  0.11882865, -0.39866614,\n",
       "       -0.08149526, -0.21176486,  0.0731058 , -0.05444111,  0.20827703,\n",
       "       -0.6605332 ,  0.31422627, -0.19593045,  0.09743956,  0.36933908,\n",
       "       -0.29388258,  0.29814512,  0.21915908,  0.09865464,  0.2333368 ],\n",
       "      dtype=float32)"
      ]
     },
     "execution_count": 21,
     "metadata": {},
     "output_type": "execute_result"
    }
   ],
   "source": [
    "criminal_dimension"
   ]
  },
  {
   "cell_type": "code",
   "execution_count": 22,
   "id": "ab59908d",
   "metadata": {},
   "outputs": [
    {
     "data": {
      "text/plain": [
       "array([-0.02536458, -0.13179745, -0.23405544,  0.10342605, -0.26183134,\n",
       "        0.4039547 ,  0.39049435,  0.25825715, -0.01933487, -0.08694631,\n",
       "        0.093891  ,  0.37841862,  0.06689981,  0.09644082,  0.07104122,\n",
       "       -0.15498051,  0.3004254 , -0.04578625,  0.02012766, -0.2388821 ,\n",
       "        0.5850873 , -0.02011888,  0.07660916,  0.37409458, -0.24882817,\n",
       "        0.30912018, -0.37777427, -0.06455736, -0.22267419, -0.14666554,\n",
       "        0.05574656, -0.17977662, -0.08084849, -0.2684792 ,  0.10461606,\n",
       "        0.24892792, -0.08421971, -0.20174411,  0.08974564,  0.23545484,\n",
       "        0.23178698, -0.2748743 ,  0.3894324 , -0.09778746, -0.17312132,\n",
       "        0.31738997,  0.17797728,  0.05830799,  0.07919475,  0.08225547,\n",
       "       -0.31325617, -0.46771994, -0.10921598, -0.01445774,  0.1482184 ,\n",
       "       -0.09530978, -0.13221039, -0.06766609, -0.16415673,  0.35737067,\n",
       "       -0.26081952, -0.01121674, -0.1699271 , -0.03266311, -0.21063502,\n",
       "        0.09975211,  0.06435907,  0.00562243, -0.4401948 ,  0.15835883,\n",
       "        0.15535179,  0.08655847, -0.09035342, -0.07075828, -0.31613836,\n",
       "       -0.33971912, -0.1862029 ,  0.1441179 ,  0.17943372, -0.11050691,\n",
       "        0.24871133, -0.07752577, -0.24489494, -0.09435689, -0.16454549,\n",
       "        0.08200273,  0.00563637, -0.0507348 , -0.04119096,  0.11377202,\n",
       "       -0.5563452 , -0.01388048, -0.21268737, -0.2374578 ,  0.15366444,\n",
       "       -0.34835616,  0.08454992,  0.42873338, -0.06814028,  0.26548892],\n",
       "      dtype=float32)"
      ]
     },
     "execution_count": 22,
     "metadata": {},
     "output_type": "execute_result"
    }
   ],
   "source": [
    "mental_dimension"
   ]
  },
  {
   "cell_type": "code",
   "execution_count": 23,
   "id": "a3043065",
   "metadata": {},
   "outputs": [],
   "source": [
    "def cosine_similarity(v1, v2):\n",
    "    dot_ = np.dot(v1, v2)\n",
    "    norm1 = np.linalg.norm(v1)\n",
    "    norm2 = np.linalg.norm(v2)\n",
    "    if norm1 > 0 and norm2 > 0:\n",
    "        return dot_ / (norm1 * norm2)\n",
    "    else:\n",
    "        return 0.0"
   ]
  },
  {
   "cell_type": "code",
   "execution_count": 24,
   "id": "6eaec8d7",
   "metadata": {},
   "outputs": [
    {
     "data": {
      "text/plain": [
       "0.6429258"
      ]
     },
     "execution_count": 24,
     "metadata": {},
     "output_type": "execute_result"
    }
   ],
   "source": [
    "cosine_similarity(criminal_dimension, mental_dimension)"
   ]
  },
  {
   "cell_type": "code",
   "execution_count": 25,
   "id": "387f3cf2",
   "metadata": {},
   "outputs": [
    {
     "data": {
      "text/plain": [
       "0.56635743"
      ]
     },
     "execution_count": 25,
     "metadata": {},
     "output_type": "execute_result"
    }
   ],
   "source": [
    "cosine_similarity(criminal_dimension_lem, mental_dimension_lem)"
   ]
  },
  {
   "cell_type": "code",
   "execution_count": 26,
   "id": "d03521f5",
   "metadata": {},
   "outputs": [],
   "source": [
    "df['cosine_criminal'] = df['emb'].apply(lambda x: cosine_similarity(criminal_dimension, x))\n",
    "df['cosine_mental'] = df['emb'].apply(lambda x: cosine_similarity(mental_dimension, x))"
   ]
  },
  {
   "cell_type": "code",
   "execution_count": 27,
   "id": "95e9b7b7",
   "metadata": {},
   "outputs": [],
   "source": [
    "df['cosine_criminal_lem'] = df['emb'].apply(lambda x: cosine_similarity(criminal_dimension_lem, x))\n",
    "df['cosine_mental_lem'] = df['emb'].apply(lambda x: cosine_similarity(mental_dimension_lem, x))"
   ]
  },
  {
   "cell_type": "code",
   "execution_count": 28,
   "id": "fe602af0",
   "metadata": {},
   "outputs": [
    {
     "name": "stdout",
     "output_type": "stream",
     "text": [
      "0.4734303734742141\n",
      "0.49602597587332\n",
      "0.3774017695080411\n",
      "0.4005139732615944\n"
     ]
    }
   ],
   "source": [
    "average_criminal_white = df[df.race == 'White'].cosine_criminal.sum() / len(df[df.race == 'White'])\n",
    "average_criminal_black = df[df.race == 'Black'].cosine_criminal.sum() / len(df[df.race == 'Black'])\n",
    "average_mental_white = df[df.race == 'White'].cosine_mental.sum() / len(df[df.race == 'White'])\n",
    "average_mental_black = df[df.race == 'Black'].cosine_mental.sum() / len(df[df.race == 'Black'])\n",
    "\n",
    "print(average_criminal_white)\n",
    "print(average_criminal_black)\n",
    "print(average_mental_white)\n",
    "print(average_mental_black)"
   ]
  },
  {
   "cell_type": "code",
   "execution_count": 29,
   "id": "c8946ad2",
   "metadata": {},
   "outputs": [
    {
     "name": "stdout",
     "output_type": "stream",
     "text": [
      "0.4501289630586799\n",
      "0.4760091093456628\n",
      "0.3761035698057895\n",
      "0.40377352453505394\n"
     ]
    }
   ],
   "source": [
    "average_criminal_white_lem = df[df.race == 'White'].cosine_criminal_lem.sum() / len(df[df.race == 'White'])\n",
    "average_criminal_black_lem = df[df.race == 'Black'].cosine_criminal_lem.sum() / len(df[df.race == 'Black'])\n",
    "average_mental_white_lem = df[df.race == 'White'].cosine_mental_lem.sum() / len(df[df.race == 'White'])\n",
    "average_mental_black_lem = df[df.race == 'Black'].cosine_mental_lem.sum() / len(df[df.race == 'Black'])\n",
    "\n",
    "print(average_criminal_white_lem)\n",
    "print(average_criminal_black_lem)\n",
    "print(average_mental_white_lem)\n",
    "print(average_mental_black_lem)"
   ]
  },
  {
   "cell_type": "code",
   "execution_count": 30,
   "id": "280a9f3b",
   "metadata": {},
   "outputs": [],
   "source": [
    "def extract_sign_mental(col):\n",
    "    if col == 'Yes' or col == 'Drug or Alcohol Use' or col == 'History of Drug or Alcohol Use':\n",
    "        return 1\n",
    "    else:\n",
    "        return 0\n",
    "    \n",
    "def extract_sign_armed(col):\n",
    "    if col == 'Allegedly Armed' or col == 'Vehicle':\n",
    "        return 1\n",
    "    else:\n",
    "        return 0"
   ]
  },
  {
   "cell_type": "code",
   "execution_count": 31,
   "id": "12760c3f",
   "metadata": {},
   "outputs": [],
   "source": [
    "df['mental'] = df['signs_of_mental_illness'].apply(extract_sign_mental)\n",
    "df['criminal'] = df['allegedly_armed'].apply(extract_sign_armed)"
   ]
  },
  {
   "cell_type": "code",
   "execution_count": 32,
   "id": "3cc9aeac",
   "metadata": {},
   "outputs": [],
   "source": [
    "proxy_criminal_white = df[df.race == 'White'].criminal.sum() / len(df[df.race == 'White'])\n",
    "proxy_criminal_black = df[df.race == 'Black'].criminal.sum() / len(df[df.race == 'Black'])\n",
    "proxy_mental_white = df[df.race == 'White'].mental.sum() / len(df[df.race == 'White'])\n",
    "proxy_mental_black = df[df.race == 'Black'].mental.sum() / len(df[df.race == 'Black'])"
   ]
  },
  {
   "cell_type": "code",
   "execution_count": 33,
   "id": "8c548924",
   "metadata": {},
   "outputs": [
    {
     "name": "stdout",
     "output_type": "stream",
     "text": [
      "0.757223113964687\n",
      "0.6761133603238867\n",
      "0.31942215088282505\n",
      "0.16310005783689993\n"
     ]
    }
   ],
   "source": [
    "print(proxy_criminal_white)\n",
    "print(proxy_criminal_black)\n",
    "print(proxy_mental_white)\n",
    "print(proxy_mental_black)"
   ]
  },
  {
   "cell_type": "code",
   "execution_count": 34,
   "id": "136a48db",
   "metadata": {},
   "outputs": [
    {
     "name": "stdout",
     "output_type": "stream",
     "text": [
      "Proportion of white victims armed: 0.757223113964687. Criminal bias in articles for white victims: 0.4734303734742141\n",
      "Proportion of black victims armed: 0.6761133603238867. Criminal bias in articles for black victims: 0.49602597587332\n",
      "Proportion of white victims with signs of mental illness: 0.31942215088282505. Mental bias in articles for white victims: 0.3774017695080411\n",
      "Proportion of black victims with signs of mental illness: 0.16310005783689993. Mental bias in articles for black victims: 0.4005139732615944\n"
     ]
    }
   ],
   "source": [
    "print(f\"Proportion of white victims armed: {proxy_criminal_white}. Criminal bias in articles for white victims: {average_criminal_white}\")\n",
    "print(f\"Proportion of black victims armed: {proxy_criminal_black}. Criminal bias in articles for black victims: {average_criminal_black}\")\n",
    "print(f\"Proportion of white victims with signs of mental illness: {proxy_mental_white}. Mental bias in articles for white victims: {average_mental_white}\")\n",
    "print(f\"Proportion of black victims with signs of mental illness: {proxy_mental_black}. Mental bias in articles for black victims: {average_mental_black}\")"
   ]
  }
 ],
 "metadata": {
  "kernelspec": {
   "display_name": "Python 3 (ipykernel)",
   "language": "python",
   "name": "python3"
  },
  "language_info": {
   "codemirror_mode": {
    "name": "ipython",
    "version": 3
   },
   "file_extension": ".py",
   "mimetype": "text/x-python",
   "name": "python",
   "nbconvert_exporter": "python",
   "pygments_lexer": "ipython3",
   "version": "3.11.8"
  }
 },
 "nbformat": 4,
 "nbformat_minor": 5
}
