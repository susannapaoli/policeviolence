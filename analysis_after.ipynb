{
 "cells": [
  {
   "cell_type": "code",
   "execution_count": 1,
   "id": "1de8e350",
   "metadata": {},
   "outputs": [
    {
     "name": "stderr",
     "output_type": "stream",
     "text": [
      "[nltk_data] Downloading package wordnet to\n",
      "[nltk_data]     /Users/gigimancinelli./nltk_data...\n",
      "[nltk_data]   Package wordnet is already up-to-date!\n"
     ]
    }
   ],
   "source": [
    "import pandas as pd\n",
    "from gensim.models import Word2Vec\n",
    "import re\n",
    "from nltk.stem import SnowballStemmer, WordNetLemmatizer\n",
    "stemmer = SnowballStemmer('english')\n",
    "import nltk\n",
    "nltk.download('wordnet')\n",
    "import numpy as np\n",
    "lemmatizer = WordNetLemmatizer()\n"
   ]
  },
  {
   "cell_type": "code",
   "execution_count": 2,
   "id": "08654ca6",
   "metadata": {},
   "outputs": [],
   "source": [
    "criminality = ['theft', 'deviance', 'indictment', 'criminalization', 'guilt', 'government', 'tort', \n",
    "               'criminalness', 'criminalism', 'imprisonment', 'punishment', 'law', 'banditry', 'lawlessness', \n",
    "               'statutory', 'illegality', 'murder', 'immorality', 'sectarianism', 'dishonesty', \n",
    "               'impunity', 'criminalisation', 'brutality', 'thuggery', 'trial', 'recklessness', 'militancy', \n",
    "               'decriminalization', 'sentence', 'bigotry', 'extremism', 'viciousness', 'duplicity', \n",
    "               'xenophobia', 'mysonygy', 'stupidity', 'hypocrisy', 'irresponsibility', 'racism',\n",
    "               'illegalities', 'coercion', 'vigilantism', 'imprisonment', 'plaintiff', 'criminology', \n",
    "               'felony', 'desertion', 'charge', 'power', 'wrong']\n",
    "mental = ['schizophrenia', 'depression', 'bipolar', 'disorder', 'antisocial', 'personality', 'psychosis', \n",
    "          'psychotherapy', 'dementia', 'psychopathy', 'disability', 'anxiety', 'illness', 'alcoholism', 'brain', \n",
    "          'diagnosis', 'mind', 'symptoms', 'delusions', 'hallucinations', 'chronic', 'attention', 'deficit', \n",
    "          'hyperactivity', 'psychiatrists', 'disease', 'stress', 'epilepsy', 'agoraphobia', 'suffering', \n",
    "          'dysthymia', 'hypomania', 'sclerosis', 'psychiatric', 'psychological', 'disabilities', 'paraphilia', \n",
    "          'ocd', 'psychotic', 'syndrome', 'delusional', 'community', 'eating', 'disorder', 'anorexia', 'bulimia', \n",
    "          'nervosa', 'sickness', 'substance', 'abuse']"
   ]
  },
  {
   "cell_type": "code",
   "execution_count": 3,
   "id": "dfa8877f",
   "metadata": {},
   "outputs": [
    {
     "data": {
      "text/plain": [
       "50"
      ]
     },
     "execution_count": 3,
     "metadata": {},
     "output_type": "execute_result"
    }
   ],
   "source": [
    "len(criminality)"
   ]
  },
  {
   "cell_type": "code",
   "execution_count": 4,
   "id": "bd3e641f",
   "metadata": {},
   "outputs": [
    {
     "data": {
      "text/plain": [
       "50"
      ]
     },
     "execution_count": 4,
     "metadata": {},
     "output_type": "execute_result"
    }
   ],
   "source": [
    "len(mental)"
   ]
  },
  {
   "cell_type": "code",
   "execution_count": 5,
   "id": "37e7773b",
   "metadata": {},
   "outputs": [],
   "source": [
    "model = Word2Vec.load(\"./model/word2vec_after_floyd.model\")"
   ]
  },
  {
   "cell_type": "code",
   "execution_count": 6,
   "id": "13e5dc84",
   "metadata": {},
   "outputs": [],
   "source": [
    "df = pd.read_csv(\"./data/mpv_clean_pattern_stop.csv\")"
   ]
  },
  {
   "cell_type": "code",
   "execution_count": 7,
   "id": "18886ab7",
   "metadata": {},
   "outputs": [
    {
     "data": {
      "text/html": [
       "<div>\n",
       "<style scoped>\n",
       "    .dataframe tbody tr th:only-of-type {\n",
       "        vertical-align: middle;\n",
       "    }\n",
       "\n",
       "    .dataframe tbody tr th {\n",
       "        vertical-align: top;\n",
       "    }\n",
       "\n",
       "    .dataframe thead th {\n",
       "        text-align: right;\n",
       "    }\n",
       "</style>\n",
       "<table border=\"1\" class=\"dataframe\">\n",
       "  <thead>\n",
       "    <tr style=\"text-align: right;\">\n",
       "      <th></th>\n",
       "      <th>Unnamed: 0</th>\n",
       "      <th>name</th>\n",
       "      <th>gender</th>\n",
       "      <th>race</th>\n",
       "      <th>age</th>\n",
       "      <th>date</th>\n",
       "      <th>after_Floyd</th>\n",
       "      <th>city</th>\n",
       "      <th>state</th>\n",
       "      <th>cause_of_death</th>\n",
       "      <th>...</th>\n",
       "      <th>wapo_armed</th>\n",
       "      <th>wapo_threat_level</th>\n",
       "      <th>wapo_flee</th>\n",
       "      <th>wapo_body_camera</th>\n",
       "      <th>initial_reason</th>\n",
       "      <th>text</th>\n",
       "      <th>authors</th>\n",
       "      <th>TextColumn</th>\n",
       "      <th>cleaned</th>\n",
       "      <th>sentences</th>\n",
       "    </tr>\n",
       "  </thead>\n",
       "  <tbody>\n",
       "    <tr>\n",
       "      <th>0</th>\n",
       "      <td>0</td>\n",
       "      <td>Clyde E. Young</td>\n",
       "      <td>Male</td>\n",
       "      <td>White</td>\n",
       "      <td>28.0</td>\n",
       "      <td>2024-02-22</td>\n",
       "      <td>True</td>\n",
       "      <td>West Alton</td>\n",
       "      <td>MO</td>\n",
       "      <td>Gunshot</td>\n",
       "      <td>...</td>\n",
       "      <td>NaN</td>\n",
       "      <td>Used Weapon</td>\n",
       "      <td>Not Fleeing</td>\n",
       "      <td>NaN</td>\n",
       "      <td>Murder (suspect)</td>\n",
       "      <td>['A Godfrey man who had been charged with murd...</td>\n",
       "      <td>[['Mike Koziatek'], []]</td>\n",
       "      <td>a godfrey man who had been charged with murd...</td>\n",
       "      <td>godfrey man who had been charged with murder i...</td>\n",
       "      <td>[['godfrey', 'man', 'charg', 'murder', 'shoot'...</td>\n",
       "    </tr>\n",
       "    <tr>\n",
       "      <th>1</th>\n",
       "      <td>1</td>\n",
       "      <td>Clyde E. Young</td>\n",
       "      <td>Male</td>\n",
       "      <td>White</td>\n",
       "      <td>28.0</td>\n",
       "      <td>2024-02-22</td>\n",
       "      <td>True</td>\n",
       "      <td>West Alton</td>\n",
       "      <td>MO</td>\n",
       "      <td>Gunshot</td>\n",
       "      <td>...</td>\n",
       "      <td>NaN</td>\n",
       "      <td>Used Weapon</td>\n",
       "      <td>Not Fleeing</td>\n",
       "      <td>NaN</td>\n",
       "      <td>Murder (suspect)</td>\n",
       "      <td>['The man, identified as Clyde Young, was char...</td>\n",
       "      <td>[['Mike Koziatek'], []]</td>\n",
       "      <td>the man  identified as clyde young  was char...</td>\n",
       "      <td>the man identified as clyde young was charged ...</td>\n",
       "      <td>[['man', 'identifi', 'clyde', 'young', 'charg'...</td>\n",
       "    </tr>\n",
       "    <tr>\n",
       "      <th>2</th>\n",
       "      <td>2</td>\n",
       "      <td>Jamarcus Brown</td>\n",
       "      <td>Male</td>\n",
       "      <td>Black</td>\n",
       "      <td>35.0</td>\n",
       "      <td>2024-02-21</td>\n",
       "      <td>True</td>\n",
       "      <td>Lake Cormorant</td>\n",
       "      <td>MS</td>\n",
       "      <td>Gunshot</td>\n",
       "      <td>...</td>\n",
       "      <td>NaN</td>\n",
       "      <td>Attack</td>\n",
       "      <td>Car</td>\n",
       "      <td>Victim Facebook Live Video</td>\n",
       "      <td>Traffic Stop</td>\n",
       "      <td>['DESOTO COUNTY, Miss. (WMC) - Mississippi Bur...</td>\n",
       "      <td>[[], ['Lakiya Scott'], []]</td>\n",
       "      <td>desoto county  miss   wmc    mississippi bur...</td>\n",
       "      <td>desoto county miss wmc mississippi bureau of i...</td>\n",
       "      <td>[['desoto', 'counti', 'miss', 'wmc', 'mississi...</td>\n",
       "    </tr>\n",
       "    <tr>\n",
       "      <th>3</th>\n",
       "      <td>3</td>\n",
       "      <td>Jamarcus Brown</td>\n",
       "      <td>Male</td>\n",
       "      <td>Black</td>\n",
       "      <td>35.0</td>\n",
       "      <td>2024-02-21</td>\n",
       "      <td>True</td>\n",
       "      <td>Lake Cormorant</td>\n",
       "      <td>MS</td>\n",
       "      <td>Gunshot</td>\n",
       "      <td>...</td>\n",
       "      <td>NaN</td>\n",
       "      <td>Attack</td>\n",
       "      <td>Car</td>\n",
       "      <td>Victim Facebook Live Video</td>\n",
       "      <td>Traffic Stop</td>\n",
       "      <td>['Close Get email notifications on {{subject}}...</td>\n",
       "      <td>[[], ['Lakiya Scott'], []]</td>\n",
       "      <td>close get email notifications on   subject  ...</td>\n",
       "      <td>close get on subject are only sent and only if...</td>\n",
       "      <td>[['close', 'get', 'subject', 'sent', 'new']]</td>\n",
       "    </tr>\n",
       "    <tr>\n",
       "      <th>4</th>\n",
       "      <td>4</td>\n",
       "      <td>Jamarcus Brown</td>\n",
       "      <td>Male</td>\n",
       "      <td>Black</td>\n",
       "      <td>35.0</td>\n",
       "      <td>2024-02-21</td>\n",
       "      <td>True</td>\n",
       "      <td>Lake Cormorant</td>\n",
       "      <td>MS</td>\n",
       "      <td>Gunshot</td>\n",
       "      <td>...</td>\n",
       "      <td>NaN</td>\n",
       "      <td>Attack</td>\n",
       "      <td>Car</td>\n",
       "      <td>Victim Facebook Live Video</td>\n",
       "      <td>Traffic Stop</td>\n",
       "      <td>['The Carlos Moore Law Group said it has been ...</td>\n",
       "      <td>[[], ['Lakiya Scott'], []]</td>\n",
       "      <td>the carlos moore law group said it has been ...</td>\n",
       "      <td>the carlos moore law group said it has been re...</td>\n",
       "      <td>[['carlo', 'moor', 'law', 'group', 'said', 're...</td>\n",
       "    </tr>\n",
       "  </tbody>\n",
       "</table>\n",
       "<p>5 rows × 25 columns</p>\n",
       "</div>"
      ],
      "text/plain": [
       "   Unnamed: 0            name gender   race   age        date  after_Floyd  \\\n",
       "0           0  Clyde E. Young   Male  White  28.0  2024-02-22         True   \n",
       "1           1  Clyde E. Young   Male  White  28.0  2024-02-22         True   \n",
       "2           2  Jamarcus Brown   Male  Black  35.0  2024-02-21         True   \n",
       "3           3  Jamarcus Brown   Male  Black  35.0  2024-02-21         True   \n",
       "4           4  Jamarcus Brown   Male  Black  35.0  2024-02-21         True   \n",
       "\n",
       "             city state cause_of_death  ... wapo_armed wapo_threat_level  \\\n",
       "0      West Alton    MO        Gunshot  ...        NaN       Used Weapon   \n",
       "1      West Alton    MO        Gunshot  ...        NaN       Used Weapon   \n",
       "2  Lake Cormorant    MS        Gunshot  ...        NaN            Attack   \n",
       "3  Lake Cormorant    MS        Gunshot  ...        NaN            Attack   \n",
       "4  Lake Cormorant    MS        Gunshot  ...        NaN            Attack   \n",
       "\n",
       "     wapo_flee            wapo_body_camera    initial_reason  \\\n",
       "0  Not Fleeing                         NaN  Murder (suspect)   \n",
       "1  Not Fleeing                         NaN  Murder (suspect)   \n",
       "2          Car  Victim Facebook Live Video      Traffic Stop   \n",
       "3          Car  Victim Facebook Live Video      Traffic Stop   \n",
       "4          Car  Victim Facebook Live Video      Traffic Stop   \n",
       "\n",
       "                                                text  \\\n",
       "0  ['A Godfrey man who had been charged with murd...   \n",
       "1  ['The man, identified as Clyde Young, was char...   \n",
       "2  ['DESOTO COUNTY, Miss. (WMC) - Mississippi Bur...   \n",
       "3  ['Close Get email notifications on {{subject}}...   \n",
       "4  ['The Carlos Moore Law Group said it has been ...   \n",
       "\n",
       "                      authors  \\\n",
       "0     [['Mike Koziatek'], []]   \n",
       "1     [['Mike Koziatek'], []]   \n",
       "2  [[], ['Lakiya Scott'], []]   \n",
       "3  [[], ['Lakiya Scott'], []]   \n",
       "4  [[], ['Lakiya Scott'], []]   \n",
       "\n",
       "                                          TextColumn  \\\n",
       "0    a godfrey man who had been charged with murd...   \n",
       "1    the man  identified as clyde young  was char...   \n",
       "2    desoto county  miss   wmc    mississippi bur...   \n",
       "3    close get email notifications on   subject  ...   \n",
       "4    the carlos moore law group said it has been ...   \n",
       "\n",
       "                                             cleaned  \\\n",
       "0  godfrey man who had been charged with murder i...   \n",
       "1  the man identified as clyde young was charged ...   \n",
       "2  desoto county miss wmc mississippi bureau of i...   \n",
       "3  close get on subject are only sent and only if...   \n",
       "4  the carlos moore law group said it has been re...   \n",
       "\n",
       "                                           sentences  \n",
       "0  [['godfrey', 'man', 'charg', 'murder', 'shoot'...  \n",
       "1  [['man', 'identifi', 'clyde', 'young', 'charg'...  \n",
       "2  [['desoto', 'counti', 'miss', 'wmc', 'mississi...  \n",
       "3       [['close', 'get', 'subject', 'sent', 'new']]  \n",
       "4  [['carlo', 'moor', 'law', 'group', 'said', 're...  \n",
       "\n",
       "[5 rows x 25 columns]"
      ]
     },
     "execution_count": 7,
     "metadata": {},
     "output_type": "execute_result"
    }
   ],
   "source": [
    "df.head()"
   ]
  },
  {
   "cell_type": "code",
   "execution_count": 8,
   "id": "90cfb2e3",
   "metadata": {},
   "outputs": [
    {
     "data": {
      "text/html": [
       "<div>\n",
       "<style scoped>\n",
       "    .dataframe tbody tr th:only-of-type {\n",
       "        vertical-align: middle;\n",
       "    }\n",
       "\n",
       "    .dataframe tbody tr th {\n",
       "        vertical-align: top;\n",
       "    }\n",
       "\n",
       "    .dataframe thead th {\n",
       "        text-align: right;\n",
       "    }\n",
       "</style>\n",
       "<table border=\"1\" class=\"dataframe\">\n",
       "  <thead>\n",
       "    <tr style=\"text-align: right;\">\n",
       "      <th></th>\n",
       "      <th>Unnamed: 0</th>\n",
       "      <th>name</th>\n",
       "      <th>gender</th>\n",
       "      <th>race</th>\n",
       "      <th>age</th>\n",
       "      <th>date</th>\n",
       "      <th>after_Floyd</th>\n",
       "      <th>city</th>\n",
       "      <th>state</th>\n",
       "      <th>cause_of_death</th>\n",
       "      <th>...</th>\n",
       "      <th>wapo_armed</th>\n",
       "      <th>wapo_threat_level</th>\n",
       "      <th>wapo_flee</th>\n",
       "      <th>wapo_body_camera</th>\n",
       "      <th>initial_reason</th>\n",
       "      <th>text</th>\n",
       "      <th>authors</th>\n",
       "      <th>TextColumn</th>\n",
       "      <th>cleaned</th>\n",
       "      <th>sentences</th>\n",
       "    </tr>\n",
       "  </thead>\n",
       "  <tbody>\n",
       "    <tr>\n",
       "      <th>0</th>\n",
       "      <td>0</td>\n",
       "      <td>Clyde E. Young</td>\n",
       "      <td>Male</td>\n",
       "      <td>White</td>\n",
       "      <td>28.0</td>\n",
       "      <td>2024-02-22</td>\n",
       "      <td>True</td>\n",
       "      <td>West Alton</td>\n",
       "      <td>MO</td>\n",
       "      <td>Gunshot</td>\n",
       "      <td>...</td>\n",
       "      <td>NaN</td>\n",
       "      <td>Used Weapon</td>\n",
       "      <td>Not Fleeing</td>\n",
       "      <td>NaN</td>\n",
       "      <td>Murder (suspect)</td>\n",
       "      <td>['A Godfrey man who had been charged with murd...</td>\n",
       "      <td>[['Mike Koziatek'], []]</td>\n",
       "      <td>a godfrey man who had been charged with murd...</td>\n",
       "      <td>godfrey man who had been charged with murder i...</td>\n",
       "      <td>[['godfrey', 'man', 'charg', 'murder', 'shoot'...</td>\n",
       "    </tr>\n",
       "    <tr>\n",
       "      <th>1</th>\n",
       "      <td>1</td>\n",
       "      <td>Clyde E. Young</td>\n",
       "      <td>Male</td>\n",
       "      <td>White</td>\n",
       "      <td>28.0</td>\n",
       "      <td>2024-02-22</td>\n",
       "      <td>True</td>\n",
       "      <td>West Alton</td>\n",
       "      <td>MO</td>\n",
       "      <td>Gunshot</td>\n",
       "      <td>...</td>\n",
       "      <td>NaN</td>\n",
       "      <td>Used Weapon</td>\n",
       "      <td>Not Fleeing</td>\n",
       "      <td>NaN</td>\n",
       "      <td>Murder (suspect)</td>\n",
       "      <td>['The man, identified as Clyde Young, was char...</td>\n",
       "      <td>[['Mike Koziatek'], []]</td>\n",
       "      <td>the man  identified as clyde young  was char...</td>\n",
       "      <td>the man identified as clyde young was charged ...</td>\n",
       "      <td>[['man', 'identifi', 'clyde', 'young', 'charg'...</td>\n",
       "    </tr>\n",
       "    <tr>\n",
       "      <th>2</th>\n",
       "      <td>2</td>\n",
       "      <td>Jamarcus Brown</td>\n",
       "      <td>Male</td>\n",
       "      <td>Black</td>\n",
       "      <td>35.0</td>\n",
       "      <td>2024-02-21</td>\n",
       "      <td>True</td>\n",
       "      <td>Lake Cormorant</td>\n",
       "      <td>MS</td>\n",
       "      <td>Gunshot</td>\n",
       "      <td>...</td>\n",
       "      <td>NaN</td>\n",
       "      <td>Attack</td>\n",
       "      <td>Car</td>\n",
       "      <td>Victim Facebook Live Video</td>\n",
       "      <td>Traffic Stop</td>\n",
       "      <td>['DESOTO COUNTY, Miss. (WMC) - Mississippi Bur...</td>\n",
       "      <td>[[], ['Lakiya Scott'], []]</td>\n",
       "      <td>desoto county  miss   wmc    mississippi bur...</td>\n",
       "      <td>desoto county miss wmc mississippi bureau of i...</td>\n",
       "      <td>[['desoto', 'counti', 'miss', 'wmc', 'mississi...</td>\n",
       "    </tr>\n",
       "    <tr>\n",
       "      <th>3</th>\n",
       "      <td>3</td>\n",
       "      <td>Jamarcus Brown</td>\n",
       "      <td>Male</td>\n",
       "      <td>Black</td>\n",
       "      <td>35.0</td>\n",
       "      <td>2024-02-21</td>\n",
       "      <td>True</td>\n",
       "      <td>Lake Cormorant</td>\n",
       "      <td>MS</td>\n",
       "      <td>Gunshot</td>\n",
       "      <td>...</td>\n",
       "      <td>NaN</td>\n",
       "      <td>Attack</td>\n",
       "      <td>Car</td>\n",
       "      <td>Victim Facebook Live Video</td>\n",
       "      <td>Traffic Stop</td>\n",
       "      <td>['Close Get email notifications on {{subject}}...</td>\n",
       "      <td>[[], ['Lakiya Scott'], []]</td>\n",
       "      <td>close get email notifications on   subject  ...</td>\n",
       "      <td>close get on subject are only sent and only if...</td>\n",
       "      <td>[['close', 'get', 'subject', 'sent', 'new']]</td>\n",
       "    </tr>\n",
       "    <tr>\n",
       "      <th>4</th>\n",
       "      <td>4</td>\n",
       "      <td>Jamarcus Brown</td>\n",
       "      <td>Male</td>\n",
       "      <td>Black</td>\n",
       "      <td>35.0</td>\n",
       "      <td>2024-02-21</td>\n",
       "      <td>True</td>\n",
       "      <td>Lake Cormorant</td>\n",
       "      <td>MS</td>\n",
       "      <td>Gunshot</td>\n",
       "      <td>...</td>\n",
       "      <td>NaN</td>\n",
       "      <td>Attack</td>\n",
       "      <td>Car</td>\n",
       "      <td>Victim Facebook Live Video</td>\n",
       "      <td>Traffic Stop</td>\n",
       "      <td>['The Carlos Moore Law Group said it has been ...</td>\n",
       "      <td>[[], ['Lakiya Scott'], []]</td>\n",
       "      <td>the carlos moore law group said it has been ...</td>\n",
       "      <td>the carlos moore law group said it has been re...</td>\n",
       "      <td>[['carlo', 'moor', 'law', 'group', 'said', 're...</td>\n",
       "    </tr>\n",
       "  </tbody>\n",
       "</table>\n",
       "<p>5 rows × 25 columns</p>\n",
       "</div>"
      ],
      "text/plain": [
       "   Unnamed: 0            name gender   race   age        date  after_Floyd  \\\n",
       "0           0  Clyde E. Young   Male  White  28.0  2024-02-22         True   \n",
       "1           1  Clyde E. Young   Male  White  28.0  2024-02-22         True   \n",
       "2           2  Jamarcus Brown   Male  Black  35.0  2024-02-21         True   \n",
       "3           3  Jamarcus Brown   Male  Black  35.0  2024-02-21         True   \n",
       "4           4  Jamarcus Brown   Male  Black  35.0  2024-02-21         True   \n",
       "\n",
       "             city state cause_of_death  ... wapo_armed wapo_threat_level  \\\n",
       "0      West Alton    MO        Gunshot  ...        NaN       Used Weapon   \n",
       "1      West Alton    MO        Gunshot  ...        NaN       Used Weapon   \n",
       "2  Lake Cormorant    MS        Gunshot  ...        NaN            Attack   \n",
       "3  Lake Cormorant    MS        Gunshot  ...        NaN            Attack   \n",
       "4  Lake Cormorant    MS        Gunshot  ...        NaN            Attack   \n",
       "\n",
       "     wapo_flee            wapo_body_camera    initial_reason  \\\n",
       "0  Not Fleeing                         NaN  Murder (suspect)   \n",
       "1  Not Fleeing                         NaN  Murder (suspect)   \n",
       "2          Car  Victim Facebook Live Video      Traffic Stop   \n",
       "3          Car  Victim Facebook Live Video      Traffic Stop   \n",
       "4          Car  Victim Facebook Live Video      Traffic Stop   \n",
       "\n",
       "                                                text  \\\n",
       "0  ['A Godfrey man who had been charged with murd...   \n",
       "1  ['The man, identified as Clyde Young, was char...   \n",
       "2  ['DESOTO COUNTY, Miss. (WMC) - Mississippi Bur...   \n",
       "3  ['Close Get email notifications on {{subject}}...   \n",
       "4  ['The Carlos Moore Law Group said it has been ...   \n",
       "\n",
       "                      authors  \\\n",
       "0     [['Mike Koziatek'], []]   \n",
       "1     [['Mike Koziatek'], []]   \n",
       "2  [[], ['Lakiya Scott'], []]   \n",
       "3  [[], ['Lakiya Scott'], []]   \n",
       "4  [[], ['Lakiya Scott'], []]   \n",
       "\n",
       "                                          TextColumn  \\\n",
       "0    a godfrey man who had been charged with murd...   \n",
       "1    the man  identified as clyde young  was char...   \n",
       "2    desoto county  miss   wmc    mississippi bur...   \n",
       "3    close get email notifications on   subject  ...   \n",
       "4    the carlos moore law group said it has been ...   \n",
       "\n",
       "                                             cleaned  \\\n",
       "0  godfrey man who had been charged with murder i...   \n",
       "1  the man identified as clyde young was charged ...   \n",
       "2  desoto county miss wmc mississippi bureau of i...   \n",
       "3  close get on subject are only sent and only if...   \n",
       "4  the carlos moore law group said it has been re...   \n",
       "\n",
       "                                           sentences  \n",
       "0  [['godfrey', 'man', 'charg', 'murder', 'shoot'...  \n",
       "1  [['man', 'identifi', 'clyde', 'young', 'charg'...  \n",
       "2  [['desoto', 'counti', 'miss', 'wmc', 'mississi...  \n",
       "3       [['close', 'get', 'subject', 'sent', 'new']]  \n",
       "4  [['carlo', 'moor', 'law', 'group', 'said', 're...  \n",
       "\n",
       "[5 rows x 25 columns]"
      ]
     },
     "execution_count": 8,
     "metadata": {},
     "output_type": "execute_result"
    }
   ],
   "source": [
    "df = df[df.after_Floyd == 1]\n",
    "df.head()"
   ]
  },
  {
   "cell_type": "code",
   "execution_count": 9,
   "id": "0d75e377",
   "metadata": {},
   "outputs": [],
   "source": [
    "def create_embedding(text):\n",
    "    text = re.sub(r'[^a-zA-Z0-9]', ' ', text)\n",
    "    text = text.strip()\n",
    "    embeddings = [model.wv[word] for word in text.split()]\n",
    "    if len(embeddings) == 0:\n",
    "        return 0\n",
    "    emb = sum(embeddings) / len(embeddings)\n",
    "    return emb"
   ]
  },
  {
   "cell_type": "code",
   "execution_count": 10,
   "id": "269a679d",
   "metadata": {},
   "outputs": [],
   "source": [
    "df['emb'] = df['sentences'].apply(create_embedding)"
   ]
  },
  {
   "cell_type": "code",
   "execution_count": 11,
   "id": "ad9f3a80",
   "metadata": {},
   "outputs": [
    {
     "data": {
      "text/plain": [
       "Index(['Unnamed: 0', 'name', 'gender', 'race', 'age', 'date', 'after_Floyd',\n",
       "       'city', 'state', 'cause_of_death', 'circumstances', 'news_urls',\n",
       "       'signs_of_mental_illness', 'officer_charged', 'allegedly_armed',\n",
       "       'wapo_armed', 'wapo_threat_level', 'wapo_flee', 'wapo_body_camera',\n",
       "       'initial_reason', 'text', 'authors', 'TextColumn', 'cleaned',\n",
       "       'sentences', 'emb'],\n",
       "      dtype='object')"
      ]
     },
     "execution_count": 11,
     "metadata": {},
     "output_type": "execute_result"
    }
   ],
   "source": [
    "df.columns"
   ]
  },
  {
   "cell_type": "code",
   "execution_count": 12,
   "id": "30cecc4e",
   "metadata": {},
   "outputs": [
    {
     "data": {
      "text/plain": [
       "array(['Allegedly Armed', 'Unarmed/Did Not Have Actual Weapon', 'Vehicle',\n",
       "       'Unclear'], dtype=object)"
      ]
     },
     "execution_count": 12,
     "metadata": {},
     "output_type": "execute_result"
    }
   ],
   "source": [
    "df.allegedly_armed.unique()"
   ]
  },
  {
   "cell_type": "code",
   "execution_count": 13,
   "id": "815279bd",
   "metadata": {},
   "outputs": [
    {
     "data": {
      "text/plain": [
       "array([-0.17663573, -0.16131967,  0.38074055,  0.20729914,  0.4884752 ,\n",
       "        0.00895183, -0.04484184,  0.15099177, -0.05937086, -0.25370842,\n",
       "       -0.41164464,  0.5045725 ,  0.32967645,  0.50178444, -0.50008136,\n",
       "        0.07961655, -0.470126  , -0.79679304, -0.0094441 , -0.2994481 ,\n",
       "       -0.05333984, -0.12292351,  0.12499229,  0.5023059 ,  0.5047119 ,\n",
       "       -0.33604366, -0.37255943, -0.05130054, -0.44494256, -0.28057227,\n",
       "        0.10898425,  0.1098993 , -0.5506277 ,  0.25902036, -0.15826532,\n",
       "        0.08516016, -0.08455878, -0.14702591, -0.46676713, -0.41928336,\n",
       "        0.49483296,  0.23341209,  0.2729662 , -0.31157553, -0.09896929,\n",
       "        0.128176  ,  0.35859716, -0.10031158,  0.35177103, -0.05913877,\n",
       "       -0.34643131,  0.01826585,  0.31314552, -0.32289332, -0.2701534 ,\n",
       "       -0.03365142, -0.45830697,  0.6617549 ,  0.02312059,  0.40085474,\n",
       "        0.6203378 ,  0.32555994, -0.8967279 , -0.16954088,  0.4307237 ,\n",
       "       -0.2307604 , -0.20872585, -0.20408475,  0.36351693, -0.07488786,\n",
       "        0.08293478, -0.06947619, -0.1700765 , -0.7531287 ,  0.275189  ,\n",
       "       -0.33705103,  0.4408335 , -0.21323398,  0.14687867,  0.18577302,\n",
       "       -0.5614052 , -0.12146137, -0.30595872,  0.50753254,  0.07906729,\n",
       "        0.18096781, -0.07821613, -0.42428482, -0.4832725 , -0.0215652 ,\n",
       "        0.00580823, -0.1447295 ,  0.04590385,  0.18121472,  0.02945281,\n",
       "       -0.3613865 ,  0.2548445 ,  0.136002  ,  0.21413413, -0.32384318],\n",
       "      dtype=float32)"
      ]
     },
     "execution_count": 13,
     "metadata": {},
     "output_type": "execute_result"
    }
   ],
   "source": [
    "df.iloc[0].emb"
   ]
  },
  {
   "cell_type": "code",
   "execution_count": 14,
   "id": "769171a6",
   "metadata": {},
   "outputs": [],
   "source": [
    "def create_embedding_dimension_lem(l):\n",
    "    lemmatized = [lemmatizer.lemmatize(w) for w in l] \n",
    "    embeddings = [model.wv[word] for word in lemmatized if word in model.wv]\n",
    "    if len(embeddings) == 0:\n",
    "        return 0\n",
    "    emb = sum(embeddings) / len(embeddings)\n",
    "    return emb"
   ]
  },
  {
   "cell_type": "code",
   "execution_count": 15,
   "id": "91353800",
   "metadata": {},
   "outputs": [],
   "source": [
    "def create_embedding_dimension(l):\n",
    "    stemmed = [stemmer.stem(w) for w in l] \n",
    "    embeddings = [model.wv[word] for word in stemmed if word in model.wv]\n",
    "    if len(embeddings) == 0:\n",
    "        return 0\n",
    "    emb = sum(embeddings) / len(embeddings)\n",
    "    return emb"
   ]
  },
  {
   "cell_type": "code",
   "execution_count": 16,
   "id": "5ce64815",
   "metadata": {},
   "outputs": [],
   "source": [
    "criminal_dimension = create_embedding_dimension(criminality)\n",
    "mental_dimension = create_embedding_dimension(mental)"
   ]
  },
  {
   "cell_type": "code",
   "execution_count": 17,
   "id": "fcde5383",
   "metadata": {},
   "outputs": [],
   "source": [
    "criminal_dimension_lem = create_embedding_dimension_lem(criminality)\n",
    "mental_dimension_lem = create_embedding_dimension_lem(mental)"
   ]
  },
  {
   "cell_type": "code",
   "execution_count": 18,
   "id": "963d1216",
   "metadata": {},
   "outputs": [
    {
     "data": {
      "text/plain": [
       "array([ 0.48185667, -0.29067114, -0.02328756,  1.0173376 , -0.00262295,\n",
       "        0.32315028,  0.0102172 ,  0.04115352,  0.5617864 , -0.25594172,\n",
       "       -0.02258981, -0.14812975,  0.19523141,  0.14661625, -0.1231785 ,\n",
       "        0.01629736, -0.35857302, -0.3640997 ,  0.160941  , -0.14601111,\n",
       "        0.33041674, -0.19675404, -0.16748135,  0.3509027 ,  0.5266303 ,\n",
       "       -0.25047308, -0.3283377 ,  0.04945433,  0.30082163, -0.33794436,\n",
       "       -0.24332726,  0.06081062, -0.12688014, -0.04587855, -0.00920145,\n",
       "       -0.17062224,  0.33276197, -0.29765394, -0.23426452, -0.03429982,\n",
       "        0.36853418,  0.30011386,  0.22791675, -0.04922949,  0.14911349,\n",
       "        0.0801766 ,  0.40147913,  0.04598879,  0.082009  , -0.3954378 ,\n",
       "       -0.07244122, -0.8299443 ,  0.08405897, -0.02589502,  0.06998356,\n",
       "       -0.06339041, -0.5905598 ,  0.5270096 ,  0.29970676,  0.19546486,\n",
       "        0.05704613, -0.00138836, -0.58369786,  0.34153995, -0.04486914,\n",
       "        0.3250015 ,  0.1055781 , -0.3132597 , -0.16640367, -0.15611841,\n",
       "        0.08443763, -0.39021474, -0.1522359 , -0.09898946,  0.2592224 ,\n",
       "       -0.3527543 ,  0.1705478 , -0.20951061, -0.1345091 , -0.24429947,\n",
       "       -0.22727363,  0.14803031, -0.01565775,  0.15608798, -0.24257103,\n",
       "       -0.5252616 ,  0.02917722, -0.04542228, -0.2901151 , -0.06572069,\n",
       "       -0.13585795,  0.38898933, -0.27856904, -0.03769936,  0.36132827,\n",
       "        0.2289666 , -0.14710048, -0.14215602,  0.03941138, -0.51499873],\n",
       "      dtype=float32)"
      ]
     },
     "execution_count": 18,
     "metadata": {},
     "output_type": "execute_result"
    }
   ],
   "source": [
    "criminal_dimension"
   ]
  },
  {
   "cell_type": "code",
   "execution_count": 19,
   "id": "ab59908d",
   "metadata": {},
   "outputs": [
    {
     "data": {
      "text/plain": [
       "array([ 0.0835821 , -0.03890316, -0.13882746,  0.1736689 , -0.11966457,\n",
       "        0.34922296,  0.3821998 ,  0.4180838 ,  0.2965044 ,  0.05121891,\n",
       "       -0.3189833 , -0.06237726,  0.11268842, -0.05812778,  0.18638574,\n",
       "       -0.0776457 ,  0.08713111, -0.165576  , -0.09483791, -0.04078311,\n",
       "        0.21254803,  0.00299751, -0.16696435, -0.11597219,  0.05100149,\n",
       "        0.0774111 , -0.48192483,  0.02559702, -0.2398444 , -0.2764836 ,\n",
       "       -0.14428782, -0.15782695, -0.07743987, -0.15650575, -0.14785792,\n",
       "        0.0378073 ,  0.31388265, -0.2475649 , -0.18309937,  0.0907766 ,\n",
       "        0.14079157,  0.4222354 ,  0.1457017 , -0.1807374 , -0.06409986,\n",
       "        0.23389973,  0.01351767,  0.05323225,  0.76022136, -0.22741105,\n",
       "       -0.19829033, -0.36940858,  0.32045698, -0.11332951, -0.05851116,\n",
       "       -0.02790882, -0.21788566,  0.26785702, -0.01951455,  0.27599868,\n",
       "       -0.25719467, -0.15077698, -0.14044656, -0.03109357,  0.17113249,\n",
       "        0.44819504,  0.24867143, -0.10748203, -0.47295997,  0.14342818,\n",
       "       -0.14468715, -0.00610083, -0.30971956, -0.01708858, -0.03428193,\n",
       "        0.01010527,  0.02871848,  0.19424382,  0.28967735, -0.43617675,\n",
       "       -0.01085396, -0.32616526,  0.29037723,  0.2855845 , -0.02638824,\n",
       "       -0.07186969, -0.16155143, -0.29231054,  0.04811611,  0.04208583,\n",
       "       -0.67227453,  0.4651384 ,  0.07254439, -0.17643914,  0.2643589 ,\n",
       "        0.2594337 , -0.05320866, -0.20071325, -0.28517556, -0.41463235],\n",
       "      dtype=float32)"
      ]
     },
     "execution_count": 19,
     "metadata": {},
     "output_type": "execute_result"
    }
   ],
   "source": [
    "mental_dimension"
   ]
  },
  {
   "cell_type": "code",
   "execution_count": 20,
   "id": "a3043065",
   "metadata": {},
   "outputs": [],
   "source": [
    "def cosine_similarity(v1, v2):\n",
    "    dot_ = np.dot(v1, v2)\n",
    "    norm1 = np.linalg.norm(v1)\n",
    "    norm2 = np.linalg.norm(v2)\n",
    "    if norm1 > 0 and norm2 > 0:\n",
    "        return dot_ / (norm1 * norm2)\n",
    "    else:\n",
    "        return 0.0"
   ]
  },
  {
   "cell_type": "code",
   "execution_count": 21,
   "id": "6eaec8d7",
   "metadata": {},
   "outputs": [
    {
     "data": {
      "text/plain": [
       "0.46419075"
      ]
     },
     "execution_count": 21,
     "metadata": {},
     "output_type": "execute_result"
    }
   ],
   "source": [
    "cosine_similarity(criminal_dimension, mental_dimension)"
   ]
  },
  {
   "cell_type": "code",
   "execution_count": 22,
   "id": "387f3cf2",
   "metadata": {},
   "outputs": [
    {
     "data": {
      "text/plain": [
       "0.3644527"
      ]
     },
     "execution_count": 22,
     "metadata": {},
     "output_type": "execute_result"
    }
   ],
   "source": [
    "cosine_similarity(criminal_dimension_lem, mental_dimension_lem)"
   ]
  },
  {
   "cell_type": "code",
   "execution_count": 23,
   "id": "d03521f5",
   "metadata": {},
   "outputs": [],
   "source": [
    "df['cosine_criminal'] = df['emb'].apply(lambda x: cosine_similarity(criminal_dimension, x))\n",
    "df['cosine_mental'] = df['emb'].apply(lambda x: cosine_similarity(mental_dimension, x))"
   ]
  },
  {
   "cell_type": "code",
   "execution_count": 24,
   "id": "95e9b7b7",
   "metadata": {},
   "outputs": [],
   "source": [
    "df['cosine_criminal_lem'] = df['emb'].apply(lambda x: cosine_similarity(criminal_dimension_lem, x))\n",
    "df['cosine_mental_lem'] = df['emb'].apply(lambda x: cosine_similarity(mental_dimension_lem, x))"
   ]
  },
  {
   "cell_type": "code",
   "execution_count": 25,
   "id": "fe602af0",
   "metadata": {},
   "outputs": [
    {
     "name": "stdout",
     "output_type": "stream",
     "text": [
      "0.3396312852544189\n",
      "0.362620013658963\n",
      "0.14272068468109558\n",
      "0.1632166685840229\n"
     ]
    }
   ],
   "source": [
    "average_criminal_white = df[df.race == 'White'].cosine_criminal.sum() / len(df[df.race == 'White'])\n",
    "average_criminal_black = df[df.race == 'Black'].cosine_criminal.sum() / len(df[df.race == 'Black'])\n",
    "average_mental_white = df[df.race == 'White'].cosine_mental.sum() / len(df[df.race == 'White'])\n",
    "average_mental_black = df[df.race == 'Black'].cosine_mental.sum() / len(df[df.race == 'Black'])\n",
    "\n",
    "print(average_criminal_white)\n",
    "print(average_criminal_black)\n",
    "print(average_mental_white)\n",
    "print(average_mental_black)"
   ]
  },
  {
   "cell_type": "code",
   "execution_count": 26,
   "id": "c8946ad2",
   "metadata": {},
   "outputs": [
    {
     "name": "stdout",
     "output_type": "stream",
     "text": [
      "0.32690654418860965\n",
      "0.3546030278204072\n",
      "0.08060593723413174\n",
      "0.10534632814535057\n"
     ]
    }
   ],
   "source": [
    "average_criminal_white_lem = df[df.race == 'White'].cosine_criminal_lem.sum() / len(df[df.race == 'White'])\n",
    "average_criminal_black_lem = df[df.race == 'Black'].cosine_criminal_lem.sum() / len(df[df.race == 'Black'])\n",
    "average_mental_white_lem = df[df.race == 'White'].cosine_mental_lem.sum() / len(df[df.race == 'White'])\n",
    "average_mental_black_lem = df[df.race == 'Black'].cosine_mental_lem.sum() / len(df[df.race == 'Black'])\n",
    "\n",
    "print(average_criminal_white_lem)\n",
    "print(average_criminal_black_lem)\n",
    "print(average_mental_white_lem)\n",
    "print(average_mental_black_lem)"
   ]
  },
  {
   "cell_type": "code",
   "execution_count": 27,
   "id": "280a9f3b",
   "metadata": {},
   "outputs": [],
   "source": [
    "def extract_sign_mental(col):\n",
    "    if col == 'Yes' or col == 'Drug or Alcohol Use' or col == 'History of Drug or Alcohol Use':\n",
    "        return 1\n",
    "    else:\n",
    "        return 0\n",
    "    \n",
    "def extract_sign_armed(col):\n",
    "    if col == 'Allegedly Armed' or col == 'Vehicle':\n",
    "        return 1\n",
    "    else:\n",
    "        return 0"
   ]
  },
  {
   "cell_type": "code",
   "execution_count": 28,
   "id": "12760c3f",
   "metadata": {},
   "outputs": [],
   "source": [
    "df['mental'] = df['signs_of_mental_illness'].apply(extract_sign_mental)\n",
    "df['criminal'] = df['allegedly_armed'].apply(extract_sign_armed)"
   ]
  },
  {
   "cell_type": "code",
   "execution_count": 29,
   "id": "3cc9aeac",
   "metadata": {},
   "outputs": [],
   "source": [
    "proxy_criminal_white = df[df.race == 'White'].criminal.sum() / len(df[df.race == 'White'])\n",
    "proxy_criminal_black = df[df.race == 'Black'].criminal.sum() / len(df[df.race == 'Black'])\n",
    "proxy_mental_white = df[df.race == 'White'].mental.sum() / len(df[df.race == 'White'])\n",
    "proxy_mental_black = df[df.race == 'Black'].mental.sum() / len(df[df.race == 'Black'])"
   ]
  },
  {
   "cell_type": "code",
   "execution_count": 30,
   "id": "8c548924",
   "metadata": {},
   "outputs": [
    {
     "name": "stdout",
     "output_type": "stream",
     "text": [
      "0.8089397656037067\n",
      "0.7276977015971952\n",
      "0.3720359771054783\n",
      "0.2500973899493572\n"
     ]
    }
   ],
   "source": [
    "print(proxy_criminal_white)\n",
    "print(proxy_criminal_black)\n",
    "print(proxy_mental_white)\n",
    "print(proxy_mental_black)"
   ]
  },
  {
   "cell_type": "code",
   "execution_count": 31,
   "id": "136a48db",
   "metadata": {},
   "outputs": [
    {
     "name": "stdout",
     "output_type": "stream",
     "text": [
      "Proportion of white victims armed: 0.8089397656037067. Criminal bias in articles for white victims: 0.3396312852544189\n",
      "Proportion of black victims armed: 0.7276977015971952. Criminal bias in articles for black victims: 0.362620013658963\n",
      "Proportion of white victims with signs of mental illness: 0.3720359771054783. Mental bias in articles for white victims: 0.14272068468109558\n",
      "Proportion of black victims with signs of mental illness: 0.2500973899493572. Mental bias in articles for black victims: 0.1632166685840229\n"
     ]
    }
   ],
   "source": [
    "print(f\"Proportion of white victims armed: {proxy_criminal_white}. Criminal bias in articles for white victims: {average_criminal_white}\")\n",
    "print(f\"Proportion of black victims armed: {proxy_criminal_black}. Criminal bias in articles for black victims: {average_criminal_black}\")\n",
    "print(f\"Proportion of white victims with signs of mental illness: {proxy_mental_white}. Mental bias in articles for white victims: {average_mental_white}\")\n",
    "print(f\"Proportion of black victims with signs of mental illness: {proxy_mental_black}. Mental bias in articles for black victims: {average_mental_black}\")"
   ]
  }
 ],
 "metadata": {
  "kernelspec": {
   "display_name": "Python 3 (ipykernel)",
   "language": "python",
   "name": "python3"
  },
  "language_info": {
   "codemirror_mode": {
    "name": "ipython",
    "version": 3
   },
   "file_extension": ".py",
   "mimetype": "text/x-python",
   "name": "python",
   "nbconvert_exporter": "python",
   "pygments_lexer": "ipython3",
   "version": "3.11.8"
  }
 },
 "nbformat": 4,
 "nbformat_minor": 5
}
