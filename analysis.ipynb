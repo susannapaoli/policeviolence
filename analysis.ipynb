{
 "cells": [
  {
   "cell_type": "code",
   "execution_count": 30,
   "id": "1de8e350",
   "metadata": {},
   "outputs": [
    {
     "name": "stderr",
     "output_type": "stream",
     "text": [
      "[nltk_data] Downloading package wordnet to\n",
      "[nltk_data]     /Users/gigimancinelli./nltk_data...\n",
      "[nltk_data]   Package wordnet is already up-to-date!\n"
     ]
    }
   ],
   "source": [
    "import pandas as pd\n",
    "from gensim.models import Word2Vec\n",
    "import re\n",
    "from nltk.stem import SnowballStemmer, WordNetLemmatizer\n",
    "stemmer = SnowballStemmer('english')\n",
    "import nltk\n",
    "nltk.download('wordnet')\n",
    "import numpy as np\n",
    "lemmatizer = WordNetLemmatizer()\n"
   ]
  },
  {
   "cell_type": "code",
   "execution_count": 31,
   "id": "08654ca6",
   "metadata": {},
   "outputs": [],
   "source": [
    "criminality = ['theft', 'deviance', 'indictment', 'criminalization', 'guilt', 'government', 'tort', \n",
    "               'criminalness', 'criminalism', 'imprisonment', 'punishment', 'law', 'banditry', 'lawlessness', \n",
    "               'statutory', 'illegality', 'murder', 'immorality', 'sectarianism', 'dishonesty', \n",
    "               'impunity', 'criminalisation', 'brutality', 'thuggery', 'trial', 'recklessness', 'militancy', \n",
    "               'decriminalization', 'sentence', 'bigotry', 'extremism', 'viciousness', 'duplicity', \n",
    "               'xenophobia', 'mysonygy', 'stupidity', 'hypocrisy', 'irresponsibility', 'racism',\n",
    "               'illegalities', 'coercion', 'vigilantism', 'imprisonment', 'plaintiff', 'criminology', \n",
    "               'felony', 'desertion', 'charge', 'power', 'wrong']\n",
    "mental = ['schizophrenia', 'depression', 'bipolar', 'disorder', 'antisocial', 'personality', 'psychosis', \n",
    "          'psychotherapy', 'dementia', 'psychopathy', 'disability', 'anxiety', 'illness', 'alcoholism', 'brain', \n",
    "          'diagnosis', 'mind', 'symptoms', 'delusions', 'hallucinations', 'chronic', 'attention', 'deficit', \n",
    "          'hyperactivity', 'psychiatrists', 'disease', 'stress', 'epilepsy', 'agoraphobia', 'suffering', \n",
    "          'dysthymia', 'hypomania', 'sclerosis', 'psychiatric', 'psychological', 'disabilities', 'paraphilia', \n",
    "          'ocd', 'psychotic', 'syndrome', 'delusional', 'community', 'eating', 'disorder', 'anorexia', 'bulimia', \n",
    "          'nervosa', 'sickness', 'substance', 'abuse']"
   ]
  },
  {
   "cell_type": "code",
   "execution_count": 32,
   "id": "dfa8877f",
   "metadata": {},
   "outputs": [
    {
     "data": {
      "text/plain": [
       "50"
      ]
     },
     "execution_count": 32,
     "metadata": {},
     "output_type": "execute_result"
    }
   ],
   "source": [
    "len(criminality)"
   ]
  },
  {
   "cell_type": "code",
   "execution_count": 33,
   "id": "bd3e641f",
   "metadata": {},
   "outputs": [
    {
     "data": {
      "text/plain": [
       "50"
      ]
     },
     "execution_count": 33,
     "metadata": {},
     "output_type": "execute_result"
    }
   ],
   "source": [
    "len(mental)"
   ]
  },
  {
   "cell_type": "code",
   "execution_count": 34,
   "id": "37e7773b",
   "metadata": {},
   "outputs": [],
   "source": [
    "model = Word2Vec.load(\"./model/word2vec.model\")"
   ]
  },
  {
   "cell_type": "code",
   "execution_count": 35,
   "id": "13e5dc84",
   "metadata": {},
   "outputs": [],
   "source": [
    "df = pd.read_csv(\"./data/mpv_clean_pattern_stop.csv\")"
   ]
  },
  {
   "cell_type": "code",
   "execution_count": 36,
   "id": "18886ab7",
   "metadata": {},
   "outputs": [
    {
     "data": {
      "text/html": [
       "<div>\n",
       "<style scoped>\n",
       "    .dataframe tbody tr th:only-of-type {\n",
       "        vertical-align: middle;\n",
       "    }\n",
       "\n",
       "    .dataframe tbody tr th {\n",
       "        vertical-align: top;\n",
       "    }\n",
       "\n",
       "    .dataframe thead th {\n",
       "        text-align: right;\n",
       "    }\n",
       "</style>\n",
       "<table border=\"1\" class=\"dataframe\">\n",
       "  <thead>\n",
       "    <tr style=\"text-align: right;\">\n",
       "      <th></th>\n",
       "      <th>Unnamed: 0</th>\n",
       "      <th>name</th>\n",
       "      <th>gender</th>\n",
       "      <th>race</th>\n",
       "      <th>age</th>\n",
       "      <th>date</th>\n",
       "      <th>after_Floyd</th>\n",
       "      <th>city</th>\n",
       "      <th>state</th>\n",
       "      <th>cause_of_death</th>\n",
       "      <th>...</th>\n",
       "      <th>wapo_armed</th>\n",
       "      <th>wapo_threat_level</th>\n",
       "      <th>wapo_flee</th>\n",
       "      <th>wapo_body_camera</th>\n",
       "      <th>initial_reason</th>\n",
       "      <th>text</th>\n",
       "      <th>authors</th>\n",
       "      <th>TextColumn</th>\n",
       "      <th>cleaned</th>\n",
       "      <th>sentences</th>\n",
       "    </tr>\n",
       "  </thead>\n",
       "  <tbody>\n",
       "    <tr>\n",
       "      <th>0</th>\n",
       "      <td>0</td>\n",
       "      <td>Clyde E. Young</td>\n",
       "      <td>Male</td>\n",
       "      <td>White</td>\n",
       "      <td>28.0</td>\n",
       "      <td>2024-02-22</td>\n",
       "      <td>True</td>\n",
       "      <td>West Alton</td>\n",
       "      <td>MO</td>\n",
       "      <td>Gunshot</td>\n",
       "      <td>...</td>\n",
       "      <td>NaN</td>\n",
       "      <td>Used Weapon</td>\n",
       "      <td>Not Fleeing</td>\n",
       "      <td>NaN</td>\n",
       "      <td>Murder (suspect)</td>\n",
       "      <td>['A Godfrey man who had been charged with murd...</td>\n",
       "      <td>[['Mike Koziatek'], []]</td>\n",
       "      <td>a godfrey man who had been charged with murd...</td>\n",
       "      <td>godfrey man who had been charged with murder i...</td>\n",
       "      <td>[['godfrey', 'man', 'charged', 'murder', 'shoo...</td>\n",
       "    </tr>\n",
       "    <tr>\n",
       "      <th>1</th>\n",
       "      <td>1</td>\n",
       "      <td>Clyde E. Young</td>\n",
       "      <td>Male</td>\n",
       "      <td>White</td>\n",
       "      <td>28.0</td>\n",
       "      <td>2024-02-22</td>\n",
       "      <td>True</td>\n",
       "      <td>West Alton</td>\n",
       "      <td>MO</td>\n",
       "      <td>Gunshot</td>\n",
       "      <td>...</td>\n",
       "      <td>NaN</td>\n",
       "      <td>Used Weapon</td>\n",
       "      <td>Not Fleeing</td>\n",
       "      <td>NaN</td>\n",
       "      <td>Murder (suspect)</td>\n",
       "      <td>['The man, identified as Clyde Young, was char...</td>\n",
       "      <td>[['Mike Koziatek'], []]</td>\n",
       "      <td>the man  identified as clyde young  was char...</td>\n",
       "      <td>the man identified as clyde young was charged ...</td>\n",
       "      <td>[['man', 'identified', 'clyde', 'young', 'char...</td>\n",
       "    </tr>\n",
       "    <tr>\n",
       "      <th>2</th>\n",
       "      <td>2</td>\n",
       "      <td>Jamarcus Brown</td>\n",
       "      <td>Male</td>\n",
       "      <td>Black</td>\n",
       "      <td>35.0</td>\n",
       "      <td>2024-02-21</td>\n",
       "      <td>True</td>\n",
       "      <td>Lake Cormorant</td>\n",
       "      <td>MS</td>\n",
       "      <td>Gunshot</td>\n",
       "      <td>...</td>\n",
       "      <td>NaN</td>\n",
       "      <td>Attack</td>\n",
       "      <td>Car</td>\n",
       "      <td>Victim Facebook Live Video</td>\n",
       "      <td>Traffic Stop</td>\n",
       "      <td>['DESOTO COUNTY, Miss. (WMC) - Mississippi Bur...</td>\n",
       "      <td>[[], ['Lakiya Scott'], []]</td>\n",
       "      <td>desoto county  miss   wmc    mississippi bur...</td>\n",
       "      <td>desoto county miss wmc mississippi bureau of i...</td>\n",
       "      <td>[['desoto', 'county', 'miss', 'wmc', 'mississi...</td>\n",
       "    </tr>\n",
       "    <tr>\n",
       "      <th>3</th>\n",
       "      <td>3</td>\n",
       "      <td>Jamarcus Brown</td>\n",
       "      <td>Male</td>\n",
       "      <td>Black</td>\n",
       "      <td>35.0</td>\n",
       "      <td>2024-02-21</td>\n",
       "      <td>True</td>\n",
       "      <td>Lake Cormorant</td>\n",
       "      <td>MS</td>\n",
       "      <td>Gunshot</td>\n",
       "      <td>...</td>\n",
       "      <td>NaN</td>\n",
       "      <td>Attack</td>\n",
       "      <td>Car</td>\n",
       "      <td>Victim Facebook Live Video</td>\n",
       "      <td>Traffic Stop</td>\n",
       "      <td>['Close Get email notifications on {{subject}}...</td>\n",
       "      <td>[[], ['Lakiya Scott'], []]</td>\n",
       "      <td>close get email notifications on   subject  ...</td>\n",
       "      <td>close get on subject are only sent and only if...</td>\n",
       "      <td>[['close', 'get', 'subject', 'sent', 'new']]</td>\n",
       "    </tr>\n",
       "    <tr>\n",
       "      <th>4</th>\n",
       "      <td>4</td>\n",
       "      <td>Jamarcus Brown</td>\n",
       "      <td>Male</td>\n",
       "      <td>Black</td>\n",
       "      <td>35.0</td>\n",
       "      <td>2024-02-21</td>\n",
       "      <td>True</td>\n",
       "      <td>Lake Cormorant</td>\n",
       "      <td>MS</td>\n",
       "      <td>Gunshot</td>\n",
       "      <td>...</td>\n",
       "      <td>NaN</td>\n",
       "      <td>Attack</td>\n",
       "      <td>Car</td>\n",
       "      <td>Victim Facebook Live Video</td>\n",
       "      <td>Traffic Stop</td>\n",
       "      <td>['The Carlos Moore Law Group said it has been ...</td>\n",
       "      <td>[[], ['Lakiya Scott'], []]</td>\n",
       "      <td>the carlos moore law group said it has been ...</td>\n",
       "      <td>the carlos moore law group said it has been re...</td>\n",
       "      <td>[['carlos', 'moore', 'law', 'group', 'said', '...</td>\n",
       "    </tr>\n",
       "  </tbody>\n",
       "</table>\n",
       "<p>5 rows × 25 columns</p>\n",
       "</div>"
      ],
      "text/plain": [
       "   Unnamed: 0            name gender   race   age        date  after_Floyd  \\\n",
       "0           0  Clyde E. Young   Male  White  28.0  2024-02-22         True   \n",
       "1           1  Clyde E. Young   Male  White  28.0  2024-02-22         True   \n",
       "2           2  Jamarcus Brown   Male  Black  35.0  2024-02-21         True   \n",
       "3           3  Jamarcus Brown   Male  Black  35.0  2024-02-21         True   \n",
       "4           4  Jamarcus Brown   Male  Black  35.0  2024-02-21         True   \n",
       "\n",
       "             city state cause_of_death  ... wapo_armed wapo_threat_level  \\\n",
       "0      West Alton    MO        Gunshot  ...        NaN       Used Weapon   \n",
       "1      West Alton    MO        Gunshot  ...        NaN       Used Weapon   \n",
       "2  Lake Cormorant    MS        Gunshot  ...        NaN            Attack   \n",
       "3  Lake Cormorant    MS        Gunshot  ...        NaN            Attack   \n",
       "4  Lake Cormorant    MS        Gunshot  ...        NaN            Attack   \n",
       "\n",
       "     wapo_flee            wapo_body_camera    initial_reason  \\\n",
       "0  Not Fleeing                         NaN  Murder (suspect)   \n",
       "1  Not Fleeing                         NaN  Murder (suspect)   \n",
       "2          Car  Victim Facebook Live Video      Traffic Stop   \n",
       "3          Car  Victim Facebook Live Video      Traffic Stop   \n",
       "4          Car  Victim Facebook Live Video      Traffic Stop   \n",
       "\n",
       "                                                text  \\\n",
       "0  ['A Godfrey man who had been charged with murd...   \n",
       "1  ['The man, identified as Clyde Young, was char...   \n",
       "2  ['DESOTO COUNTY, Miss. (WMC) - Mississippi Bur...   \n",
       "3  ['Close Get email notifications on {{subject}}...   \n",
       "4  ['The Carlos Moore Law Group said it has been ...   \n",
       "\n",
       "                      authors  \\\n",
       "0     [['Mike Koziatek'], []]   \n",
       "1     [['Mike Koziatek'], []]   \n",
       "2  [[], ['Lakiya Scott'], []]   \n",
       "3  [[], ['Lakiya Scott'], []]   \n",
       "4  [[], ['Lakiya Scott'], []]   \n",
       "\n",
       "                                          TextColumn  \\\n",
       "0    a godfrey man who had been charged with murd...   \n",
       "1    the man  identified as clyde young  was char...   \n",
       "2    desoto county  miss   wmc    mississippi bur...   \n",
       "3    close get email notifications on   subject  ...   \n",
       "4    the carlos moore law group said it has been ...   \n",
       "\n",
       "                                             cleaned  \\\n",
       "0  godfrey man who had been charged with murder i...   \n",
       "1  the man identified as clyde young was charged ...   \n",
       "2  desoto county miss wmc mississippi bureau of i...   \n",
       "3  close get on subject are only sent and only if...   \n",
       "4  the carlos moore law group said it has been re...   \n",
       "\n",
       "                                           sentences  \n",
       "0  [['godfrey', 'man', 'charged', 'murder', 'shoo...  \n",
       "1  [['man', 'identified', 'clyde', 'young', 'char...  \n",
       "2  [['desoto', 'county', 'miss', 'wmc', 'mississi...  \n",
       "3       [['close', 'get', 'subject', 'sent', 'new']]  \n",
       "4  [['carlos', 'moore', 'law', 'group', 'said', '...  \n",
       "\n",
       "[5 rows x 25 columns]"
      ]
     },
     "execution_count": 36,
     "metadata": {},
     "output_type": "execute_result"
    }
   ],
   "source": [
    "df.head()"
   ]
  },
  {
   "cell_type": "code",
   "execution_count": 37,
   "id": "0d75e377",
   "metadata": {},
   "outputs": [],
   "source": [
    "def create_embedding(text):\n",
    "    text = re.sub(r'[^a-zA-Z0-9]', ' ', text)\n",
    "    text = text.strip()\n",
    "    embeddings = [model.wv[word] for word in text.split()]\n",
    "    if len(embeddings) == 0:\n",
    "        return 0\n",
    "    emb = sum(embeddings) / len(embeddings)\n",
    "    return emb"
   ]
  },
  {
   "cell_type": "code",
   "execution_count": 38,
   "id": "269a679d",
   "metadata": {},
   "outputs": [],
   "source": [
    "df['emb'] = df['sentences'].apply(create_embedding)"
   ]
  },
  {
   "cell_type": "code",
   "execution_count": 39,
   "id": "ad9f3a80",
   "metadata": {},
   "outputs": [
    {
     "data": {
      "text/plain": [
       "Index(['Unnamed: 0', 'name', 'gender', 'race', 'age', 'date', 'after_Floyd',\n",
       "       'city', 'state', 'cause_of_death', 'circumstances', 'news_urls',\n",
       "       'signs_of_mental_illness', 'officer_charged', 'allegedly_armed',\n",
       "       'wapo_armed', 'wapo_threat_level', 'wapo_flee', 'wapo_body_camera',\n",
       "       'initial_reason', 'text', 'authors', 'TextColumn', 'cleaned',\n",
       "       'sentences', 'emb'],\n",
       "      dtype='object')"
      ]
     },
     "execution_count": 39,
     "metadata": {},
     "output_type": "execute_result"
    }
   ],
   "source": [
    "df.columns"
   ]
  },
  {
   "cell_type": "code",
   "execution_count": 40,
   "id": "30cecc4e",
   "metadata": {},
   "outputs": [
    {
     "data": {
      "text/plain": [
       "array(['Allegedly Armed', 'Unarmed/Did Not Have Actual Weapon', 'Vehicle',\n",
       "       'Unclear'], dtype=object)"
      ]
     },
     "execution_count": 40,
     "metadata": {},
     "output_type": "execute_result"
    }
   ],
   "source": [
    "df.allegedly_armed.unique()"
   ]
  },
  {
   "cell_type": "code",
   "execution_count": 41,
   "id": "815279bd",
   "metadata": {},
   "outputs": [
    {
     "data": {
      "text/plain": [
       "array([ 0.05998774, -0.20063488, -0.20840636,  0.42882782, -0.3586672 ,\n",
       "        0.52818817, -0.99431676, -0.19250348, -0.28659242, -0.79211706,\n",
       "       -0.08631368,  0.2544588 ,  0.06359314,  0.2672201 ,  0.24754508,\n",
       "        0.62931937,  0.09819652, -0.87627584, -0.06199381,  0.14154018,\n",
       "        0.11312877, -0.135405  ,  0.2820805 ,  0.06137591,  0.15564716,\n",
       "       -0.0066459 ,  0.16089754, -0.06620071,  0.01037197, -0.57633185,\n",
       "       -0.07710057,  0.02693513, -0.779873  ,  0.20013641, -0.2527932 ,\n",
       "       -0.12801911,  0.44330087, -0.09281491, -0.07654728,  0.5051678 ,\n",
       "        0.3762602 , -0.0356443 ,  0.11734853,  0.19492012,  0.04742831,\n",
       "        0.1107235 ,  0.20942263,  0.78091925,  0.33039868, -0.28148937,\n",
       "       -0.17023821, -0.9795949 , -0.04677298, -0.06564026,  0.0659398 ,\n",
       "       -0.23979445,  0.1740262 , -0.06163668, -0.15633774,  0.03280338,\n",
       "        0.9341486 , -0.6513728 ,  0.4060313 ,  0.22546786,  0.29005444,\n",
       "       -0.04230206, -0.3447351 , -0.31954864, -0.39408946,  0.26900104,\n",
       "       -0.06062404, -0.46923086,  0.2748932 , -0.31315264,  0.22180186,\n",
       "       -0.6306755 , -0.2697605 ,  0.16509531, -0.20786932, -0.5335903 ,\n",
       "        0.13918047, -0.21638449, -0.48789388, -0.1667401 ,  0.00510637,\n",
       "       -0.310232  , -0.84383446,  0.12218651,  0.06950969, -0.7065819 ,\n",
       "       -0.3404217 , -0.09619195, -0.41966072,  0.06533998,  0.21247353,\n",
       "        0.16052264, -0.27194506, -0.07915808, -0.28124607,  0.39025804],\n",
       "      dtype=float32)"
      ]
     },
     "execution_count": 41,
     "metadata": {},
     "output_type": "execute_result"
    }
   ],
   "source": [
    "df.iloc[0].emb"
   ]
  },
  {
   "cell_type": "code",
   "execution_count": 42,
   "id": "769171a6",
   "metadata": {},
   "outputs": [],
   "source": [
    "def create_embedding_dimension_lem(l):\n",
    "    lemmatized = [lemmatizer.lemmatize(w) for w in l] \n",
    "    embeddings = [model.wv[word] for word in lemmatized if word in model.wv]\n",
    "    if len(embeddings) == 0:\n",
    "        return 0\n",
    "    emb = sum(embeddings) / len(embeddings)\n",
    "    return emb"
   ]
  },
  {
   "cell_type": "code",
   "execution_count": 43,
   "id": "91353800",
   "metadata": {},
   "outputs": [],
   "source": [
    "def create_embedding_dimension(l):\n",
    "    stemmed = [stemmer.stem(w) for w in l] \n",
    "    embeddings = [model.wv[word] for word in stemmed if word in model.wv]\n",
    "    if len(embeddings) == 0:\n",
    "        return 0\n",
    "    emb = sum(embeddings) / len(embeddings)\n",
    "    return emb"
   ]
  },
  {
   "cell_type": "code",
   "execution_count": 44,
   "id": "5ce64815",
   "metadata": {},
   "outputs": [],
   "source": [
    "criminal_dimension = create_embedding_dimension(criminality)\n",
    "mental_dimension = create_embedding_dimension(mental)"
   ]
  },
  {
   "cell_type": "code",
   "execution_count": 45,
   "id": "fcde5383",
   "metadata": {},
   "outputs": [],
   "source": [
    "criminal_dimension_lem = create_embedding_dimension_lem(criminality)\n",
    "mental_dimension_lem = create_embedding_dimension_lem(mental)"
   ]
  },
  {
   "cell_type": "code",
   "execution_count": 46,
   "id": "963d1216",
   "metadata": {},
   "outputs": [
    {
     "data": {
      "text/plain": [
       "array([ 0.11721932, -0.06764658, -0.28589466, -0.08733147, -0.22453795,\n",
       "        0.07069158,  0.2892608 ,  0.03640572, -0.06961068, -0.4129686 ,\n",
       "       -0.05707993,  0.12199292, -0.03294465,  0.42207068,  0.05815085,\n",
       "        0.3228303 , -0.03553088,  0.02358142,  0.00740328,  0.03457382,\n",
       "        0.10332633, -0.02411895,  0.17559743,  0.02518764,  0.07132082,\n",
       "       -0.17920756, -0.40039024, -0.06093131, -0.16439086, -0.07058294,\n",
       "       -0.170402  , -0.37967595, -0.4211788 ,  0.07650433, -0.10783713,\n",
       "       -0.19327496,  0.10211004, -0.45417204, -0.07899039,  0.5804341 ,\n",
       "       -0.04900618,  0.40223005, -0.0292807 ,  0.14829189, -0.06468523,\n",
       "        0.23752333,  0.12846564,  0.6096768 ,  0.08340271, -0.03652385,\n",
       "       -0.35800597, -0.40902603,  0.05472304,  0.09642358, -0.16635561,\n",
       "        0.02288793,  0.07346623,  0.14990452, -0.24925962,  0.14046244,\n",
       "        0.12299076, -0.131125  , -0.3425527 ,  0.6038035 ,  0.47530028,\n",
       "        0.25739834,  0.32766712, -0.23106594,  0.04771752, -0.4140786 ,\n",
       "        0.04029651, -0.04306125,  0.17635919, -0.20157367,  0.01110461,\n",
       "       -0.27174175, -0.06447995,  0.22453603, -0.22953187, -0.36305228,\n",
       "        0.13663289,  0.03419381, -0.01994386, -0.14848624, -0.2769142 ,\n",
       "       -0.02193118,  0.21730112,  0.26036897, -0.25312272, -0.18127461,\n",
       "       -0.36985198,  0.42350167,  0.26996243, -0.05432509,  0.19136205,\n",
       "       -0.30816504, -0.00542286, -0.02257958,  0.06954654,  0.07903058],\n",
       "      dtype=float32)"
      ]
     },
     "execution_count": 46,
     "metadata": {},
     "output_type": "execute_result"
    }
   ],
   "source": [
    "criminal_dimension"
   ]
  },
  {
   "cell_type": "code",
   "execution_count": 47,
   "id": "ab59908d",
   "metadata": {},
   "outputs": [
    {
     "data": {
      "text/plain": [
       "array([-0.08880261,  0.34311453, -0.330107  ,  0.4938667 , -0.5023755 ,\n",
       "        0.7234274 ,  0.25932205,  0.19696194,  0.29590568, -0.19861807,\n",
       "       -0.29497552,  0.16225001, -0.25805357,  0.06050476, -0.06246739,\n",
       "       -0.40452784, -0.13958782, -0.04190193, -0.3581606 ,  0.00507286,\n",
       "       -0.20578794,  0.14817002,  0.03508539,  0.49019995, -0.19084097,\n",
       "       -0.0648149 , -0.34999377, -0.38513958,  0.06200857, -0.03797945,\n",
       "       -0.17131586, -0.5450354 ,  0.06857347, -0.09761941, -0.2788764 ,\n",
       "       -0.09158283,  0.13576767, -0.31333932,  0.18543482,  0.3995957 ,\n",
       "        0.1643513 ,  0.06682139,  0.2790651 , -0.03052558,  0.14965892,\n",
       "       -0.1609004 , -0.13813625, -0.00913812,  0.2521182 , -0.27209955,\n",
       "       -0.32723093, -0.56304955,  0.30025145,  0.12998666, -0.18723886,\n",
       "        0.1082688 , -0.39359912,  0.22956038,  0.01355254,  0.140231  ,\n",
       "        0.04520568,  0.08961362,  0.16391478,  0.27980113,  0.13841021,\n",
       "        0.12691748,  0.47324723,  0.02617019,  0.12494875, -0.10131065,\n",
       "        0.09820944,  0.01708321, -0.2861244 , -0.13123782, -0.04281775,\n",
       "        0.08432216, -0.00358694,  0.07595733,  0.09601919, -0.22450703,\n",
       "        0.24488819, -0.00777476,  0.24151692, -0.5171282 , -0.04265261,\n",
       "       -0.07929805,  0.35667697,  0.19909188, -0.42818663, -0.0554177 ,\n",
       "       -0.6232255 ,  0.19612956,  0.37417272,  0.14586268,  0.2726495 ,\n",
       "        0.03216401, -0.13046066,  0.32757828, -0.04977417,  0.08674639],\n",
       "      dtype=float32)"
      ]
     },
     "execution_count": 47,
     "metadata": {},
     "output_type": "execute_result"
    }
   ],
   "source": [
    "mental_dimension"
   ]
  },
  {
   "cell_type": "code",
   "execution_count": 48,
   "id": "a3043065",
   "metadata": {},
   "outputs": [],
   "source": [
    "def cosine_similarity(v1, v2):\n",
    "    dot_ = np.dot(v1, v2)\n",
    "    norm1 = np.linalg.norm(v1)\n",
    "    norm2 = np.linalg.norm(v2)\n",
    "    if norm1 > 0 and norm2 > 0:\n",
    "        return dot_ / (norm1 * norm2)\n",
    "    else:\n",
    "        return 0.0"
   ]
  },
  {
   "cell_type": "code",
   "execution_count": 49,
   "id": "6eaec8d7",
   "metadata": {},
   "outputs": [
    {
     "data": {
      "text/plain": [
       "0.445961"
      ]
     },
     "execution_count": 49,
     "metadata": {},
     "output_type": "execute_result"
    }
   ],
   "source": [
    "cosine_similarity(criminal_dimension, mental_dimension)"
   ]
  },
  {
   "cell_type": "code",
   "execution_count": 50,
   "id": "387f3cf2",
   "metadata": {},
   "outputs": [
    {
     "data": {
      "text/plain": [
       "0.43741024"
      ]
     },
     "execution_count": 50,
     "metadata": {},
     "output_type": "execute_result"
    }
   ],
   "source": [
    "cosine_similarity(criminal_dimension_lem, mental_dimension_lem)"
   ]
  },
  {
   "cell_type": "code",
   "execution_count": 51,
   "id": "d03521f5",
   "metadata": {},
   "outputs": [],
   "source": [
    "df['cosine_criminal'] = df['emb'].apply(lambda x: cosine_similarity(criminal_dimension, x))\n",
    "df['cosine_mental'] = df['emb'].apply(lambda x: cosine_similarity(mental_dimension, x))"
   ]
  },
  {
   "cell_type": "code",
   "execution_count": 52,
   "id": "95e9b7b7",
   "metadata": {},
   "outputs": [],
   "source": [
    "df['cosine_criminal_lem'] = df['emb'].apply(lambda x: cosine_similarity(criminal_dimension_lem, x))\n",
    "df['cosine_mental_lem'] = df['emb'].apply(lambda x: cosine_similarity(mental_dimension_lem, x))"
   ]
  },
  {
   "cell_type": "code",
   "execution_count": 53,
   "id": "fe602af0",
   "metadata": {},
   "outputs": [
    {
     "name": "stdout",
     "output_type": "stream",
     "text": [
      "0.33771991847534216\n",
      "0.3651912728764902\n",
      "0.1331491219929558\n",
      "0.15749283921623664\n"
     ]
    }
   ],
   "source": [
    "average_criminal_white = df[df.race == 'White'].cosine_criminal.sum() / len(df[df.race == 'White'])\n",
    "average_criminal_black = df[df.race == 'Black'].cosine_criminal.sum() / len(df[df.race == 'Black'])\n",
    "average_mental_white = df[df.race == 'White'].cosine_mental.sum() / len(df[df.race == 'White'])\n",
    "average_mental_black = df[df.race == 'Black'].cosine_mental.sum() / len(df[df.race == 'Black'])\n",
    "\n",
    "print(average_criminal_white)\n",
    "print(average_criminal_black)\n",
    "print(average_mental_white)\n",
    "print(average_mental_black)"
   ]
  },
  {
   "cell_type": "code",
   "execution_count": 54,
   "id": "c8946ad2",
   "metadata": {},
   "outputs": [
    {
     "name": "stdout",
     "output_type": "stream",
     "text": [
      "0.30350422784957515\n",
      "0.32698407355959785\n",
      "0.031597853418508105\n",
      "0.05010262698434999\n"
     ]
    }
   ],
   "source": [
    "average_criminal_white_lem = df[df.race == 'White'].cosine_criminal_lem.sum() / len(df[df.race == 'White'])\n",
    "average_criminal_black_lem = df[df.race == 'Black'].cosine_criminal_lem.sum() / len(df[df.race == 'Black'])\n",
    "average_mental_white_lem = df[df.race == 'White'].cosine_mental_lem.sum() / len(df[df.race == 'White'])\n",
    "average_mental_black_lem = df[df.race == 'Black'].cosine_mental_lem.sum() / len(df[df.race == 'Black'])\n",
    "\n",
    "print(average_criminal_white_lem)\n",
    "print(average_criminal_black_lem)\n",
    "print(average_mental_white_lem)\n",
    "print(average_mental_black_lem)"
   ]
  },
  {
   "cell_type": "code",
   "execution_count": 55,
   "id": "280a9f3b",
   "metadata": {},
   "outputs": [],
   "source": [
    "def extract_sign_mental(col):\n",
    "    if col == 'Yes' or col == 'Drug or Alcohol Use' or col == 'History of Drug or Alcohol Use':\n",
    "        return 1\n",
    "    else:\n",
    "        return 0\n",
    "    \n",
    "def extract_sign_armed(col):\n",
    "    if col == 'Allegedly Armed' or col == 'Vehicle':\n",
    "        return 1\n",
    "    else:\n",
    "        return 0"
   ]
  },
  {
   "cell_type": "code",
   "execution_count": 56,
   "id": "12760c3f",
   "metadata": {},
   "outputs": [],
   "source": [
    "df['mental'] = df['signs_of_mental_illness'].apply(extract_sign_mental)\n",
    "df['criminal'] = df['allegedly_armed'].apply(extract_sign_armed)"
   ]
  },
  {
   "cell_type": "code",
   "execution_count": 57,
   "id": "3cc9aeac",
   "metadata": {},
   "outputs": [],
   "source": [
    "proxy_criminal_white = df[df.race == 'White'].criminal.sum() / len(df[df.race == 'White'])\n",
    "proxy_criminal_black = df[df.race == 'Black'].criminal.sum() / len(df[df.race == 'Black'])\n",
    "proxy_mental_white = df[df.race == 'White'].mental.sum() / len(df[df.race == 'White'])\n",
    "proxy_mental_black = df[df.race == 'Black'].mental.sum() / len(df[df.race == 'Black'])"
   ]
  },
  {
   "cell_type": "code",
   "execution_count": 58,
   "id": "8c548924",
   "metadata": {},
   "outputs": [
    {
     "name": "stdout",
     "output_type": "stream",
     "text": [
      "0.7954462659380692\n",
      "0.7124600638977636\n",
      "0.3604735883424408\n",
      "0.2292332268370607\n"
     ]
    }
   ],
   "source": [
    "print(proxy_criminal_white)\n",
    "print(proxy_criminal_black)\n",
    "print(proxy_mental_white)\n",
    "print(proxy_mental_black)"
   ]
  },
  {
   "cell_type": "code",
   "execution_count": 59,
   "id": "136a48db",
   "metadata": {},
   "outputs": [
    {
     "name": "stdout",
     "output_type": "stream",
     "text": [
      "Proportion of white victims armed: 0.7954462659380692. Criminal bias in articles for white victims: 0.33771991847534216\n",
      "Proportion of black victims armed: 0.7124600638977636. Criminal bias in articles for black victims: 0.3651912728764902\n",
      "Proportion of white victims with signs of mental illness: 0.3604735883424408. Mental bias in articles for white victims: 0.1331491219929558\n",
      "Proportion of black victims with signs of mental illness: 0.2292332268370607. Mental bias in articles for black victims: 0.15749283921623664\n"
     ]
    }
   ],
   "source": [
    "print(f\"Proportion of white victims armed: {proxy_criminal_white}. Criminal bias in articles for white victims: {average_criminal_white}\")\n",
    "print(f\"Proportion of black victims armed: {proxy_criminal_black}. Criminal bias in articles for black victims: {average_criminal_black}\")\n",
    "print(f\"Proportion of white victims with signs of mental illness: {proxy_mental_white}. Mental bias in articles for white victims: {average_mental_white}\")\n",
    "print(f\"Proportion of black victims with signs of mental illness: {proxy_mental_black}. Mental bias in articles for black victims: {average_mental_black}\")"
   ]
  }
 ],
 "metadata": {
  "kernelspec": {
   "display_name": "Python 3 (ipykernel)",
   "language": "python",
   "name": "python3"
  },
  "language_info": {
   "codemirror_mode": {
    "name": "ipython",
    "version": 3
   },
   "file_extension": ".py",
   "mimetype": "text/x-python",
   "name": "python",
   "nbconvert_exporter": "python",
   "pygments_lexer": "ipython3",
   "version": "3.11.8"
  }
 },
 "nbformat": 4,
 "nbformat_minor": 5
}
