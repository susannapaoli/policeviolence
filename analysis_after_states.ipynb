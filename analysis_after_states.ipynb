{
 "cells": [
  {
   "cell_type": "code",
   "execution_count": 1,
   "id": "1de8e350",
   "metadata": {},
   "outputs": [
    {
     "name": "stderr",
     "output_type": "stream",
     "text": [
      "[nltk_data] Downloading package wordnet to\n",
      "[nltk_data]     /Users/gigimancinelli./nltk_data...\n",
      "[nltk_data]   Package wordnet is already up-to-date!\n"
     ]
    }
   ],
   "source": [
    "import pandas as pd\n",
    "from gensim.models import Word2Vec\n",
    "import re\n",
    "from nltk.stem import SnowballStemmer, WordNetLemmatizer\n",
    "stemmer = SnowballStemmer('english')\n",
    "import nltk\n",
    "nltk.download('wordnet')\n",
    "import numpy as np\n",
    "lemmatizer = WordNetLemmatizer()\n"
   ]
  },
  {
   "cell_type": "code",
   "execution_count": 2,
   "id": "08654ca6",
   "metadata": {},
   "outputs": [],
   "source": [
    "criminality = ['theft', 'deviance', 'indictment', 'criminalization', 'guilt', 'government', 'tort', \n",
    "               'criminalness', 'criminalism', 'imprisonment', 'punishment', 'law', 'banditry', 'lawlessness', \n",
    "               'statutory', 'illegality', 'murder', 'immorality', 'sectarianism', 'dishonesty', \n",
    "               'impunity', 'criminalisation', 'brutality', 'thuggery', 'trial', 'recklessness', 'militancy', \n",
    "               'decriminalization', 'sentence', 'bigotry', 'extremism', 'viciousness', 'duplicity', \n",
    "               'xenophobia', 'mysonygy', 'stupidity', 'hypocrisy', 'irresponsibility', 'racism',\n",
    "               'illegalities', 'coercion', 'vigilantism', 'imprisonment', 'plaintiff', 'criminology', \n",
    "               'felony', 'desertion', 'charge', 'power', 'wrong']\n",
    "mental = ['schizophrenia', 'depression', 'bipolar', 'disorder', 'antisocial', 'personality', 'psychosis', \n",
    "          'psychotherapy', 'dementia', 'psychopathy', 'disability', 'anxiety', 'illness', 'alcoholism', 'brain', \n",
    "          'diagnosis', 'mind', 'symptoms', 'delusions', 'hallucinations', 'chronic', 'attention', 'deficit', \n",
    "          'hyperactivity', 'psychiatrists', 'disease', 'stress', 'epilepsy', 'agoraphobia', 'suffering', \n",
    "          'dysthymia', 'hypomania', 'sclerosis', 'psychiatric', 'psychological', 'disabilities', 'paraphilia', \n",
    "          'ocd', 'psychotic', 'syndrome', 'delusional', 'community', 'eating', 'disorder', 'anorexia', 'bulimia', \n",
    "          'nervosa', 'sickness', 'substance', 'abuse']"
   ]
  },
  {
   "cell_type": "code",
   "execution_count": 3,
   "id": "dfa8877f",
   "metadata": {},
   "outputs": [
    {
     "data": {
      "text/plain": [
       "50"
      ]
     },
     "execution_count": 3,
     "metadata": {},
     "output_type": "execute_result"
    }
   ],
   "source": [
    "len(criminality)"
   ]
  },
  {
   "cell_type": "code",
   "execution_count": 4,
   "id": "bd3e641f",
   "metadata": {},
   "outputs": [
    {
     "data": {
      "text/plain": [
       "50"
      ]
     },
     "execution_count": 4,
     "metadata": {},
     "output_type": "execute_result"
    }
   ],
   "source": [
    "len(mental)"
   ]
  },
  {
   "cell_type": "code",
   "execution_count": 5,
   "id": "37e7773b",
   "metadata": {},
   "outputs": [],
   "source": [
    "model = Word2Vec.load(\"./model/word2vec_after_floyd.model\")"
   ]
  },
  {
   "cell_type": "code",
   "execution_count": 6,
   "id": "13e5dc84",
   "metadata": {},
   "outputs": [],
   "source": [
    "df = pd.read_csv(\"./data/mpv_clean_pattern_stop.csv\")"
   ]
  },
  {
   "cell_type": "code",
   "execution_count": 7,
   "id": "18886ab7",
   "metadata": {},
   "outputs": [
    {
     "data": {
      "text/html": [
       "<div>\n",
       "<style scoped>\n",
       "    .dataframe tbody tr th:only-of-type {\n",
       "        vertical-align: middle;\n",
       "    }\n",
       "\n",
       "    .dataframe tbody tr th {\n",
       "        vertical-align: top;\n",
       "    }\n",
       "\n",
       "    .dataframe thead th {\n",
       "        text-align: right;\n",
       "    }\n",
       "</style>\n",
       "<table border=\"1\" class=\"dataframe\">\n",
       "  <thead>\n",
       "    <tr style=\"text-align: right;\">\n",
       "      <th></th>\n",
       "      <th>Unnamed: 0</th>\n",
       "      <th>name</th>\n",
       "      <th>gender</th>\n",
       "      <th>race</th>\n",
       "      <th>age</th>\n",
       "      <th>date</th>\n",
       "      <th>after_Floyd</th>\n",
       "      <th>city</th>\n",
       "      <th>state</th>\n",
       "      <th>cause_of_death</th>\n",
       "      <th>...</th>\n",
       "      <th>wapo_armed</th>\n",
       "      <th>wapo_threat_level</th>\n",
       "      <th>wapo_flee</th>\n",
       "      <th>wapo_body_camera</th>\n",
       "      <th>initial_reason</th>\n",
       "      <th>text</th>\n",
       "      <th>authors</th>\n",
       "      <th>TextColumn</th>\n",
       "      <th>cleaned</th>\n",
       "      <th>sentences</th>\n",
       "    </tr>\n",
       "  </thead>\n",
       "  <tbody>\n",
       "    <tr>\n",
       "      <th>0</th>\n",
       "      <td>0</td>\n",
       "      <td>Clyde E. Young</td>\n",
       "      <td>Male</td>\n",
       "      <td>White</td>\n",
       "      <td>28.0</td>\n",
       "      <td>2024-02-22</td>\n",
       "      <td>True</td>\n",
       "      <td>West Alton</td>\n",
       "      <td>MO</td>\n",
       "      <td>Gunshot</td>\n",
       "      <td>...</td>\n",
       "      <td>NaN</td>\n",
       "      <td>Used Weapon</td>\n",
       "      <td>Not Fleeing</td>\n",
       "      <td>NaN</td>\n",
       "      <td>Murder (suspect)</td>\n",
       "      <td>['A Godfrey man who had been charged with murd...</td>\n",
       "      <td>[['Mike Koziatek'], []]</td>\n",
       "      <td>a godfrey man who had been charged with murd...</td>\n",
       "      <td>godfrey man who had been charged with murder i...</td>\n",
       "      <td>[['godfrey', 'man', 'charg', 'murder', 'shoot'...</td>\n",
       "    </tr>\n",
       "    <tr>\n",
       "      <th>1</th>\n",
       "      <td>1</td>\n",
       "      <td>Clyde E. Young</td>\n",
       "      <td>Male</td>\n",
       "      <td>White</td>\n",
       "      <td>28.0</td>\n",
       "      <td>2024-02-22</td>\n",
       "      <td>True</td>\n",
       "      <td>West Alton</td>\n",
       "      <td>MO</td>\n",
       "      <td>Gunshot</td>\n",
       "      <td>...</td>\n",
       "      <td>NaN</td>\n",
       "      <td>Used Weapon</td>\n",
       "      <td>Not Fleeing</td>\n",
       "      <td>NaN</td>\n",
       "      <td>Murder (suspect)</td>\n",
       "      <td>['The man, identified as Clyde Young, was char...</td>\n",
       "      <td>[['Mike Koziatek'], []]</td>\n",
       "      <td>the man  identified as clyde young  was char...</td>\n",
       "      <td>the man identified as clyde young was charged ...</td>\n",
       "      <td>[['man', 'identifi', 'clyde', 'young', 'charg'...</td>\n",
       "    </tr>\n",
       "    <tr>\n",
       "      <th>2</th>\n",
       "      <td>2</td>\n",
       "      <td>Jamarcus Brown</td>\n",
       "      <td>Male</td>\n",
       "      <td>Black</td>\n",
       "      <td>35.0</td>\n",
       "      <td>2024-02-21</td>\n",
       "      <td>True</td>\n",
       "      <td>Lake Cormorant</td>\n",
       "      <td>MS</td>\n",
       "      <td>Gunshot</td>\n",
       "      <td>...</td>\n",
       "      <td>NaN</td>\n",
       "      <td>Attack</td>\n",
       "      <td>Car</td>\n",
       "      <td>Victim Facebook Live Video</td>\n",
       "      <td>Traffic Stop</td>\n",
       "      <td>['DESOTO COUNTY, Miss. (WMC) - Mississippi Bur...</td>\n",
       "      <td>[[], ['Lakiya Scott'], []]</td>\n",
       "      <td>desoto county  miss   wmc    mississippi bur...</td>\n",
       "      <td>desoto county miss wmc mississippi bureau of i...</td>\n",
       "      <td>[['desoto', 'counti', 'miss', 'wmc', 'mississi...</td>\n",
       "    </tr>\n",
       "    <tr>\n",
       "      <th>3</th>\n",
       "      <td>3</td>\n",
       "      <td>Jamarcus Brown</td>\n",
       "      <td>Male</td>\n",
       "      <td>Black</td>\n",
       "      <td>35.0</td>\n",
       "      <td>2024-02-21</td>\n",
       "      <td>True</td>\n",
       "      <td>Lake Cormorant</td>\n",
       "      <td>MS</td>\n",
       "      <td>Gunshot</td>\n",
       "      <td>...</td>\n",
       "      <td>NaN</td>\n",
       "      <td>Attack</td>\n",
       "      <td>Car</td>\n",
       "      <td>Victim Facebook Live Video</td>\n",
       "      <td>Traffic Stop</td>\n",
       "      <td>['Close Get email notifications on {{subject}}...</td>\n",
       "      <td>[[], ['Lakiya Scott'], []]</td>\n",
       "      <td>close get email notifications on   subject  ...</td>\n",
       "      <td>close get on subject are only sent and only if...</td>\n",
       "      <td>[['close', 'get', 'subject', 'sent', 'new']]</td>\n",
       "    </tr>\n",
       "    <tr>\n",
       "      <th>4</th>\n",
       "      <td>4</td>\n",
       "      <td>Jamarcus Brown</td>\n",
       "      <td>Male</td>\n",
       "      <td>Black</td>\n",
       "      <td>35.0</td>\n",
       "      <td>2024-02-21</td>\n",
       "      <td>True</td>\n",
       "      <td>Lake Cormorant</td>\n",
       "      <td>MS</td>\n",
       "      <td>Gunshot</td>\n",
       "      <td>...</td>\n",
       "      <td>NaN</td>\n",
       "      <td>Attack</td>\n",
       "      <td>Car</td>\n",
       "      <td>Victim Facebook Live Video</td>\n",
       "      <td>Traffic Stop</td>\n",
       "      <td>['The Carlos Moore Law Group said it has been ...</td>\n",
       "      <td>[[], ['Lakiya Scott'], []]</td>\n",
       "      <td>the carlos moore law group said it has been ...</td>\n",
       "      <td>the carlos moore law group said it has been re...</td>\n",
       "      <td>[['carlo', 'moor', 'law', 'group', 'said', 're...</td>\n",
       "    </tr>\n",
       "  </tbody>\n",
       "</table>\n",
       "<p>5 rows × 25 columns</p>\n",
       "</div>"
      ],
      "text/plain": [
       "   Unnamed: 0            name gender   race   age        date  after_Floyd  \\\n",
       "0           0  Clyde E. Young   Male  White  28.0  2024-02-22         True   \n",
       "1           1  Clyde E. Young   Male  White  28.0  2024-02-22         True   \n",
       "2           2  Jamarcus Brown   Male  Black  35.0  2024-02-21         True   \n",
       "3           3  Jamarcus Brown   Male  Black  35.0  2024-02-21         True   \n",
       "4           4  Jamarcus Brown   Male  Black  35.0  2024-02-21         True   \n",
       "\n",
       "             city state cause_of_death  ... wapo_armed wapo_threat_level  \\\n",
       "0      West Alton    MO        Gunshot  ...        NaN       Used Weapon   \n",
       "1      West Alton    MO        Gunshot  ...        NaN       Used Weapon   \n",
       "2  Lake Cormorant    MS        Gunshot  ...        NaN            Attack   \n",
       "3  Lake Cormorant    MS        Gunshot  ...        NaN            Attack   \n",
       "4  Lake Cormorant    MS        Gunshot  ...        NaN            Attack   \n",
       "\n",
       "     wapo_flee            wapo_body_camera    initial_reason  \\\n",
       "0  Not Fleeing                         NaN  Murder (suspect)   \n",
       "1  Not Fleeing                         NaN  Murder (suspect)   \n",
       "2          Car  Victim Facebook Live Video      Traffic Stop   \n",
       "3          Car  Victim Facebook Live Video      Traffic Stop   \n",
       "4          Car  Victim Facebook Live Video      Traffic Stop   \n",
       "\n",
       "                                                text  \\\n",
       "0  ['A Godfrey man who had been charged with murd...   \n",
       "1  ['The man, identified as Clyde Young, was char...   \n",
       "2  ['DESOTO COUNTY, Miss. (WMC) - Mississippi Bur...   \n",
       "3  ['Close Get email notifications on {{subject}}...   \n",
       "4  ['The Carlos Moore Law Group said it has been ...   \n",
       "\n",
       "                      authors  \\\n",
       "0     [['Mike Koziatek'], []]   \n",
       "1     [['Mike Koziatek'], []]   \n",
       "2  [[], ['Lakiya Scott'], []]   \n",
       "3  [[], ['Lakiya Scott'], []]   \n",
       "4  [[], ['Lakiya Scott'], []]   \n",
       "\n",
       "                                          TextColumn  \\\n",
       "0    a godfrey man who had been charged with murd...   \n",
       "1    the man  identified as clyde young  was char...   \n",
       "2    desoto county  miss   wmc    mississippi bur...   \n",
       "3    close get email notifications on   subject  ...   \n",
       "4    the carlos moore law group said it has been ...   \n",
       "\n",
       "                                             cleaned  \\\n",
       "0  godfrey man who had been charged with murder i...   \n",
       "1  the man identified as clyde young was charged ...   \n",
       "2  desoto county miss wmc mississippi bureau of i...   \n",
       "3  close get on subject are only sent and only if...   \n",
       "4  the carlos moore law group said it has been re...   \n",
       "\n",
       "                                           sentences  \n",
       "0  [['godfrey', 'man', 'charg', 'murder', 'shoot'...  \n",
       "1  [['man', 'identifi', 'clyde', 'young', 'charg'...  \n",
       "2  [['desoto', 'counti', 'miss', 'wmc', 'mississi...  \n",
       "3       [['close', 'get', 'subject', 'sent', 'new']]  \n",
       "4  [['carlo', 'moor', 'law', 'group', 'said', 're...  \n",
       "\n",
       "[5 rows x 25 columns]"
      ]
     },
     "execution_count": 7,
     "metadata": {},
     "output_type": "execute_result"
    }
   ],
   "source": [
    "df.head()"
   ]
  },
  {
   "cell_type": "code",
   "execution_count": 8,
   "id": "adac1034",
   "metadata": {},
   "outputs": [],
   "source": [
    "states = pd.read_csv(\"./data/full_dataset_mpv.csv\",low_memory=False)\n",
    "most_violent_states = states.groupby('state').count().sort_values('name', ascending=False).index[:3]\n",
    "most_violent_states = most_violent_states.tolist()"
   ]
  },
  {
   "cell_type": "code",
   "execution_count": 9,
   "id": "90cfb2e3",
   "metadata": {},
   "outputs": [
    {
     "data": {
      "text/html": [
       "<div>\n",
       "<style scoped>\n",
       "    .dataframe tbody tr th:only-of-type {\n",
       "        vertical-align: middle;\n",
       "    }\n",
       "\n",
       "    .dataframe tbody tr th {\n",
       "        vertical-align: top;\n",
       "    }\n",
       "\n",
       "    .dataframe thead th {\n",
       "        text-align: right;\n",
       "    }\n",
       "</style>\n",
       "<table border=\"1\" class=\"dataframe\">\n",
       "  <thead>\n",
       "    <tr style=\"text-align: right;\">\n",
       "      <th></th>\n",
       "      <th>Unnamed: 0</th>\n",
       "      <th>name</th>\n",
       "      <th>gender</th>\n",
       "      <th>race</th>\n",
       "      <th>age</th>\n",
       "      <th>date</th>\n",
       "      <th>after_Floyd</th>\n",
       "      <th>city</th>\n",
       "      <th>state</th>\n",
       "      <th>cause_of_death</th>\n",
       "      <th>...</th>\n",
       "      <th>wapo_armed</th>\n",
       "      <th>wapo_threat_level</th>\n",
       "      <th>wapo_flee</th>\n",
       "      <th>wapo_body_camera</th>\n",
       "      <th>initial_reason</th>\n",
       "      <th>text</th>\n",
       "      <th>authors</th>\n",
       "      <th>TextColumn</th>\n",
       "      <th>cleaned</th>\n",
       "      <th>sentences</th>\n",
       "    </tr>\n",
       "  </thead>\n",
       "  <tbody>\n",
       "    <tr>\n",
       "      <th>8</th>\n",
       "      <td>8</td>\n",
       "      <td>Name Withheld</td>\n",
       "      <td>Female</td>\n",
       "      <td>Unknown race</td>\n",
       "      <td>NaN</td>\n",
       "      <td>2024-02-20</td>\n",
       "      <td>True</td>\n",
       "      <td>Orlando</td>\n",
       "      <td>FL</td>\n",
       "      <td>Physical Restraint,Beaten</td>\n",
       "      <td>...</td>\n",
       "      <td>NaN</td>\n",
       "      <td>Other</td>\n",
       "      <td>Not Fleeing</td>\n",
       "      <td>NaN</td>\n",
       "      <td>erratic agressive behavior</td>\n",
       "      <td>['The Florida Department of Law Enforcement is...</td>\n",
       "      <td>[['Fox News Staff'], ['Amanda Rabines'], [], [...</td>\n",
       "      <td>the florida department of law enforcement is...</td>\n",
       "      <td>the florida department of law enforcement is i...</td>\n",
       "      <td>[['florida', 'depart', 'law', 'enforc', 'inves...</td>\n",
       "    </tr>\n",
       "    <tr>\n",
       "      <th>9</th>\n",
       "      <td>9</td>\n",
       "      <td>Name Withheld</td>\n",
       "      <td>Female</td>\n",
       "      <td>Unknown race</td>\n",
       "      <td>NaN</td>\n",
       "      <td>2024-02-20</td>\n",
       "      <td>True</td>\n",
       "      <td>Orlando</td>\n",
       "      <td>FL</td>\n",
       "      <td>Physical Restraint,Beaten</td>\n",
       "      <td>...</td>\n",
       "      <td>NaN</td>\n",
       "      <td>Other</td>\n",
       "      <td>Not Fleeing</td>\n",
       "      <td>NaN</td>\n",
       "      <td>erratic agressive behavior</td>\n",
       "      <td>['A woman who fought an Orange County deputy d...</td>\n",
       "      <td>[['Fox News Staff'], ['Amanda Rabines'], [], [...</td>\n",
       "      <td>a woman who fought an orange county deputy d...</td>\n",
       "      <td>woman who fought an orange county deputy died ...</td>\n",
       "      <td>[['woman', 'fought', 'orang', 'counti', 'deput...</td>\n",
       "    </tr>\n",
       "    <tr>\n",
       "      <th>10</th>\n",
       "      <td>10</td>\n",
       "      <td>Name Withheld</td>\n",
       "      <td>Female</td>\n",
       "      <td>Unknown race</td>\n",
       "      <td>NaN</td>\n",
       "      <td>2024-02-20</td>\n",
       "      <td>True</td>\n",
       "      <td>Orlando</td>\n",
       "      <td>FL</td>\n",
       "      <td>Physical Restraint,Beaten</td>\n",
       "      <td>...</td>\n",
       "      <td>NaN</td>\n",
       "      <td>Other</td>\n",
       "      <td>Not Fleeing</td>\n",
       "      <td>NaN</td>\n",
       "      <td>erratic agressive behavior</td>\n",
       "      <td>['ORANGE COUNTY, Fla. — The Florida Department...</td>\n",
       "      <td>[['Fox News Staff'], ['Amanda Rabines'], [], [...</td>\n",
       "      <td>orange county  fla    the florida department...</td>\n",
       "      <td>orange county fla the florida department of la...</td>\n",
       "      <td>[['orang', 'counti', 'fla', 'florida', 'depart...</td>\n",
       "    </tr>\n",
       "    <tr>\n",
       "      <th>11</th>\n",
       "      <td>11</td>\n",
       "      <td>Name Withheld</td>\n",
       "      <td>Female</td>\n",
       "      <td>Unknown race</td>\n",
       "      <td>NaN</td>\n",
       "      <td>2024-02-20</td>\n",
       "      <td>True</td>\n",
       "      <td>Orlando</td>\n",
       "      <td>FL</td>\n",
       "      <td>Physical Restraint,Beaten</td>\n",
       "      <td>...</td>\n",
       "      <td>NaN</td>\n",
       "      <td>Other</td>\n",
       "      <td>Not Fleeing</td>\n",
       "      <td>NaN</td>\n",
       "      <td>erratic agressive behavior</td>\n",
       "      <td>['ORANGE COUNTY, Fla. – A woman died early Tue...</td>\n",
       "      <td>[['Fox News Staff'], ['Amanda Rabines'], [], [...</td>\n",
       "      <td>orange county  fla    a woman died early tue...</td>\n",
       "      <td>orange county fla woman died early tuesday mor...</td>\n",
       "      <td>[['orang', 'counti', 'fla', 'woman', 'die', 'e...</td>\n",
       "    </tr>\n",
       "    <tr>\n",
       "      <th>37</th>\n",
       "      <td>37</td>\n",
       "      <td>Name Withheld</td>\n",
       "      <td>Male</td>\n",
       "      <td>Unknown race</td>\n",
       "      <td>40.0</td>\n",
       "      <td>2024-02-17</td>\n",
       "      <td>True</td>\n",
       "      <td>Daytona Beach</td>\n",
       "      <td>FL</td>\n",
       "      <td>Vehicle</td>\n",
       "      <td>...</td>\n",
       "      <td>NaN</td>\n",
       "      <td>NaN</td>\n",
       "      <td>Foot</td>\n",
       "      <td>NaN</td>\n",
       "      <td>driving under the influence</td>\n",
       "      <td>['A 40-year-old man is dead after being pulled...</td>\n",
       "      <td>[['Natalia Jaramillo'], []]</td>\n",
       "      <td>a XXXXXX year old man is dead after being pu...</td>\n",
       "      <td>year old man is dead after being pulled over n...</td>\n",
       "      <td>[['year', 'old', 'man', 'dead', 'pull', 'near'...</td>\n",
       "    </tr>\n",
       "  </tbody>\n",
       "</table>\n",
       "<p>5 rows × 25 columns</p>\n",
       "</div>"
      ],
      "text/plain": [
       "    Unnamed: 0           name  gender          race   age        date  \\\n",
       "8            8  Name Withheld  Female  Unknown race   NaN  2024-02-20   \n",
       "9            9  Name Withheld  Female  Unknown race   NaN  2024-02-20   \n",
       "10          10  Name Withheld  Female  Unknown race   NaN  2024-02-20   \n",
       "11          11  Name Withheld  Female  Unknown race   NaN  2024-02-20   \n",
       "37          37  Name Withheld    Male  Unknown race  40.0  2024-02-17   \n",
       "\n",
       "    after_Floyd           city state             cause_of_death  ...  \\\n",
       "8          True        Orlando    FL  Physical Restraint,Beaten  ...   \n",
       "9          True        Orlando    FL  Physical Restraint,Beaten  ...   \n",
       "10         True        Orlando    FL  Physical Restraint,Beaten  ...   \n",
       "11         True        Orlando    FL  Physical Restraint,Beaten  ...   \n",
       "37         True  Daytona Beach    FL                    Vehicle  ...   \n",
       "\n",
       "   wapo_armed wapo_threat_level    wapo_flee wapo_body_camera  \\\n",
       "8         NaN             Other  Not Fleeing              NaN   \n",
       "9         NaN             Other  Not Fleeing              NaN   \n",
       "10        NaN             Other  Not Fleeing              NaN   \n",
       "11        NaN             Other  Not Fleeing              NaN   \n",
       "37        NaN               NaN         Foot              NaN   \n",
       "\n",
       "                 initial_reason  \\\n",
       "8    erratic agressive behavior   \n",
       "9    erratic agressive behavior   \n",
       "10   erratic agressive behavior   \n",
       "11   erratic agressive behavior   \n",
       "37  driving under the influence   \n",
       "\n",
       "                                                 text  \\\n",
       "8   ['The Florida Department of Law Enforcement is...   \n",
       "9   ['A woman who fought an Orange County deputy d...   \n",
       "10  ['ORANGE COUNTY, Fla. — The Florida Department...   \n",
       "11  ['ORANGE COUNTY, Fla. – A woman died early Tue...   \n",
       "37  ['A 40-year-old man is dead after being pulled...   \n",
       "\n",
       "                                              authors  \\\n",
       "8   [['Fox News Staff'], ['Amanda Rabines'], [], [...   \n",
       "9   [['Fox News Staff'], ['Amanda Rabines'], [], [...   \n",
       "10  [['Fox News Staff'], ['Amanda Rabines'], [], [...   \n",
       "11  [['Fox News Staff'], ['Amanda Rabines'], [], [...   \n",
       "37                        [['Natalia Jaramillo'], []]   \n",
       "\n",
       "                                           TextColumn  \\\n",
       "8     the florida department of law enforcement is...   \n",
       "9     a woman who fought an orange county deputy d...   \n",
       "10    orange county  fla    the florida department...   \n",
       "11    orange county  fla    a woman died early tue...   \n",
       "37    a XXXXXX year old man is dead after being pu...   \n",
       "\n",
       "                                              cleaned  \\\n",
       "8   the florida department of law enforcement is i...   \n",
       "9   woman who fought an orange county deputy died ...   \n",
       "10  orange county fla the florida department of la...   \n",
       "11  orange county fla woman died early tuesday mor...   \n",
       "37  year old man is dead after being pulled over n...   \n",
       "\n",
       "                                            sentences  \n",
       "8   [['florida', 'depart', 'law', 'enforc', 'inves...  \n",
       "9   [['woman', 'fought', 'orang', 'counti', 'deput...  \n",
       "10  [['orang', 'counti', 'fla', 'florida', 'depart...  \n",
       "11  [['orang', 'counti', 'fla', 'woman', 'die', 'e...  \n",
       "37  [['year', 'old', 'man', 'dead', 'pull', 'near'...  \n",
       "\n",
       "[5 rows x 25 columns]"
      ]
     },
     "execution_count": 9,
     "metadata": {},
     "output_type": "execute_result"
    }
   ],
   "source": [
    "most_violent_states.append('MN')\n",
    "df = df[(df.after_Floyd == 1) & (df.state.isin(most_violent_states))]\n",
    "df.head()"
   ]
  },
  {
   "cell_type": "code",
   "execution_count": 10,
   "id": "0d75e377",
   "metadata": {},
   "outputs": [],
   "source": [
    "def create_embedding(text):\n",
    "    text = re.sub(r'[^a-zA-Z0-9]', ' ', text)\n",
    "    text = text.strip()\n",
    "    embeddings = [model.wv[word] for word in text.split()]\n",
    "    if len(embeddings) == 0:\n",
    "        return 0\n",
    "    emb = sum(embeddings) / len(embeddings)\n",
    "    return emb"
   ]
  },
  {
   "cell_type": "code",
   "execution_count": 11,
   "id": "269a679d",
   "metadata": {},
   "outputs": [],
   "source": [
    "for state in most_violent_states:\n",
    "    df_state = df[df.state == state]\n",
    "    df.loc[:,f'emb_{state}'] = df_state.sentences.apply(create_embedding)"
   ]
  },
  {
   "cell_type": "code",
   "execution_count": 12,
   "id": "30cecc4e",
   "metadata": {},
   "outputs": [
    {
     "data": {
      "text/plain": [
       "array(['Unarmed/Did Not Have Actual Weapon', 'Allegedly Armed', 'Unclear',\n",
       "       'Vehicle'], dtype=object)"
      ]
     },
     "execution_count": 12,
     "metadata": {},
     "output_type": "execute_result"
    }
   ],
   "source": [
    "df.allegedly_armed.unique()"
   ]
  },
  {
   "cell_type": "code",
   "execution_count": 13,
   "id": "815279bd",
   "metadata": {},
   "outputs": [
    {
     "data": {
      "text/plain": [
       "nan"
      ]
     },
     "execution_count": 13,
     "metadata": {},
     "output_type": "execute_result"
    }
   ],
   "source": [
    "df.iloc[0].emb_CA"
   ]
  },
  {
   "cell_type": "code",
   "execution_count": 14,
   "id": "769171a6",
   "metadata": {},
   "outputs": [],
   "source": [
    "def create_embedding_dimension_lem(l):\n",
    "    lemmatized = [lemmatizer.lemmatize(w) for w in l] \n",
    "    embeddings = [model.wv[word] for word in lemmatized if word in model.wv]\n",
    "    if len(embeddings) == 0:\n",
    "        return 0\n",
    "    emb = sum(embeddings) / len(embeddings)\n",
    "    return emb"
   ]
  },
  {
   "cell_type": "code",
   "execution_count": 15,
   "id": "91353800",
   "metadata": {},
   "outputs": [],
   "source": [
    "def create_embedding_dimension(l):\n",
    "    stemmed = [stemmer.stem(w) for w in l] \n",
    "    embeddings = [model.wv[word] for word in stemmed if word in model.wv]\n",
    "    if len(embeddings) == 0:\n",
    "        return 0\n",
    "    emb = sum(embeddings) / len(embeddings)\n",
    "    return emb"
   ]
  },
  {
   "cell_type": "code",
   "execution_count": 16,
   "id": "5ce64815",
   "metadata": {},
   "outputs": [],
   "source": [
    "criminal_dimension = create_embedding_dimension(criminality)\n",
    "mental_dimension = create_embedding_dimension(mental)"
   ]
  },
  {
   "cell_type": "code",
   "execution_count": 17,
   "id": "fcde5383",
   "metadata": {},
   "outputs": [],
   "source": [
    "criminal_dimension_lem = create_embedding_dimension_lem(criminality)\n",
    "mental_dimension_lem = create_embedding_dimension_lem(mental)"
   ]
  },
  {
   "cell_type": "code",
   "execution_count": 18,
   "id": "963d1216",
   "metadata": {},
   "outputs": [
    {
     "data": {
      "text/plain": [
       "array([ 0.48185667, -0.29067114, -0.02328756,  1.0173376 , -0.00262295,\n",
       "        0.32315028,  0.0102172 ,  0.04115352,  0.5617864 , -0.25594172,\n",
       "       -0.02258981, -0.14812975,  0.19523141,  0.14661625, -0.1231785 ,\n",
       "        0.01629736, -0.35857302, -0.3640997 ,  0.160941  , -0.14601111,\n",
       "        0.33041674, -0.19675404, -0.16748135,  0.3509027 ,  0.5266303 ,\n",
       "       -0.25047308, -0.3283377 ,  0.04945433,  0.30082163, -0.33794436,\n",
       "       -0.24332726,  0.06081062, -0.12688014, -0.04587855, -0.00920145,\n",
       "       -0.17062224,  0.33276197, -0.29765394, -0.23426452, -0.03429982,\n",
       "        0.36853418,  0.30011386,  0.22791675, -0.04922949,  0.14911349,\n",
       "        0.0801766 ,  0.40147913,  0.04598879,  0.082009  , -0.3954378 ,\n",
       "       -0.07244122, -0.8299443 ,  0.08405897, -0.02589502,  0.06998356,\n",
       "       -0.06339041, -0.5905598 ,  0.5270096 ,  0.29970676,  0.19546486,\n",
       "        0.05704613, -0.00138836, -0.58369786,  0.34153995, -0.04486914,\n",
       "        0.3250015 ,  0.1055781 , -0.3132597 , -0.16640367, -0.15611841,\n",
       "        0.08443763, -0.39021474, -0.1522359 , -0.09898946,  0.2592224 ,\n",
       "       -0.3527543 ,  0.1705478 , -0.20951061, -0.1345091 , -0.24429947,\n",
       "       -0.22727363,  0.14803031, -0.01565775,  0.15608798, -0.24257103,\n",
       "       -0.5252616 ,  0.02917722, -0.04542228, -0.2901151 , -0.06572069,\n",
       "       -0.13585795,  0.38898933, -0.27856904, -0.03769936,  0.36132827,\n",
       "        0.2289666 , -0.14710048, -0.14215602,  0.03941138, -0.51499873],\n",
       "      dtype=float32)"
      ]
     },
     "execution_count": 18,
     "metadata": {},
     "output_type": "execute_result"
    }
   ],
   "source": [
    "criminal_dimension"
   ]
  },
  {
   "cell_type": "code",
   "execution_count": 19,
   "id": "ab59908d",
   "metadata": {},
   "outputs": [
    {
     "data": {
      "text/plain": [
       "array([ 0.0835821 , -0.03890316, -0.13882746,  0.1736689 , -0.11966457,\n",
       "        0.34922296,  0.3821998 ,  0.4180838 ,  0.2965044 ,  0.05121891,\n",
       "       -0.3189833 , -0.06237726,  0.11268842, -0.05812778,  0.18638574,\n",
       "       -0.0776457 ,  0.08713111, -0.165576  , -0.09483791, -0.04078311,\n",
       "        0.21254803,  0.00299751, -0.16696435, -0.11597219,  0.05100149,\n",
       "        0.0774111 , -0.48192483,  0.02559702, -0.2398444 , -0.2764836 ,\n",
       "       -0.14428782, -0.15782695, -0.07743987, -0.15650575, -0.14785792,\n",
       "        0.0378073 ,  0.31388265, -0.2475649 , -0.18309937,  0.0907766 ,\n",
       "        0.14079157,  0.4222354 ,  0.1457017 , -0.1807374 , -0.06409986,\n",
       "        0.23389973,  0.01351767,  0.05323225,  0.76022136, -0.22741105,\n",
       "       -0.19829033, -0.36940858,  0.32045698, -0.11332951, -0.05851116,\n",
       "       -0.02790882, -0.21788566,  0.26785702, -0.01951455,  0.27599868,\n",
       "       -0.25719467, -0.15077698, -0.14044656, -0.03109357,  0.17113249,\n",
       "        0.44819504,  0.24867143, -0.10748203, -0.47295997,  0.14342818,\n",
       "       -0.14468715, -0.00610083, -0.30971956, -0.01708858, -0.03428193,\n",
       "        0.01010527,  0.02871848,  0.19424382,  0.28967735, -0.43617675,\n",
       "       -0.01085396, -0.32616526,  0.29037723,  0.2855845 , -0.02638824,\n",
       "       -0.07186969, -0.16155143, -0.29231054,  0.04811611,  0.04208583,\n",
       "       -0.67227453,  0.4651384 ,  0.07254439, -0.17643914,  0.2643589 ,\n",
       "        0.2594337 , -0.05320866, -0.20071325, -0.28517556, -0.41463235],\n",
       "      dtype=float32)"
      ]
     },
     "execution_count": 19,
     "metadata": {},
     "output_type": "execute_result"
    }
   ],
   "source": [
    "mental_dimension"
   ]
  },
  {
   "cell_type": "code",
   "execution_count": 20,
   "id": "a3043065",
   "metadata": {},
   "outputs": [],
   "source": [
    "def cosine_similarity(v1, v2):\n",
    "    dot_ = np.dot(v1, v2)\n",
    "    norm1 = np.linalg.norm(v1)\n",
    "    norm2 = np.linalg.norm(v2)\n",
    "    if norm1 > 0 and norm2 > 0:\n",
    "        return dot_ / (norm1 * norm2)\n",
    "    else:\n",
    "        return 0.0"
   ]
  },
  {
   "cell_type": "code",
   "execution_count": 21,
   "id": "6eaec8d7",
   "metadata": {},
   "outputs": [
    {
     "data": {
      "text/plain": [
       "0.46419075"
      ]
     },
     "execution_count": 21,
     "metadata": {},
     "output_type": "execute_result"
    }
   ],
   "source": [
    "cosine_similarity(criminal_dimension, mental_dimension)"
   ]
  },
  {
   "cell_type": "code",
   "execution_count": 22,
   "id": "387f3cf2",
   "metadata": {},
   "outputs": [
    {
     "data": {
      "text/plain": [
       "0.3644527"
      ]
     },
     "execution_count": 22,
     "metadata": {},
     "output_type": "execute_result"
    }
   ],
   "source": [
    "cosine_similarity(criminal_dimension_lem, mental_dimension_lem)"
   ]
  },
  {
   "cell_type": "code",
   "execution_count": 23,
   "id": "d03521f5",
   "metadata": {},
   "outputs": [],
   "source": [
    "for state in most_violent_states:\n",
    "    df.loc[:,f'cosine_{state}_criminal'] = df[f'emb_{state}'].apply(lambda x: cosine_similarity(criminal_dimension, x))\n",
    "    df.loc[:,f'cosine_{state}_mental'] = df[f'emb_{state}'].apply(lambda x: cosine_similarity(mental_dimension, x))"
   ]
  },
  {
   "cell_type": "code",
   "execution_count": 24,
   "id": "95e9b7b7",
   "metadata": {},
   "outputs": [],
   "source": [
    "for state in most_violent_states: \n",
    "    df.loc[:,f'cosine_{state}_criminal_lem'] = df[f'emb_{state}'].apply(lambda x: cosine_similarity(criminal_dimension_lem, x))\n",
    "    df.loc[:,f'cosine_{state}_mental_lem'] = df[f'emb_{state}'].apply(lambda x: cosine_similarity(mental_dimension_lem, x))"
   ]
  },
  {
   "cell_type": "code",
   "execution_count": 25,
   "id": "6357f8bd",
   "metadata": {},
   "outputs": [
    {
     "data": {
      "text/plain": [
       "Index(['Unnamed: 0', 'name', 'gender', 'race', 'age', 'date', 'after_Floyd',\n",
       "       'city', 'state', 'cause_of_death', 'circumstances', 'news_urls',\n",
       "       'signs_of_mental_illness', 'officer_charged', 'allegedly_armed',\n",
       "       'wapo_armed', 'wapo_threat_level', 'wapo_flee', 'wapo_body_camera',\n",
       "       'initial_reason', 'text', 'authors', 'TextColumn', 'cleaned',\n",
       "       'sentences', 'emb_CA', 'emb_TX', 'emb_FL', 'emb_MN',\n",
       "       'cosine_CA_criminal', 'cosine_CA_mental', 'cosine_TX_criminal',\n",
       "       'cosine_TX_mental', 'cosine_FL_criminal', 'cosine_FL_mental',\n",
       "       'cosine_MN_criminal', 'cosine_MN_mental', 'cosine_CA_criminal_lem',\n",
       "       'cosine_CA_mental_lem', 'cosine_TX_criminal_lem',\n",
       "       'cosine_TX_mental_lem', 'cosine_FL_criminal_lem',\n",
       "       'cosine_FL_mental_lem', 'cosine_MN_criminal_lem',\n",
       "       'cosine_MN_mental_lem'],\n",
       "      dtype='object')"
      ]
     },
     "execution_count": 25,
     "metadata": {},
     "output_type": "execute_result"
    }
   ],
   "source": [
    "df.columns"
   ]
  },
  {
   "cell_type": "code",
   "execution_count": 26,
   "id": "eacdab35",
   "metadata": {},
   "outputs": [],
   "source": [
    "from collections import defaultdict\n",
    "\n",
    "\n",
    "def extract_sign_mental(col):\n",
    "    if col == 'Yes' or col == 'Drug or Alcohol Use' or col == 'History of Drug or Alcohol Use':\n",
    "        return 1\n",
    "    else:\n",
    "        return 0\n",
    "    \n",
    "def extract_sign_armed(col):\n",
    "    if col == 'Allegedly Armed' or col == 'Vehicle':\n",
    "        return 1\n",
    "    else:\n",
    "        return 0\n",
    "\n",
    "def code_to_name(state_code):\n",
    "    state_names = { 'MN': 'Minnesota',  'CA': 'California', 'TX': 'Texas', 'FL': 'Florida'}\n",
    "    return state_names[state_code]  \n",
    "\n",
    "def compare_proxy(method): \n",
    "    \n",
    "    ''' method: 'stemmer' or 'lemmatizer' \n",
    "    Returns the proxy and the average bias for each of the most violent states'''\n",
    "    \n",
    "    distances = defaultdict(dict)   \n",
    "    for state in most_violent_states: \n",
    "        if method == 'stemmer': \n",
    "            #create average criminal and mental dimension\n",
    "            average_criminal_white = df[(df.race == 'White') & (df.state == state)][f'cosine_{state}_criminal'].sum() / len(df[(df.race == 'White') & (df.state == state)])\n",
    "            average_criminal_black = df[(df.race == 'Black') & (df.state == state)][f'cosine_{state}_criminal'].sum() / len(df[(df.race == 'Black') & (df.state == state)])\n",
    "            average_mental_white = df[(df.race == 'White') & (df.state == state)][f'cosine_{state}_mental'].sum() / len(df[(df.race == 'White') & (df.state == state)])\n",
    "            average_mental_black = df[(df.race == 'Black') & (df.state == state)][f'cosine_{state}_mental'].sum() / len(df[(df.race == 'Black') & (df.state == state)])\n",
    "            \n",
    "            df[f'mental_{state}'] = df['signs_of_mental_illness'].apply(extract_sign_mental)\n",
    "            df[f'criminal_{state}'] = df['allegedly_armed'].apply(extract_sign_armed)\n",
    "            \n",
    "            proxy_criminal_white = df[(df.race == 'White') & (df.state == state)][f'criminal_{state}'].sum() / len(df[(df.race == 'White') & (df.state == state)])\n",
    "            proxy_criminal_black = df[(df.race == 'Black') & (df.state == state)][f'criminal_{state}'].sum() / len(df[(df.race == 'Black') & (df.state == state)])\n",
    "            proxy_mental_white = df[(df.race == 'White') & (df.state == state)][f'mental_{state}'].sum() / len(df[(df.race == 'White') & (df.state == state)])\n",
    "            \n",
    "            proxy_mental_black = df[(df.race == 'Black') & (df.state == state)][f'mental_{state}'].sum() / len(df[(df.race == 'Black') & (df.state == state)])\n",
    "            #calculate the distance between the proxies\n",
    "            distances[state] = {'criminal_bias_white': average_criminal_white*proxy_criminal_white, 'criminal_bias_black': average_criminal_black*proxy_criminal_black,\n",
    "                    'mental_bias_white': average_mental_white*proxy_mental_white, 'mental_bias_black':  average_mental_black*proxy_mental_black}\n",
    "            \n",
    "            print(f\"State: {code_to_name(state)}, method: {method}\")\n",
    "            print(f\"Proportion of white victims armed: {proxy_criminal_white}. Criminal bias in articles for white victims: {average_criminal_white}\")\n",
    "            print(f\"Proportion of black victims armed: {proxy_criminal_black}. Criminal bias in articles for black victims: {average_criminal_black}\")\n",
    "            print(f\"Proportion of white victims with signs of mental illness: {proxy_mental_white}. Mental bias in articles for white victims: {average_mental_white}\")\n",
    "            print(f\"Proportion of black victims with signs of mental illness: {proxy_mental_black}. Mental bias in articles for black victims: {average_mental_black}\")\n",
    "            df.drop(columns=[f'mental_{state}', f'criminal_{state}'], inplace=True)\n",
    "        else: \n",
    "            #create average criminal and mental dimension\n",
    "            average_criminal_white = df[(df.race == 'White') & (df.state == state)][f'cosine_{state}_criminal_lem'].sum() / len(df[(df.race == 'White') & (df.state == state)])\n",
    "            average_criminal_black = df[(df.race == 'Black') & (df.state == state)][f'cosine_{state}_criminal_lem'].sum() / len(df[(df.race == 'Black') & (df.state == state)])\n",
    "            average_mental_white = df[(df.race == 'White') & (df.state == state)][f'cosine_{state}_criminal_lem'].sum() / len(df[(df.race == 'White') & (df.state == state)])\n",
    "            average_mental_black = df[(df.race == 'Black') & (df.state == state)][f'cosine_{state}_criminal_lem'].sum() / len(df[(df.race == 'Black') & (df.state == state)])\n",
    "            \n",
    "            df[f'mental_{state}_lem'] = df['signs_of_mental_illness'].apply(extract_sign_mental)\n",
    "            df[f'criminal_{state}_lem'] = df['allegedly_armed'].apply(extract_sign_armed)\n",
    "            \n",
    "            proxy_criminal_white = df[(df.race == 'White') & (df.state == state)][f'criminal_{state}_lem'].sum() / len(df[(df.race == 'White') & (df.state == state)])\n",
    "            proxy_criminal_black = df[(df.race == 'Black') & (df.state == state)][f'criminal_{state}_lem'].sum() / len(df[(df.race == 'Black') & (df.state == state)])\n",
    "            proxy_mental_white = df[(df.race == 'White') & (df.state == state)][f'mental_{state}_lem'].sum() / len(df[(df.race == 'White') & (df.state == state)])\n",
    "            proxy_mental_black = df[(df.race == 'Black') & (df.state == state)][f'mental_{state}_lem'].sum() / len(df[(df.race == 'Black') & (df.state == state)])\n",
    "            \n",
    "            #calculate the distance between the proxies\n",
    "            distances[state] = {'criminal_bias_white': average_criminal_white*proxy_criminal_white, 'criminal_bias_black': average_criminal_black*proxy_criminal_black,\n",
    "                                'mental_bias_white': average_mental_white*proxy_mental_white, 'mental_bias_black':  average_mental_black*proxy_mental_black}\n",
    "            \n",
    "            print(f\"State: {code_to_name(state)}, method: {method}\")\n",
    "            print(f\"Proportion of white victims armed: {proxy_criminal_white}. Criminal bias in articles for white victims: {average_criminal_white}\")\n",
    "            print(f\"Proportion of black victims armed: {proxy_criminal_black}. Criminal bias in articles for black victims: {average_criminal_black}\")\n",
    "            print(f\"Proportion of white victims with signs of mental illness: {proxy_mental_white}. Mental bias in articles for white victims: {average_mental_white}\")\n",
    "            print(f\"Proportion of black victims with signs of mental illness: {proxy_mental_black}. Mental bias in articles for black victims: {average_mental_black}\")\n",
    "            df.drop(columns=[f'mental_{state}_lem', f'criminal_{state}_lem'], inplace=True)\n",
    "    return distances"
   ]
  },
  {
   "cell_type": "code",
   "execution_count": 27,
   "id": "83f056de",
   "metadata": {},
   "outputs": [
    {
     "name": "stdout",
     "output_type": "stream",
     "text": [
      "State: California, method: stemmer\n",
      "Proportion of white victims armed: 0.7251184834123223. Criminal bias in articles for white victims: 0.30490814664917537\n",
      "Proportion of black victims armed: 0.8523489932885906. Criminal bias in articles for black victims: 0.30884279510718865\n",
      "Proportion of white victims with signs of mental illness: 0.36018957345971564. Mental bias in articles for white victims: 0.11990676641186161\n",
      "Proportion of black victims with signs of mental illness: 0.37583892617449666. Mental bias in articles for black victims: 0.12899744075616734\n",
      "State: Texas, method: stemmer\n",
      "Proportion of white victims armed: 0.782608695652174. Criminal bias in articles for white victims: 0.2973437474010894\n",
      "Proportion of black victims armed: 0.7227722772277227. Criminal bias in articles for black victims: 0.3489597737789154\n",
      "Proportion of white victims with signs of mental illness: 0.2670807453416149. Mental bias in articles for white victims: 0.11066922450854634\n",
      "Proportion of black victims with signs of mental illness: 0.14356435643564355. Mental bias in articles for black victims: 0.1551040639123409\n",
      "State: Florida, method: stemmer\n",
      "Proportion of white victims armed: 0.86. Criminal bias in articles for white victims: 0.33081511849164963\n",
      "Proportion of black victims armed: 0.7326732673267327. Criminal bias in articles for black victims: 0.34511085548023185\n",
      "Proportion of white victims with signs of mental illness: 0.352. Mental bias in articles for white victims: 0.1555931420167908\n",
      "Proportion of black victims with signs of mental illness: 0.2376237623762376. Mental bias in articles for black victims: 0.15549733206666638\n",
      "State: Minnesota, method: stemmer\n",
      "Proportion of white victims armed: 0.9791666666666666. Criminal bias in articles for white victims: 0.3898039720952511\n",
      "Proportion of black victims armed: 0.847457627118644. Criminal bias in articles for black victims: 0.4405191495256909\n",
      "Proportion of white victims with signs of mental illness: 0.6041666666666666. Mental bias in articles for white victims: 0.17778446222655475\n",
      "Proportion of black victims with signs of mental illness: 0.06779661016949153. Mental bias in articles for black victims: 0.2059961777117293\n"
     ]
    },
    {
     "data": {
      "text/plain": [
       "defaultdict(dict,\n",
       "            {'CA': {'criminal_bias_white': 0.22109453287831202,\n",
       "              'criminal_bias_black': 0.2632418454940467,\n",
       "              'mental_bias_white': 0.04318916704882219,\n",
       "              'mental_bias_black': 0.04848225961305618},\n",
       "             'TX': {'criminal_bias_white': 0.23270380231389604,\n",
       "              'criminal_bias_black': 0.2522184503550577,\n",
       "              'mental_bias_white': 0.029557618968121074,\n",
       "              'mental_bias_black': 0.022267415116128148},\n",
       "             'FL': {'criminal_bias_white': 0.2845010019028187,\n",
       "              'criminal_bias_black': 0.2528534980746253,\n",
       "              'mental_bias_white': 0.05476878598991036,\n",
       "              'mental_bias_black': 0.036949861085148444},\n",
       "             'MN': {'criminal_bias_white': 0.38168305600993335,\n",
       "              'criminal_bias_black': 0.3733213131573651,\n",
       "              'mental_bias_white': 0.10741144592854349,\n",
       "              'mental_bias_black': 0.01396584255672741}})"
      ]
     },
     "execution_count": 27,
     "metadata": {},
     "output_type": "execute_result"
    }
   ],
   "source": [
    "stem_biases = compare_proxy('stemmer')\n",
    "stem_biases"
   ]
  },
  {
   "cell_type": "code",
   "execution_count": 32,
   "id": "c1b22efc",
   "metadata": {},
   "outputs": [],
   "source": [
    "import matplotlib.pyplot as plt\n",
    "\n",
    "def plot_bias(biases, method = 'stemmer'): \n",
    "    # Create a DataFrame from the dictionary\n",
    "    data = pd.DataFrame(biases).T\n",
    "\n",
    "    # Plotting using DataFrame's plot method\n",
    "    fig, ax = plt.subplots(figsize=(10, 6))\n",
    "    data.plot(kind='bar', ax=ax, color=['#FF9999', '#9999FF', '#FFCC99', '#99CCFF'])\n",
    "    ax.set_title('Comparison of Bias Metrics Across States after Floyd')\n",
    "    ax.set_xlabel('State')\n",
    "    ax.set_ylabel(f'Bias Value with {method}')\n",
    "    ax.legend(title='Metric')\n",
    "\n",
    "    plt.show()"
   ]
  },
  {
   "cell_type": "code",
   "execution_count": 33,
   "id": "22c2971b",
   "metadata": {},
   "outputs": [
    {
     "data": {
      "image/png": "[encoded data removed]",
      "text/plain": [
       "<Figure size 1000x600 with 1 Axes>"
      ]
     },
     "metadata": {},
     "output_type": "display_data"
    }
   ],
   "source": [
    "plot_bias(stem_biases)"
   ]
  },
  {
   "cell_type": "code",
   "execution_count": 30,
   "id": "3e3824f7",
   "metadata": {},
   "outputs": [
    {
     "name": "stdout",
     "output_type": "stream",
     "text": [
      "State: California, method: lemmatizer\n",
      "Proportion of white victims armed: 0.7251184834123223. Criminal bias in articles for white victims: 0.29618885587035765\n",
      "Proportion of black victims armed: 0.8523489932885906. Criminal bias in articles for black victims: 0.30736643065942215\n",
      "Proportion of white victims with signs of mental illness: 0.36018957345971564. Mental bias in articles for white victims: 0.29618885587035765\n",
      "Proportion of black victims with signs of mental illness: 0.37583892617449666. Mental bias in articles for black victims: 0.30736643065942215\n",
      "State: Texas, method: lemmatizer\n",
      "Proportion of white victims armed: 0.782608695652174. Criminal bias in articles for white victims: 0.2834125648929466\n",
      "Proportion of black victims armed: 0.7227722772277227. Criminal bias in articles for black victims: 0.3435489089772253\n",
      "Proportion of white victims with signs of mental illness: 0.2670807453416149. Mental bias in articles for white victims: 0.2834125648929466\n",
      "Proportion of black victims with signs of mental illness: 0.14356435643564355. Mental bias in articles for black victims: 0.3435489089772253\n",
      "State: Florida, method: lemmatizer\n",
      "Proportion of white victims armed: 0.86. Criminal bias in articles for white victims: 0.32898163121938706\n",
      "Proportion of black victims armed: 0.7326732673267327. Criminal bias in articles for black victims: 0.34635181887315053\n",
      "Proportion of white victims with signs of mental illness: 0.352. Mental bias in articles for white victims: 0.32898163121938706\n",
      "Proportion of black victims with signs of mental illness: 0.2376237623762376. Mental bias in articles for black victims: 0.34635181887315053\n",
      "State: Minnesota, method: lemmatizer\n",
      "Proportion of white victims armed: 0.9791666666666666. Criminal bias in articles for white victims: 0.3657164390509327\n",
      "Proportion of black victims armed: 0.847457627118644. Criminal bias in articles for black victims: 0.4261723082449477\n",
      "Proportion of white victims with signs of mental illness: 0.6041666666666666. Mental bias in articles for white victims: 0.3657164390509327\n",
      "Proportion of black victims with signs of mental illness: 0.06779661016949153. Mental bias in articles for black victims: 0.4261723082449477\n"
     ]
    },
    {
     "data": {
      "text/plain": [
       "defaultdict(dict,\n",
       "            {'CA': {'criminal_bias_white': 0.21477201397234466,\n",
       "              'criminal_bias_black': 0.26198346774326586,\n",
       "              'mental_bias_white': 0.10668413765946531,\n",
       "              'mental_bias_black': 0.11552026924112511},\n",
       "             'TX': {'criminal_bias_white': 0.22180113774230603,\n",
       "              'criminal_bias_black': 0.24830762728056877,\n",
       "              'mental_bias_white': 0.07569403907078698,\n",
       "              'mental_bias_black': 0.049321378021482835},\n",
       "             'FL': {'criminal_bias_white': 0.28292420284867287,\n",
       "              'criminal_bias_black': 0.2537627187783479,\n",
       "              'mental_bias_white': 0.11580153418922425,\n",
       "              'mental_bias_black': 0.0823014223064912},\n",
       "             'MN': {'criminal_bias_white': 0.3580973465707049,\n",
       "              'criminal_bias_black': 0.3611629730889387,\n",
       "              'mental_bias_white': 0.22095368192660517,\n",
       "              'mental_bias_black': 0.028893037847115097}})"
      ]
     },
     "execution_count": 30,
     "metadata": {},
     "output_type": "execute_result"
    }
   ],
   "source": [
    "lem_biases = compare_proxy('lemmatizer')\n",
    "lem_biases"
   ]
  },
  {
   "cell_type": "code",
   "execution_count": 34,
   "id": "30a12029",
   "metadata": {},
   "outputs": [
    {
     "data": {
      "image/png": "[encoded data removed]",
      "text/plain": [
       "<Figure size 1000x600 with 1 Axes>"
      ]
     },
     "metadata": {},
     "output_type": "display_data"
    }
   ],
   "source": [
    "plot_bias(lem_biases, 'lemmatizer')"
   ]
  }
 ],
 "metadata": {
  "kernelspec": {
   "display_name": "Python 3 (ipykernel)",
   "language": "python",
   "name": "python3"
  },
  "language_info": {
   "codemirror_mode": {
    "name": "ipython",
    "version": 3
   },
   "file_extension": ".py",
   "mimetype": "text/x-python",
   "name": "python",
   "nbconvert_exporter": "python",
   "pygments_lexer": "ipython3",
   "version": "3.11.8"
  }
 },
 "nbformat": 4,
 "nbformat_minor": 5
}
